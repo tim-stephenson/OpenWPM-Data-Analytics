{
 "cells": [
  {
   "cell_type": "code",
   "execution_count": 1,
   "metadata": {},
   "outputs": [],
   "source": [
    "import sqlite3\n",
    "import plyvel\n",
    "from pathlib import Path\n",
    "import re\n",
    "import json\n",
    "from functions.runHealth import runHealth\n",
    "# from functions.dynamic_analysis import Dynamic\n",
    "import requests"
   ]
  },
  {
   "cell_type": "code",
   "execution_count": 2,
   "metadata": {},
   "outputs": [
    {
     "data": {
      "text/plain": [
       "'Connected: @/mnt/crawls/datadir-0-10/crawl-data.sqlite'"
      ]
     },
     "execution_count": 2,
     "metadata": {},
     "output_type": "execute_result"
    }
   ],
   "source": [
    "# path : Path = Path('/home/ndanner_plp/OpenWPM/crawl-data/datadir8000')\n",
    "path : Path = Path('/mnt/crawls/datadir-0-10')\n",
    "con : sqlite3.Connection = sqlite3.connect( str(path.joinpath(\"crawl-data.sqlite\")) )\n",
    "db = plyvel.DB( str(path.joinpath(\"leveldb\")) )\n",
    "%load_ext sql\n",
    "%sql sqlite:///{path}/crawl-data.sqlite"
   ]
  },
  {
   "cell_type": "code",
   "execution_count": 3,
   "metadata": {},
   "outputs": [
    {
     "name": "stdout",
     "output_type": "stream",
     "text": [
      "total visits: 10, failed/incomplete visits: 3. Success percentage: 70%\n"
     ]
    }
   ],
   "source": [
    "n, f = runHealth(con)\n",
    "print(f\"total visits: {n}, failed/incomplete visits: {f}. Success percentage: {round(100* (1 - f/n)) }%\")"
   ]
  },
  {
   "cell_type": "code",
   "execution_count": 4,
   "metadata": {},
   "outputs": [
    {
     "name": "stdout",
     "output_type": "stream",
     "text": [
      " * sqlite:////mnt/crawls/datadir-0-10/crawl-data.sqlite\n",
      "Done.\n"
     ]
    },
    {
     "data": {
      "text/html": [
       "<table>\n",
       "    <thead>\n",
       "        <tr>\n",
       "            <th>visit_id</th>\n",
       "            <th>site_url</th>\n",
       "        </tr>\n",
       "    </thead>\n",
       "    <tbody>\n",
       "        <tr>\n",
       "            <td>4006986725082397</td>\n",
       "            <td>http://www.a-msedge.net</td>\n",
       "        </tr>\n",
       "        <tr>\n",
       "            <td>5338836672544214</td>\n",
       "            <td>http://www.akamaiedge.net</td>\n",
       "        </tr>\n",
       "    </tbody>\n",
       "</table>"
      ],
      "text/plain": [
       "[(4006986725082397, 'http://www.a-msedge.net'),\n",
       " (5338836672544214, 'http://www.akamaiedge.net')]"
      ]
     },
     "execution_count": 4,
     "metadata": {},
     "output_type": "execute_result"
    }
   ],
   "source": [
    "%%sql\n",
    "SELECT incomplete_visits.visit_id, site_visits.site_url\n",
    "FROM incomplete_visits\n",
    "INNER JOIN site_visits \n",
    "ON incomplete_visits.visit_id = site_visits.visit_id"
   ]
  },
  {
   "cell_type": "code",
   "execution_count": 5,
   "metadata": {},
   "outputs": [
    {
     "name": "stdout",
     "output_type": "stream",
     "text": [
      " * sqlite:////mnt/crawls/datadir-0-10/crawl-data.sqlite\n",
      "Done.\n"
     ]
    },
    {
     "data": {
      "text/html": [
       "<table>\n",
       "    <thead>\n",
       "        <tr>\n",
       "            <th>symbol</th>\n",
       "            <th>n_sites</th>\n",
       "            <th>n</th>\n",
       "        </tr>\n",
       "    </thead>\n",
       "    <tbody>\n",
       "        <tr>\n",
       "            <td>CanvasRenderingContext2D.arc</td>\n",
       "            <td>1</td>\n",
       "            <td>1</td>\n",
       "        </tr>\n",
       "        <tr>\n",
       "            <td>CanvasRenderingContext2D.beginPath</td>\n",
       "            <td>1</td>\n",
       "            <td>2</td>\n",
       "        </tr>\n",
       "        <tr>\n",
       "            <td>CanvasRenderingContext2D.fill</td>\n",
       "            <td>1</td>\n",
       "            <td>1</td>\n",
       "        </tr>\n",
       "        <tr>\n",
       "            <td>CanvasRenderingContext2D.fillStyle</td>\n",
       "            <td>1</td>\n",
       "            <td>1</td>\n",
       "        </tr>\n",
       "        <tr>\n",
       "            <td>CanvasRenderingContext2D.lineTo</td>\n",
       "            <td>1</td>\n",
       "            <td>2</td>\n",
       "        </tr>\n",
       "        <tr>\n",
       "            <td>CanvasRenderingContext2D.lineWidth</td>\n",
       "            <td>1</td>\n",
       "            <td>1</td>\n",
       "        </tr>\n",
       "        <tr>\n",
       "            <td>CanvasRenderingContext2D.moveTo</td>\n",
       "            <td>1</td>\n",
       "            <td>2</td>\n",
       "        </tr>\n",
       "        <tr>\n",
       "            <td>CanvasRenderingContext2D.stroke</td>\n",
       "            <td>1</td>\n",
       "            <td>2</td>\n",
       "        </tr>\n",
       "        <tr>\n",
       "            <td>CanvasRenderingContext2D.strokeStyle</td>\n",
       "            <td>1</td>\n",
       "            <td>1</td>\n",
       "        </tr>\n",
       "        <tr>\n",
       "            <td>HTMLCanvasElement.getContext</td>\n",
       "            <td>4</td>\n",
       "            <td>15</td>\n",
       "        </tr>\n",
       "        <tr>\n",
       "            <td>HTMLCanvasElement.height</td>\n",
       "            <td>1</td>\n",
       "            <td>1</td>\n",
       "        </tr>\n",
       "        <tr>\n",
       "            <td>HTMLCanvasElement.width</td>\n",
       "            <td>1</td>\n",
       "            <td>1</td>\n",
       "        </tr>\n",
       "        <tr>\n",
       "            <td>window.navigator.appName</td>\n",
       "            <td>1</td>\n",
       "            <td>2</td>\n",
       "        </tr>\n",
       "        <tr>\n",
       "            <td>window.navigator.appVersion</td>\n",
       "            <td>6</td>\n",
       "            <td>11</td>\n",
       "        </tr>\n",
       "        <tr>\n",
       "            <td>window.navigator.cookieEnabled</td>\n",
       "            <td>4</td>\n",
       "            <td>9</td>\n",
       "        </tr>\n",
       "        <tr>\n",
       "            <td>window.navigator.doNotTrack</td>\n",
       "            <td>1</td>\n",
       "            <td>2</td>\n",
       "        </tr>\n",
       "        <tr>\n",
       "            <td>window.navigator.hardwareConcurrency</td>\n",
       "            <td>5</td>\n",
       "            <td>23</td>\n",
       "        </tr>\n",
       "        <tr>\n",
       "            <td>window.navigator.javaEnabled</td>\n",
       "            <td>1</td>\n",
       "            <td>1</td>\n",
       "        </tr>\n",
       "        <tr>\n",
       "            <td>window.navigator.language</td>\n",
       "            <td>1</td>\n",
       "            <td>10</td>\n",
       "        </tr>\n",
       "        <tr>\n",
       "            <td>window.navigator.locks.request</td>\n",
       "            <td>1</td>\n",
       "            <td>1</td>\n",
       "        </tr>\n",
       "        <tr>\n",
       "            <td>window.navigator.maxTouchPoints</td>\n",
       "            <td>6</td>\n",
       "            <td>13</td>\n",
       "        </tr>\n",
       "        <tr>\n",
       "            <td>window.navigator.onLine</td>\n",
       "            <td>4</td>\n",
       "            <td>9</td>\n",
       "        </tr>\n",
       "        <tr>\n",
       "            <td>window.navigator.oscpu</td>\n",
       "            <td>1</td>\n",
       "            <td>3</td>\n",
       "        </tr>\n",
       "        <tr>\n",
       "            <td>window.navigator.permissions.query</td>\n",
       "            <td>2</td>\n",
       "            <td>2</td>\n",
       "        </tr>\n",
       "        <tr>\n",
       "            <td>window.navigator.platform</td>\n",
       "            <td>5</td>\n",
       "            <td>22</td>\n",
       "        </tr>\n",
       "        <tr>\n",
       "            <td>window.navigator.product</td>\n",
       "            <td>3</td>\n",
       "            <td>17</td>\n",
       "        </tr>\n",
       "        <tr>\n",
       "            <td>window.navigator.productSub</td>\n",
       "            <td>1</td>\n",
       "            <td>3</td>\n",
       "        </tr>\n",
       "        <tr>\n",
       "            <td>window.navigator.sendBeacon</td>\n",
       "            <td>3</td>\n",
       "            <td>6</td>\n",
       "        </tr>\n",
       "        <tr>\n",
       "            <td>window.navigator.serviceWorker.getRegistration</td>\n",
       "            <td>1</td>\n",
       "            <td>2</td>\n",
       "        </tr>\n",
       "        <tr>\n",
       "            <td>window.navigator.serviceWorker.getRegistrations</td>\n",
       "            <td>1</td>\n",
       "            <td>1</td>\n",
       "        </tr>\n",
       "        <tr>\n",
       "            <td>window.navigator.serviceWorker.ready.then</td>\n",
       "            <td>1</td>\n",
       "            <td>1</td>\n",
       "        </tr>\n",
       "        <tr>\n",
       "            <td>window.navigator.serviceWorker.register</td>\n",
       "            <td>1</td>\n",
       "            <td>1</td>\n",
       "        </tr>\n",
       "        <tr>\n",
       "            <td>window.navigator.userAgent</td>\n",
       "            <td>8</td>\n",
       "            <td>532</td>\n",
       "        </tr>\n",
       "        <tr>\n",
       "            <td>window.navigator.vendor</td>\n",
       "            <td>3</td>\n",
       "            <td>4</td>\n",
       "        </tr>\n",
       "        <tr>\n",
       "            <td>window.navigator.webdriver</td>\n",
       "            <td>4</td>\n",
       "            <td>8</td>\n",
       "        </tr>\n",
       "        <tr>\n",
       "            <td>window.screen.availHeight</td>\n",
       "            <td>2</td>\n",
       "            <td>8</td>\n",
       "        </tr>\n",
       "        <tr>\n",
       "            <td>window.screen.availLeft</td>\n",
       "            <td>1</td>\n",
       "            <td>1</td>\n",
       "        </tr>\n",
       "        <tr>\n",
       "            <td>window.screen.availTop</td>\n",
       "            <td>1</td>\n",
       "            <td>6</td>\n",
       "        </tr>\n",
       "        <tr>\n",
       "            <td>window.screen.availWidth</td>\n",
       "            <td>2</td>\n",
       "            <td>13</td>\n",
       "        </tr>\n",
       "        <tr>\n",
       "            <td>window.screen.colorDepth</td>\n",
       "            <td>3</td>\n",
       "            <td>14</td>\n",
       "        </tr>\n",
       "        <tr>\n",
       "            <td>window.screen.hasOwnProperty</td>\n",
       "            <td>1</td>\n",
       "            <td>1</td>\n",
       "        </tr>\n",
       "        <tr>\n",
       "            <td>window.screen.height</td>\n",
       "            <td>5</td>\n",
       "            <td>24</td>\n",
       "        </tr>\n",
       "        <tr>\n",
       "            <td>window.screen.orientation.addEventListener</td>\n",
       "            <td>1</td>\n",
       "            <td>1</td>\n",
       "        </tr>\n",
       "        <tr>\n",
       "            <td>window.screen.orientation.type</td>\n",
       "            <td>2</td>\n",
       "            <td>20</td>\n",
       "        </tr>\n",
       "        <tr>\n",
       "            <td>window.screen.pixelDepth</td>\n",
       "            <td>1</td>\n",
       "            <td>3</td>\n",
       "        </tr>\n",
       "        <tr>\n",
       "            <td>window.screen.width</td>\n",
       "            <td>5</td>\n",
       "            <td>24</td>\n",
       "        </tr>\n",
       "    </tbody>\n",
       "</table>"
      ],
      "text/plain": [
       "[('CanvasRenderingContext2D.arc', 1, 1),\n",
       " ('CanvasRenderingContext2D.beginPath', 1, 2),\n",
       " ('CanvasRenderingContext2D.fill', 1, 1),\n",
       " ('CanvasRenderingContext2D.fillStyle', 1, 1),\n",
       " ('CanvasRenderingContext2D.lineTo', 1, 2),\n",
       " ('CanvasRenderingContext2D.lineWidth', 1, 1),\n",
       " ('CanvasRenderingContext2D.moveTo', 1, 2),\n",
       " ('CanvasRenderingContext2D.stroke', 1, 2),\n",
       " ('CanvasRenderingContext2D.strokeStyle', 1, 1),\n",
       " ('HTMLCanvasElement.getContext', 4, 15),\n",
       " ('HTMLCanvasElement.height', 1, 1),\n",
       " ('HTMLCanvasElement.width', 1, 1),\n",
       " ('window.navigator.appName', 1, 2),\n",
       " ('window.navigator.appVersion', 6, 11),\n",
       " ('window.navigator.cookieEnabled', 4, 9),\n",
       " ('window.navigator.doNotTrack', 1, 2),\n",
       " ('window.navigator.hardwareConcurrency', 5, 23),\n",
       " ('window.navigator.javaEnabled', 1, 1),\n",
       " ('window.navigator.language', 1, 10),\n",
       " ('window.navigator.locks.request', 1, 1),\n",
       " ('window.navigator.maxTouchPoints', 6, 13),\n",
       " ('window.navigator.onLine', 4, 9),\n",
       " ('window.navigator.oscpu', 1, 3),\n",
       " ('window.navigator.permissions.query', 2, 2),\n",
       " ('window.navigator.platform', 5, 22),\n",
       " ('window.navigator.product', 3, 17),\n",
       " ('window.navigator.productSub', 1, 3),\n",
       " ('window.navigator.sendBeacon', 3, 6),\n",
       " ('window.navigator.serviceWorker.getRegistration', 1, 2),\n",
       " ('window.navigator.serviceWorker.getRegistrations', 1, 1),\n",
       " ('window.navigator.serviceWorker.ready.then', 1, 1),\n",
       " ('window.navigator.serviceWorker.register', 1, 1),\n",
       " ('window.navigator.userAgent', 8, 532),\n",
       " ('window.navigator.vendor', 3, 4),\n",
       " ('window.navigator.webdriver', 4, 8),\n",
       " ('window.screen.availHeight', 2, 8),\n",
       " ('window.screen.availLeft', 1, 1),\n",
       " ('window.screen.availTop', 1, 6),\n",
       " ('window.screen.availWidth', 2, 13),\n",
       " ('window.screen.colorDepth', 3, 14),\n",
       " ('window.screen.hasOwnProperty', 1, 1),\n",
       " ('window.screen.height', 5, 24),\n",
       " ('window.screen.orientation.addEventListener', 1, 1),\n",
       " ('window.screen.orientation.type', 2, 20),\n",
       " ('window.screen.pixelDepth', 1, 3),\n",
       " ('window.screen.width', 5, 24)]"
      ]
     },
     "execution_count": 5,
     "metadata": {},
     "output_type": "execute_result"
    }
   ],
   "source": [
    "%%sql\n",
    "SELECT symbol, count(DISTINCT visit_id) AS n_sites, count(*) as n\n",
    "FROM javascript\n",
    "GROUP BY symbol\n",
    "ORDER BY symbol"
   ]
  },
  {
   "cell_type": "code",
   "execution_count": 30,
   "metadata": {},
   "outputs": [
    {
     "name": "stdout",
     "output_type": "stream",
     "text": [
      " * sqlite:////mnt/crawls/datadir-0-10/crawl-data.sqlite\n",
      "   sqlite:////mnt/crawls/datadir-0-100/crawl-data.sqlite\n",
      "Done.\n"
     ]
    },
    {
     "data": {
      "text/html": [
       "<table>\n",
       "    <thead>\n",
       "        <tr>\n",
       "            <th>symbol</th>\n",
       "        </tr>\n",
       "    </thead>\n",
       "    <tbody>\n",
       "    </tbody>\n",
       "</table>"
      ],
      "text/plain": [
       "[]"
      ]
     },
     "execution_count": 30,
     "metadata": {},
     "output_type": "execute_result"
    }
   ],
   "source": [
    "%%sql\n",
    "SELECT DISTINCT symbol\n",
    "FROM javascript\n",
    "WHERE symbol NOT LIKE \"window.navigator.mimeTypes%\" AND symbol NOT LIKE \"window.navigator.plugins%\""
   ]
  },
  {
   "cell_type": "code",
   "execution_count": 7,
   "metadata": {},
   "outputs": [
    {
     "name": "stdout",
     "output_type": "stream",
     "text": [
      " * sqlite:////mnt/crawls/datadir-0-10/crawl-data.sqlite\n",
      "Done.\n"
     ]
    },
    {
     "data": {
      "text/html": [
       "<table>\n",
       "    <thead>\n",
       "        <tr>\n",
       "            <th>COUNT(*)</th>\n",
       "        </tr>\n",
       "    </thead>\n",
       "    <tbody>\n",
       "        <tr>\n",
       "            <td>828</td>\n",
       "        </tr>\n",
       "    </tbody>\n",
       "</table>"
      ],
      "text/plain": [
       "[(828,)]"
      ]
     },
     "execution_count": 7,
     "metadata": {},
     "output_type": "execute_result"
    }
   ],
   "source": [
    "%%sql\n",
    "SELECT COUNT(*)\n",
    "FROM javascript\n",
    "LIMIT 100"
   ]
  },
  {
   "cell_type": "code",
   "execution_count": null,
   "metadata": {},
   "outputs": [],
   "source": [
    "# %load_ext sql\n",
    "# symbols = {}\n",
    "# for path in Path(\"/home/ndanner_plp/OpenWPM/crawl-data\").iterdir():\n",
    "#     if path.is_dir() and re.match(\"^datadir\" ,path.name):\n",
    "#         %sql sqlite:///{path}/crawl-data.sqlite\n",
    "#         result = %sql SELECT DISTINCT(symbol) FROM javascript\n",
    "#         if result:\n",
    "#             for symbol in result.DataFrame()['symbol']:\n",
    "#                 if symbol in symbols:\n",
    "#                     symbols[symbol].append(path.name)\n",
    "#                 else:\n",
    "#                     symbols[symbol] = [path.name]\n",
    "# print( json.dumps( symbols, indent= 4 ) )"
   ]
  },
  {
   "attachments": {},
   "cell_type": "markdown",
   "metadata": {},
   "source": [
    "OfflineAudioContext"
   ]
  },
  {
   "cell_type": "code",
   "execution_count": null,
   "metadata": {},
   "outputs": [],
   "source": [
    "%%sql\n",
    "SELECT *\n",
    "FROM javascript\n",
    "LIMIT 10"
   ]
  },
  {
   "cell_type": "code",
   "execution_count": null,
   "metadata": {},
   "outputs": [],
   "source": [
    "%%sql\n",
    "WITH a AS (\n",
    "SELECT visit_id,url, COUNT(*) as n\n",
    "FROM http_responses\n",
    "WHERE content_hash <> \"\"\n",
    "GROUP BY visit_id,url\n",
    "ORDER BY n DESC\n",
    ")\n",
    "SELECT a.visit_id, site_visits.site_url, a.url, a.n\n",
    "FROM a\n",
    "INNER JOIN site_visits\n",
    "ON a.visit_id = site_visits.visit_id\n",
    "LIMIT 20\n"
   ]
  },
  {
   "cell_type": "code",
   "execution_count": null,
   "metadata": {},
   "outputs": [],
   "source": [
    "%%sql\n",
    "WITH a AS (\n",
    "SELECT visit_id,url, COUNT( DISTINCT content_hash ) as unique_content_hashs\n",
    "FROM http_responses\n",
    "WHERE content_hash <> \"\"\n",
    "GROUP BY visit_id,url\n",
    "ORDER BY unique_content_hashs DESC\n",
    ")\n",
    "SELECT a.visit_id, site_visits.site_url, a.url, a.unique_content_hashs\n",
    "FROM a\n",
    "INNER JOIN site_visits\n",
    "ON a.visit_id = site_visits.visit_id\n",
    "LIMIT 10\n"
   ]
  },
  {
   "cell_type": "code",
   "execution_count": null,
   "metadata": {},
   "outputs": [],
   "source": [
    "%%sql\n",
    "SELECT content_hash\n",
    "FROM http_responses\n",
    "WHERE visit_id = \"5244274392029786\" AND url = \"https://biptolyla.com/auW.ZNyzQu2r9FkyZnT/9U6gbE2C5mlFS/WvQT9RNPDlE/4OMrjrk/0HN/Cc0N0/MLT/g/yNOkTTQK1ZJPnEB-1KcV2-hiaRbO2/5/lGS/WeQs9iNIDeEZ4rMtjTkS0/NVCI0R0UMWT/gwy/OlTQQ/1R\"\n",
    "GROUP BY content_hash"
   ]
  },
  {
   "cell_type": "code",
   "execution_count": null,
   "metadata": {},
   "outputs": [],
   "source": [
    "import difflib\n",
    "from pprint import pprint\n",
    "\n",
    "\n",
    "x = difflib.Differ()\n",
    "str1 = str( db.get(b\"338359dbbf86b03f293159f6673b33f7f87a0ab0a6930df27bfc69582b824748\"), encoding=\"utf-8\")\n",
    "str2 = str( db.get(b\"339f38f18297db8afa9cdd0f873676e520ab736af47643d682ac158900f78913\"), encoding=\"utf-8\")\n",
    "cmp = x.compare( str1.splitlines(keepends=True), str2.splitlines(keepends=True)  )\n",
    "for line in filter(lambda s : s[0] == \"+\" or s[0] == \"-\", cmp ):\n",
    "    print(line,end = \"\\n\\n\\n\\n\")\n"
   ]
  },
  {
   "cell_type": "code",
   "execution_count": null,
   "metadata": {},
   "outputs": [],
   "source": [
    "%%sql\n",
    "SELECT *\n",
    "FROM site_visits\n",
    "WHERE visit_id = \"7805288562003358\" OR visit_id = \"6723308048261410\""
   ]
  },
  {
   "cell_type": "code",
   "execution_count": null,
   "metadata": {},
   "outputs": [],
   "source": [
    "r = requests.get(\"http://localhost:8000\", params={})"
   ]
  },
  {
   "cell_type": "code",
   "execution_count": null,
   "metadata": {},
   "outputs": [],
   "source": [
    "r.text"
   ]
  },
  {
   "cell_type": "code",
   "execution_count": null,
   "metadata": {},
   "outputs": [],
   "source": []
  }
 ],
 "metadata": {
  "kernelspec": {
   "display_name": "Python 3",
   "language": "python",
   "name": "python3"
  },
  "language_info": {
   "codemirror_mode": {
    "name": "ipython",
    "version": 3
   },
   "file_extension": ".py",
   "mimetype": "text/x-python",
   "name": "python",
   "nbconvert_exporter": "python",
   "pygments_lexer": "ipython3",
   "version": "3.10.6"
  },
  "orig_nbformat": 4,
  "vscode": {
   "interpreter": {
    "hash": "b388f535a36e1f60640ec64319dd6e16063003ea5d1c79ac3f71f777c06da202"
   }
  }
 },
 "nbformat": 4,
 "nbformat_minor": 2
}
