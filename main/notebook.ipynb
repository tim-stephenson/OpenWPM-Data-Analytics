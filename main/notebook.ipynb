{
  "cells": [
    {
      "cell_type": "code",
      "execution_count": null,
      "metadata": {},
      "outputs": [],
      "source": [
        "from sqlalchemy.engine import Engine\n",
        "# import plyvel\n",
        "from pathlib import Path\n",
        "# import re\n",
        "# import json\n",
        "from utils.runHealth import runHealth\n",
        "# from functions.dynamic_analysis import Dynamic\n",
        "import requests\n",
        "# from sqlalchemy import URL\n",
        "\n",
        "path : Path = Path('/home/ndanner_plp/OpenWPM/crawl-data/datadir-0-1000')\n",
        "# engine : Engine = sqlite3.connect( str(path.joinpath(\"crawl-data.sqlite\")) )\n",
        "# db = plyvel.DB( str(path.joinpath(\"leveldb\")) ) #type: ignore\n",
        "%load_ext sql\n",
        "%sql sqlite:///{path}/crawl-data.sqlite\n"
      ]
    },
    {
      "cell_type": "code",
      "execution_count": null,
      "metadata": {},
      "outputs": [],
      "source": [
        "n, f = runHealth(con)\n",
        "print(f\"total visits: {n}, failed/incomplete visits: {f}. Success percentage: {round(100* (1 - f/n)) }%\")"
      ]
    },
    {
      "cell_type": "code",
      "execution_count": null,
      "metadata": {},
      "outputs": [],
      "source": [
        "%%sql\n",
        "SELECT *\n",
        "FROM analysis_results"
      ]
    },
    {
      "cell_type": "code",
      "execution_count": null,
      "metadata": {},
      "outputs": [],
      "source": [
        "%%sql\n",
        "SELECT name FROM pragma_table_info('analysis_results')\n",
        "WHERE name = \"Canvas_Font_1M_Static\""
      ]
    },
    {
      "cell_type": "code",
      "execution_count": null,
      "metadata": {},
      "outputs": [],
      "source": [
        "%%sql\n",
        "SELECT DISTINCT value\n",
        "FROM javascript\n",
        "WHERE symbol = \"HTMLCanvasElement.height\" OR \"HTMLCanvasElement.width\""
      ]
    },
    {
      "cell_type": "code",
      "execution_count": null,
      "metadata": {},
      "outputs": [],
      "source": [
        "%%sql\n",
        "SELECT COUNT(*)\n",
        "FROM analysis_results\n",
        "WHERE Canvas_1M_Static = 0 AND Canvas_1M_Dynamic = 1\n",
        "LIMIT 10"
      ]
    },
    {
      "cell_type": "code",
      "execution_count": null,
      "metadata": {},
      "outputs": [],
      "source": [
        "%%sql\n",
        "SELECT COUNT(*)\n",
        "FROM analysis_results"
      ]
    },
    {
      "cell_type": "code",
      "execution_count": 16,
      "metadata": {},
      "outputs": [
        {
          "name": "stdout",
          "output_type": "stream",
          "text": [
            " * sqlite:////home/ndanner_plp/OpenWPM/crawl-data/datadir-0-1000/crawl-data.sqlite\n",
            "   sqlite:////home/ndanner_plp/OpenWPM/crawl-data/datadir-0-3/crawl-data.sqlite\n",
            "Done.\n"
          ]
        },
        {
          "data": {
            "text/html": [
              "<table>\n",
              "    <thead>\n",
              "        <tr>\n",
              "            <th>type</th>\n",
              "            <th>name</th>\n",
              "            <th>tbl_name</th>\n",
              "            <th>rootpage</th>\n",
              "            <th>sql</th>\n",
              "        </tr>\n",
              "    </thead>\n",
              "    <tbody>\n",
              "        <tr>\n",
              "            <td>table</td>\n",
              "            <td>task</td>\n",
              "            <td>task</td>\n",
              "            <td>2</td>\n",
              "            <td>CREATE TABLE task (<br>    task_id INTEGER PRIMARY KEY AUTOINCREMENT,<br>    start_time DATETIME DEFAULT CURRENT_TIMESTAMP,<br>    manager_params TEXT NOT NULL,<br>    openwpm_version TEXT NOT NULL,<br>    browser_version TEXT NOT NULL)</td>\n",
              "        </tr>\n",
              "        <tr>\n",
              "            <td>table</td>\n",
              "            <td>sqlite_sequence</td>\n",
              "            <td>sqlite_sequence</td>\n",
              "            <td>3</td>\n",
              "            <td>CREATE TABLE sqlite_sequence(name,seq)</td>\n",
              "        </tr>\n",
              "        <tr>\n",
              "            <td>table</td>\n",
              "            <td>crawl</td>\n",
              "            <td>crawl</td>\n",
              "            <td>4</td>\n",
              "            <td>CREATE TABLE crawl (<br>    browser_id INTEGER PRIMARY KEY,<br>    task_id INTEGER NOT NULL,<br>    browser_params TEXT NOT NULL,<br>    start_time DATETIME DEFAULT CURRENT_TIMESTAMP,<br>    FOREIGN KEY(task_id) REFERENCES task(task_id))</td>\n",
              "        </tr>\n",
              "        <tr>\n",
              "            <td>table</td>\n",
              "            <td>site_visits</td>\n",
              "            <td>site_visits</td>\n",
              "            <td>5</td>\n",
              "            <td>CREATE TABLE site_visits (<br>    visit_id INTEGER PRIMARY KEY,<br>    browser_id INTEGER NOT NULL,<br>    site_url VARCHAR(500) NOT NULL,<br>    site_rank INTEGER,<br>    FOREIGN KEY(browser_id) REFERENCES crawl(browser_id))</td>\n",
              "        </tr>\n",
              "        <tr>\n",
              "            <td>table</td>\n",
              "            <td>crawl_history</td>\n",
              "            <td>crawl_history</td>\n",
              "            <td>6</td>\n",
              "            <td>CREATE TABLE crawl_history (<br>    browser_id INTEGER,<br>    visit_id INTEGER,<br>    command TEXT,<br>    arguments TEXT,<br>    retry_number INTEGER,<br>    command_status TEXT,<br>    error TEXT,<br>    traceback TEXT,<br>    duration INTEGER,<br>    dtg DATETIME DEFAULT (CURRENT_TIMESTAMP),<br>    FOREIGN KEY(browser_id) REFERENCES crawl(browser_id))</td>\n",
              "        </tr>\n",
              "        <tr>\n",
              "            <td>table</td>\n",
              "            <td>http_requests</td>\n",
              "            <td>http_requests</td>\n",
              "            <td>7</td>\n",
              "            <td>CREATE TABLE http_requests(<br>  id INTEGER PRIMARY KEY AUTOINCREMENT,<br>  incognito INTEGER,<br>  browser_id INTEGER NOT NULL,<br>  visit_id INTEGER NOT NULL,<br>  extension_session_uuid TEXT,<br>  event_ordinal INTEGER,<br>  window_id INTEGER,<br>  tab_id INTEGER,<br>  frame_id INTEGER,<br>  url TEXT NOT NULL,<br>  top_level_url TEXT,<br>  parent_frame_id INTEGER,<br>  frame_ancestors TEXT,<br>  method TEXT NOT NULL,<br>  referrer TEXT NOT NULL,<br>  headers TEXT NOT NULL,<br>  request_id INTEGER NOT NULL,<br>  is_XHR INTEGER,<br>  is_third_party_channel INTEGER,<br>  is_third_party_to_top_window INTEGER,<br>  triggering_origin TEXT,<br>  loading_origin TEXT,<br>  loading_href TEXT,<br>  req_call_stack TEXT,<br>  resource_type TEXT NOT NULL,<br>  post_body TEXT,<br>  post_body_raw TEXT,<br>  time_stamp DATETIME NOT NULL<br>)</td>\n",
              "        </tr>\n",
              "        <tr>\n",
              "            <td>table</td>\n",
              "            <td>http_responses</td>\n",
              "            <td>http_responses</td>\n",
              "            <td>8</td>\n",
              "            <td>CREATE TABLE http_responses(<br>  id INTEGER PRIMARY KEY AUTOINCREMENT,<br>  incognito INTEGER,<br>  browser_id INTEGER NOT NULL,<br>  visit_id INTEGER NOT NULL,<br>  extension_session_uuid TEXT,<br>  event_ordinal INTEGER,<br>  window_id INTEGER,<br>  tab_id INTEGER,<br>  frame_id INTEGER,<br>  url TEXT NOT NULL,<br>  method TEXT NOT NULL,<br>  response_status INTEGER,<br>  response_status_text TEXT NOT NULL,<br>  is_cached INTEGER NOT NULL,<br>  headers TEXT NOT NULL,<br>  request_id INTEGER NOT NULL,<br>  location TEXT NOT NULL,<br>  time_stamp DATETIME NOT NULL,<br>  content_hash TEXT<br>)</td>\n",
              "        </tr>\n",
              "        <tr>\n",
              "            <td>table</td>\n",
              "            <td>http_redirects</td>\n",
              "            <td>http_redirects</td>\n",
              "            <td>9</td>\n",
              "            <td>CREATE TABLE http_redirects(<br>  id INTEGER PRIMARY KEY AUTOINCREMENT,<br>  incognito INTEGER,<br>  browser_id INTEGER NOT NULL,<br>  visit_id INTEGER NOT NULL,<br>  old_request_url TEXT,<br>  old_request_id TEXT,<br>  new_request_url TEXT,<br>  new_request_id TEXT,<br>  extension_session_uuid TEXT,<br>  event_ordinal INTEGER,<br>  window_id INTEGER,<br>  tab_id INTEGER,<br>  frame_id INTEGER,<br>  response_status INTEGER NOT NULL,<br>  response_status_text TEXT NOT NULL,<br>  headers TEXT NOT NULL,<br>  time_stamp DATETIME NOT NULL<br>)</td>\n",
              "        </tr>\n",
              "        <tr>\n",
              "            <td>table</td>\n",
              "            <td>javascript</td>\n",
              "            <td>javascript</td>\n",
              "            <td>10</td>\n",
              "            <td>CREATE TABLE javascript(<br>  id INTEGER PRIMARY KEY,<br>  incognito INTEGER,<br>  browser_id INTEGER NOT NULL,<br>  visit_id INTEGER NOT NULL,<br>  extension_session_uuid TEXT,<br>  event_ordinal INTEGER,<br>  page_scoped_event_ordinal INTEGER,<br>  window_id INTEGER,<br>  tab_id INTEGER,<br>  frame_id INTEGER,<br>  script_url TEXT,<br>  script_line TEXT,<br>  script_col TEXT,<br>  func_name TEXT,<br>  script_loc_eval TEXT,<br>  document_url TEXT,<br>  top_level_url TEXT,<br>  call_stack TEXT,<br>  symbol TEXT,<br>  operation TEXT,<br>  value TEXT,<br>  arguments TEXT,<br>  time_stamp DATETIME NOT NULL<br>)</td>\n",
              "        </tr>\n",
              "        <tr>\n",
              "            <td>table</td>\n",
              "            <td>javascript_cookies</td>\n",
              "            <td>javascript_cookies</td>\n",
              "            <td>11</td>\n",
              "            <td>CREATE TABLE javascript_cookies(<br>    id INTEGER PRIMARY KEY ASC,<br>    browser_id INTEGER NOT NULL,<br>    visit_id INTEGER NOT NULL,<br>    extension_session_uuid TEXT,<br>    event_ordinal INTEGER,<br>    record_type TEXT,<br>    change_cause TEXT,<br>    expiry DATETIME,<br>    is_http_only INTEGER,<br>    is_host_only INTEGER,<br>    is_session INTEGER,<br>    host TEXT,<br>    is_secure INTEGER,<br>    name TEXT,<br>    path TEXT,<br>    value TEXT,<br>    same_site TEXT,<br>    first_party_domain TEXT,<br>    store_id STRING,<br>    time_stamp DATETIME<br>)</td>\n",
              "        </tr>\n",
              "        <tr>\n",
              "            <td>table</td>\n",
              "            <td>navigations</td>\n",
              "            <td>navigations</td>\n",
              "            <td>14</td>\n",
              "            <td>CREATE TABLE navigations(<br>  id INTEGER,<br>  incognito INTEGER,<br>  browser_id INTEGER NOT NULL,<br>  visit_id INTEGER NOT NULL,<br>  extension_session_uuid TEXT,<br>  process_id INTEGER,<br>  window_id INTEGER,<br>  tab_id INTEGER,<br>  tab_opener_tab_id INTEGER,<br>  frame_id INTEGER,<br>  parent_frame_id INTEGER,<br>  window_width INTEGER,<br>  window_height INTEGER,<br>  window_type TEXT,<br>  tab_width INTEGER,<br>  tab_height INTEGER,<br>  tab_cookie_store_id TEXT,<br>  uuid TEXT,<br>  url TEXT,<br>  transition_qualifiers TEXT,<br>  transition_type TEXT,<br>  before_navigate_event_ordinal INTEGER,<br>  before_navigate_time_stamp DATETIME,<br>  committed_event_ordinal INTEGER,<br>  committed_time_stamp DATETIME<br>)</td>\n",
              "        </tr>\n",
              "        <tr>\n",
              "            <td>table</td>\n",
              "            <td>callstacks</td>\n",
              "            <td>callstacks</td>\n",
              "            <td>15</td>\n",
              "            <td>CREATE TABLE callstacks(<br>  id INTEGER PRIMARY KEY AUTOINCREMENT,<br>  request_id INTEGER NOT NULL,<br>  browser_id INTEGER NOT NULL,<br>  visit_id INTEGER NOT NULL,<br>  call_stack TEXT<br>)</td>\n",
              "        </tr>\n",
              "        <tr>\n",
              "            <td>table</td>\n",
              "            <td>incomplete_visits</td>\n",
              "            <td>incomplete_visits</td>\n",
              "            <td>16</td>\n",
              "            <td>CREATE TABLE incomplete_visits (<br>   visit_id INTEGER NOT NULL<br>)</td>\n",
              "        </tr>\n",
              "        <tr>\n",
              "            <td>table</td>\n",
              "            <td>dns_responses</td>\n",
              "            <td>dns_responses</td>\n",
              "            <td>17</td>\n",
              "            <td>CREATE TABLE dns_responses (<br>  id INTEGER PRIMARY KEY AUTOINCREMENT,<br>  request_id INTEGER NOT NULL,<br>  browser_id INTEGER NOT NULL,<br>  visit_id INTEGER NOT NULL,<br>  hostname TEXT,<br>  addresses TEXT,<br>  used_address TEXT,<br>  canonical_name TEXT,<br>  is_TRR INTEGER, <br>  time_stamp DATETIME NOT NULL<br> )</td>\n",
              "        </tr>\n",
              "        <tr>\n",
              "            <td>table</td>\n",
              "            <td>analysis_results</td>\n",
              "            <td>analysis_results</td>\n",
              "            <td>141194</td>\n",
              "            <td>CREATE TABLE &quot;analysis_results&quot; (<br>&quot;visit_id&quot; INTEGER,<br>  &quot;script_url&quot; TEXT,<br>  &quot;Canvas_1M_Static&quot; INTEGER,<br>  &quot;Canvas_Font_1M_Static&quot; INTEGER,<br>  &quot;WebRTC_1M_Static&quot; INTEGER,<br>  &quot;WebGL_Static&quot; INTEGER,<br>  &quot;Media_Queries_Static&quot; INTEGER,<br>  &quot;Navigator_Properties_Dynamic&quot; INTEGER,<br>  &quot;Canvas_1M_Dynamic&quot; INTEGER,<br>  &quot;Canvas_Font_1M_Dynamic&quot; INTEGER,<br>  &quot;WebRTC_1M_Dynamic&quot; INTEGER,<br>  &quot;WebGL_Dynamic&quot; INTEGER,<br>  &quot;Media_Queries_Dynamic&quot; INTEGER,<br>  &quot;Navigator_Properties_Static&quot; INTEGER<br>)</td>\n",
              "        </tr>\n",
              "        <tr>\n",
              "            <td>index</td>\n",
              "            <td>ix_analysis_results_visit_id_script_url</td>\n",
              "            <td>analysis_results</td>\n",
              "            <td>141198</td>\n",
              "            <td>CREATE INDEX &quot;ix_analysis_results_visit_id_script_url&quot;ON &quot;analysis_results&quot; (&quot;visit_id&quot;,&quot;script_url&quot;)</td>\n",
              "        </tr>\n",
              "    </tbody>\n",
              "</table>"
            ],
            "text/plain": [
              "[('table', 'task', 'task', 2, 'CREATE TABLE task (\\n    task_id INTEGER PRIMARY KEY AUTOINCREMENT,\\n    start_time DATETIME DEFAULT CURRENT_TIMESTAMP,\\n    manager_params TEXT NOT NULL,\\n    openwpm_version TEXT NOT NULL,\\n    browser_version TEXT NOT NULL)'),\n",
              " ('table', 'sqlite_sequence', 'sqlite_sequence', 3, 'CREATE TABLE sqlite_sequence(name,seq)'),\n",
              " ('table', 'crawl', 'crawl', 4, 'CREATE TABLE crawl (\\n    browser_id INTEGER PRIMARY KEY,\\n    task_id INTEGER NOT NULL,\\n    browser_params TEXT NOT NULL,\\n    start_time DATETIME DEFAULT CURRENT_TIMESTAMP,\\n    FOREIGN KEY(task_id) REFERENCES task(task_id))'),\n",
              " ('table', 'site_visits', 'site_visits', 5, 'CREATE TABLE site_visits (\\n    visit_id INTEGER PRIMARY KEY,\\n    browser_id INTEGER NOT NULL,\\n    site_url VARCHAR(500) NOT NULL,\\n    site_rank INTEGER,\\n    FOREIGN KEY(browser_id) REFERENCES crawl(browser_id))'),\n",
              " ('table', 'crawl_history', 'crawl_history', 6, 'CREATE TABLE crawl_history (\\n    browser_id INTEGER,\\n    visit_id INTEGER,\\n    command TEXT,\\n    arguments TEXT,\\n    retry_number INTEGER,\\n     ... (38 characters truncated) ... n    traceback TEXT,\\n    duration INTEGER,\\n    dtg DATETIME DEFAULT (CURRENT_TIMESTAMP),\\n    FOREIGN KEY(browser_id) REFERENCES crawl(browser_id))'),\n",
              " ('table', 'http_requests', 'http_requests', 7, 'CREATE TABLE http_requests(\\n  id INTEGER PRIMARY KEY AUTOINCREMENT,\\n  incognito INTEGER,\\n  browser_id INTEGER NOT NULL,\\n  visit_id INTEGER NOT NU ... (483 characters truncated) ... ading_href TEXT,\\n  req_call_stack TEXT,\\n  resource_type TEXT NOT NULL,\\n  post_body TEXT,\\n  post_body_raw TEXT,\\n  time_stamp DATETIME NOT NULL\\n)'),\n",
              " ('table', 'http_responses', 'http_responses', 8, 'CREATE TABLE http_responses(\\n  id INTEGER PRIMARY KEY AUTOINCREMENT,\\n  incognito INTEGER,\\n  browser_id INTEGER NOT NULL,\\n  visit_id INTEGER NOT N ... (262 characters truncated) ... T NULL,\\n  headers TEXT NOT NULL,\\n  request_id INTEGER NOT NULL,\\n  location TEXT NOT NULL,\\n  time_stamp DATETIME NOT NULL,\\n  content_hash TEXT\\n)'),\n",
              " ('table', 'http_redirects', 'http_redirects', 9, 'CREATE TABLE http_redirects(\\n  id INTEGER PRIMARY KEY AUTOINCREMENT,\\n  incognito INTEGER,\\n  browser_id INTEGER NOT NULL,\\n  visit_id INTEGER NOT N ... (210 characters truncated) ... _id INTEGER,\\n  response_status INTEGER NOT NULL,\\n  response_status_text TEXT NOT NULL,\\n  headers TEXT NOT NULL,\\n  time_stamp DATETIME NOT NULL\\n)'),\n",
              " ('table', 'javascript', 'javascript', 10, 'CREATE TABLE javascript(\\n  id INTEGER PRIMARY KEY,\\n  incognito INTEGER,\\n  browser_id INTEGER NOT NULL,\\n  visit_id INTEGER NOT NULL,\\n  extension_ ... (269 characters truncated) ... T,\\n  top_level_url TEXT,\\n  call_stack TEXT,\\n  symbol TEXT,\\n  operation TEXT,\\n  value TEXT,\\n  arguments TEXT,\\n  time_stamp DATETIME NOT NULL\\n)'),\n",
              " ('table', 'javascript_cookies', 'javascript_cookies', 11, 'CREATE TABLE javascript_cookies(\\n    id INTEGER PRIMARY KEY ASC,\\n    browser_id INTEGER NOT NULL,\\n    visit_id INTEGER NOT NULL,\\n    extension_se ... (233 characters truncated) ... n    name TEXT,\\n    path TEXT,\\n    value TEXT,\\n    same_site TEXT,\\n    first_party_domain TEXT,\\n    store_id STRING,\\n    time_stamp DATETIME\\n)'),\n",
              " ('table', 'navigations', 'navigations', 14, 'CREATE TABLE navigations(\\n  id INTEGER,\\n  incognito INTEGER,\\n  browser_id INTEGER NOT NULL,\\n  visit_id INTEGER NOT NULL,\\n  extension_session_uui ... (384 characters truncated) ... efore_navigate_event_ordinal INTEGER,\\n  before_navigate_time_stamp DATETIME,\\n  committed_event_ordinal INTEGER,\\n  committed_time_stamp DATETIME\\n)'),\n",
              " ('table', 'callstacks', 'callstacks', 15, 'CREATE TABLE callstacks(\\n  id INTEGER PRIMARY KEY AUTOINCREMENT,\\n  request_id INTEGER NOT NULL,\\n  browser_id INTEGER NOT NULL,\\n  visit_id INTEGER NOT NULL,\\n  call_stack TEXT\\n)'),\n",
              " ('table', 'incomplete_visits', 'incomplete_visits', 16, 'CREATE TABLE incomplete_visits (\\n   visit_id INTEGER NOT NULL\\n)'),\n",
              " ('table', 'dns_responses', 'dns_responses', 17, 'CREATE TABLE dns_responses (\\n  id INTEGER PRIMARY KEY AUTOINCREMENT,\\n  request_id INTEGER NOT NULL,\\n  browser_id INTEGER NOT NULL,\\n  visit_id INT ... (4 characters truncated) ...  NOT NULL,\\n  hostname TEXT,\\n  addresses TEXT,\\n  used_address TEXT,\\n  canonical_name TEXT,\\n  is_TRR INTEGER, \\n  time_stamp DATETIME NOT NULL\\n )'),\n",
              " ('table', 'analysis_results', 'analysis_results', 141194, 'CREATE TABLE \"analysis_results\" (\\n\"visit_id\" INTEGER,\\n  \"script_url\" TEXT,\\n  \"Canvas_1M_Static\" INTEGER,\\n  \"Canvas_Font_1M_Static\" INTEGER,\\n  \"W ... (190 characters truncated) ...  INTEGER,\\n  \"WebRTC_1M_Dynamic\" INTEGER,\\n  \"WebGL_Dynamic\" INTEGER,\\n  \"Media_Queries_Dynamic\" INTEGER,\\n  \"Navigator_Properties_Static\" INTEGER\\n)'),\n",
              " ('index', 'ix_analysis_results_visit_id_script_url', 'analysis_results', 141198, 'CREATE INDEX \"ix_analysis_results_visit_id_script_url\"ON \"analysis_results\" (\"visit_id\",\"script_url\")')]"
            ]
          },
          "execution_count": 16,
          "metadata": {},
          "output_type": "execute_result"
        }
      ],
      "source": [
        "%%sql\n",
        "SELECT *\n",
        "FROM sqlite_master"
      ]
    },
    {
      "cell_type": "code",
      "execution_count": null,
      "metadata": {},
      "outputs": [],
      "source": [
        "%%sql\n",
        "WITH a AS(\n",
        "    SELECT DISTINCT visit_id,url\n",
        "    FROM http_responses\n",
        "    WHERE content_hash <> \"\"\n",
        "), b AS(\n",
        "    SELECT DISTINCT visit_id,script_url\n",
        "    FROM javascript\n",
        ")\n",
        "SELECT COUNT(*)\n",
        "FROM a\n",
        "FULL JOIN b\n",
        "on b.script_url = a.url AND b.visit_id = a.visit_id\n",
        "LIMIT 5\n"
      ]
    },
    {
      "cell_type": "code",
      "execution_count": null,
      "metadata": {},
      "outputs": [],
      "source": [
        "%%sql\n",
        "WITH a AS(\n",
        "    SELECT DISTINCT visit_id,url\n",
        "    FROM http_responses\n",
        "    WHERE content_hash <> \"\"\n",
        ")\n",
        "SELECT COUNT(*)\n",
        "FROM a"
      ]
    },
    {
      "cell_type": "code",
      "execution_count": null,
      "metadata": {},
      "outputs": [],
      "source": [
        "%%sql\n",
        "SELECT COUNT(*)\n",
        "FROM (\n",
        "SELECT DISTINCT visit_id,url\n",
        "FROM http_responses\n",
        "WHERE content_hash <> \"\"\n",
        ")"
      ]
    },
    {
      "cell_type": "code",
      "execution_count": null,
      "metadata": {},
      "outputs": [],
      "source": [
        "%%sql\n",
        "SELECT incomplete_visits.visit_id, site_visits.site_url\n",
        "FROM incomplete_visits\n",
        "INNER JOIN site_visits \n",
        "ON incomplete_visits.visit_id = site_visits.visit_id\n",
        "LIMIT 10"
      ]
    },
    {
      "cell_type": "code",
      "execution_count": null,
      "metadata": {},
      "outputs": [],
      "source": [
        "%%sql\n",
        "SELECT symbol, count(DISTINCT visit_id) AS n_sites, count(*) as n\n",
        "FROM javascript\n",
        "GROUP BY symbol\n",
        "ORDER BY symbol"
      ]
    },
    {
      "cell_type": "code",
      "execution_count": null,
      "metadata": {},
      "outputs": [],
      "source": [
        "%%sql\n",
        "SELECT COUNT(*)\n",
        "FROM (\n",
        "SELECT DISTINCT visit_id,url\n",
        "FROM http_responses\n",
        "WHERE content_hash <> \"\"\n",
        ")\n"
      ]
    },
    {
      "cell_type": "code",
      "execution_count": null,
      "metadata": {},
      "outputs": [],
      "source": [
        "%%sql\n",
        "SELECT COUNT(*) FROM (\n",
        "SELECT visit_id,url\n",
        "FROM http_responses\n",
        "WHERE content_hash <> \"\"\n",
        "GROUP BY visit_id,url\n",
        ")"
      ]
    },
    {
      "cell_type": "code",
      "execution_count": null,
      "metadata": {},
      "outputs": [],
      "source": [
        "%%sql\n",
        "WITH a AS (\n",
        "SELECT visit_id,script_url\n",
        "FROM javascript\n",
        "GROUP BY visit_id,script_url\n",
        ")\n",
        "SELECT COUNT(*)\n",
        "FROM a"
      ]
    },
    {
      "cell_type": "code",
      "execution_count": null,
      "metadata": {},
      "outputs": [],
      "source": [
        "%%sql\n",
        "SELECT * \n",
        "FROM javascript\n",
        "where script_url = \"https://www.apa.org/ter-treafter-not-it-the-Flourthe-Cere-and-that-S\"\n",
        "LIMIT 2000"
      ]
    },
    {
      "cell_type": "code",
      "execution_count": null,
      "metadata": {},
      "outputs": [],
      "source": [
        "%%sql\n",
        "SELECT *\n",
        "FROM javascript\n",
        "WHERE symbol = \"window.navigator.webdriver\"\n",
        "LIMIT 10"
      ]
    },
    {
      "cell_type": "code",
      "execution_count": null,
      "metadata": {},
      "outputs": [],
      "source": [
        "%%sql\n",
        "SELECT COUNT(DISTINCT script_url) as n, arguments\n",
        "FROM javascript\n",
        "WHERE symbol = \"window.matchMedia\" AND arguments like \"%null%\"\n",
        "GROUP BY arguments\n",
        "ORDER BY n DESC\n",
        "LIMIT 40"
      ]
    },
    {
      "cell_type": "code",
      "execution_count": null,
      "metadata": {},
      "outputs": [],
      "source": [
        "%%sql\n",
        "SELECT visit_id,script_url, COUNT(DISTINCT arguments) as n\n",
        "FROM javascript\n",
        "WHERE symbol = \"window.matchMedia\"\n",
        "GROUP BY visit_id,script_url\n",
        "ORDER BY n desc\n",
        "LIMIT 40"
      ]
    },
    {
      "cell_type": "code",
      "execution_count": null,
      "metadata": {},
      "outputs": [],
      "source": []
    },
    {
      "cell_type": "code",
      "execution_count": null,
      "metadata": {},
      "outputs": [],
      "source": [
        "# %load_ext sql\n",
        "# symbols = {}\n",
        "# for path in Path(\"/home/ndanner_plp/OpenWPM/crawl-data\").iterdir():\n",
        "#     if path.is_dir() and re.match(\"^datadir\" ,path.name):\n",
        "#         %sql sqlite:///{path}/crawl-data.sqlite\n",
        "#         result = %sql SELECT DISTINCT(symbol) FROM javascript\n",
        "#         if result:\n",
        "#             for symbol in result.DataFrame()['symbol']:\n",
        "#                 if symbol in symbols:\n",
        "#                     symbols[symbol].append(path.name)\n",
        "#                 else:\n",
        "#                     symbols[symbol] = [path.name]\n",
        "# print( json.dumps( symbols, indent= 4 ) )"
      ]
    },
    {
      "attachments": {},
      "cell_type": "markdown",
      "metadata": {},
      "source": [
        "OfflineAudioContext"
      ]
    },
    {
      "cell_type": "code",
      "execution_count": null,
      "metadata": {},
      "outputs": [],
      "source": [
        "%%sql\n",
        "SELECT *\n",
        "FROM javascript\n",
        "LIMIT 10"
      ]
    },
    {
      "cell_type": "code",
      "execution_count": null,
      "metadata": {},
      "outputs": [],
      "source": [
        "%%sql\n",
        "WITH a AS (\n",
        "SELECT visit_id,url, COUNT(*) as n\n",
        "FROM http_responses\n",
        "WHERE content_hash <> \"\"\n",
        "GROUP BY visit_id,url\n",
        "ORDER BY n DESC\n",
        ")\n",
        "SELECT a.visit_id, site_visits.site_url, a.url, a.n\n",
        "FROM a\n",
        "INNER JOIN site_visits\n",
        "ON a.visit_id = site_visits.visit_id\n",
        "LIMIT 20\n"
      ]
    },
    {
      "cell_type": "code",
      "execution_count": null,
      "metadata": {},
      "outputs": [],
      "source": [
        "%%sql\n",
        "WITH a AS (\n",
        "SELECT visit_id,url, COUNT( DISTINCT content_hash ) as unique_content_hashs\n",
        "FROM http_responses\n",
        "WHERE content_hash <> \"\"\n",
        "GROUP BY visit_id,url\n",
        "ORDER BY unique_content_hashs DESC\n",
        ")\n",
        "SELECT a.visit_id, site_visits.site_url, a.url, a.unique_content_hashs\n",
        "FROM a\n",
        "INNER JOIN site_visits\n",
        "ON a.visit_id = site_visits.visit_id\n",
        "LIMIT 10\n"
      ]
    },
    {
      "cell_type": "code",
      "execution_count": null,
      "metadata": {},
      "outputs": [],
      "source": [
        "%%sql\n",
        "SELECT content_hash\n",
        "FROM http_responses\n",
        "WHERE visit_id = \"5244274392029786\" AND url = \"https://biptolyla.com/auW.ZNyzQu2r9FkyZnT/9U6gbE2C5mlFS/WvQT9RNPDlE/4OMrjrk/0HN/Cc0N0/MLT/g/yNOkTTQK1ZJPnEB-1KcV2-hiaRbO2/5/lGS/WeQs9iNIDeEZ4rMtjTkS0/NVCI0R0UMWT/gwy/OlTQQ/1R\"\n",
        "GROUP BY content_hash"
      ]
    },
    {
      "cell_type": "code",
      "execution_count": null,
      "metadata": {},
      "outputs": [],
      "source": [
        "import difflib\n",
        "from pprint import pprint\n",
        "\n",
        "\n",
        "x = difflib.Differ()\n",
        "str1 = str( db.get(b\"338359dbbf86b03f293159f6673b33f7f87a0ab0a6930df27bfc69582b824748\"), encoding=\"utf-8\")\n",
        "str2 = str( db.get(b\"339f38f18297db8afa9cdd0f873676e520ab736af47643d682ac158900f78913\"), encoding=\"utf-8\")\n",
        "cmp = x.compare( str1.splitlines(keepends=True), str2.splitlines(keepends=True)  )\n",
        "for line in filter(lambda s : s[0] == \"+\" or s[0] == \"-\", cmp ):\n",
        "    print(line,end = \"\\n\\n\\n\\n\")\n"
      ]
    },
    {
      "cell_type": "code",
      "execution_count": null,
      "metadata": {},
      "outputs": [],
      "source": [
        "%%sql\n",
        "SELECT *\n",
        "FROM site_visits\n",
        "WHERE visit_id = \"7805288562003358\" OR visit_id = \"6723308048261410\""
      ]
    },
    {
      "cell_type": "code",
      "execution_count": null,
      "metadata": {},
      "outputs": [],
      "source": [
        "r = requests.get(\"http://localhost:8000\", params={})"
      ]
    },
    {
      "cell_type": "code",
      "execution_count": null,
      "metadata": {},
      "outputs": [],
      "source": [
        "r.text"
      ]
    },
    {
      "cell_type": "code",
      "execution_count": null,
      "metadata": {},
      "outputs": [],
      "source": []
    }
  ],
  "metadata": {
    "kernelspec": {
      "display_name": "Python 3",
      "language": "python",
      "name": "python3"
    },
    "language_info": {
      "codemirror_mode": {
        "name": "ipython",
        "version": 3
      },
      "file_extension": ".py",
      "mimetype": "text/x-python",
      "name": "python",
      "nbconvert_exporter": "python",
      "pygments_lexer": "ipython3",
      "version": "3.11.0"
    },
    "orig_nbformat": 4,
    "vscode": {
      "interpreter": {
        "hash": "8fa06f303b1b4e60701d0a8101971282972f2db52226d4c9817dd0a37991a141"
      }
    }
  },
  "nbformat": 4,
  "nbformat_minor": 2
}
