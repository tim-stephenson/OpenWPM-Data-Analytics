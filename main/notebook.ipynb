{
 "cells": [
  {
   "cell_type": "code",
   "execution_count": 2,
   "metadata": {},
   "outputs": [],
   "source": [
    "import sqlite3\n",
    "import plyvel\n",
    "from pathlib import Path\n",
    "import re\n",
    "import json\n",
    "from functions.runHealth import runHealth\n",
    "from functions.dynamic_analysis import Dynamic\n",
    "import requests"
   ]
  },
  {
   "cell_type": "code",
   "execution_count": null,
   "metadata": {},
   "outputs": [],
   "source": [
    "# path : Path = Path('/home/ndanner_plp/OpenWPM/crawl-data/datadir2000')\n",
    "path : Path = Path('../../datadirTesting')\n",
    "con : sqlite3.Connection = sqlite3.connect( str(path.joinpath(\"crawl-data.sqlite\")) )\n",
    "db = plyvel.DB( str(path.joinpath(\"leveldb\")) )\n",
    "%load_ext sql\n",
    "%sql sqlite:///{path}/crawl-data.sqlite"
   ]
  },
  {
   "cell_type": "code",
   "execution_count": null,
   "metadata": {},
   "outputs": [],
   "source": [
    "n, f = runHealth(con)\n",
    "print(f\"total visits: {n}, failed/incomplete visits: {f}. Success percentage: {round(100* (1 - f/n)) }%\")"
   ]
  },
  {
   "cell_type": "code",
   "execution_count": null,
   "metadata": {},
   "outputs": [],
   "source": [
    "for key, value in db:\n",
    "    print(key)\n",
    "    # print(value, end=\"\\n\\n\")"
   ]
  },
  {
   "cell_type": "code",
   "execution_count": null,
   "metadata": {},
   "outputs": [],
   "source": [
    "results = Dynamic(con)\n",
    "print( json.dumps( results, indent= 4 ) )"
   ]
  },
  {
   "cell_type": "code",
   "execution_count": null,
   "metadata": {},
   "outputs": [],
   "source": [
    "# %load_ext sql\n",
    "# symbols = {}\n",
    "# for path in Path(\"/home/ndanner_plp/OpenWPM/crawl-data\").iterdir():\n",
    "#     if path.is_dir() and re.match(\"^datadir\" ,path.name):\n",
    "#         %sql sqlite:///{path}/crawl-data.sqlite\n",
    "#         result = %sql SELECT DISTINCT(symbol) FROM javascript\n",
    "#         if result:\n",
    "#             for symbol in result.DataFrame()['symbol']:\n",
    "#                 if symbol in symbols:\n",
    "#                     symbols[symbol].append(path.name)\n",
    "#                 else:\n",
    "#                     symbols[symbol] = [path.name]\n",
    "# print( json.dumps( symbols, indent= 4 ) )"
   ]
  },
  {
   "cell_type": "code",
   "execution_count": null,
   "metadata": {},
   "outputs": [],
   "source": [
    "%%sql\n",
    "SELECT * \n",
    "FROM http_responses\n",
    "WHERE content_hash <> \"\""
   ]
  },
  {
   "cell_type": "code",
   "execution_count": null,
   "metadata": {},
   "outputs": [],
   "source": [
    "%%sql\n",
    "SELECT * \n",
    "FROM javascript\n",
    "WHERE symbol = \"CanvasRenderingContext2D.fillText\"\n",
    "LIMIT 100"
   ]
  },
  {
   "cell_type": "code",
   "execution_count": 3,
   "metadata": {},
   "outputs": [],
   "source": [
    "r = requests.get(\"http://localhost:8000\", params={})"
   ]
  },
  {
   "cell_type": "code",
   "execution_count": 7,
   "metadata": {},
   "outputs": [
    {
     "data": {
      "text/plain": [
       "'{\"data\":\"Hello World!\"}'"
      ]
     },
     "execution_count": 7,
     "metadata": {},
     "output_type": "execute_result"
    }
   ],
   "source": [
    "r.text"
   ]
  },
  {
   "cell_type": "code",
   "execution_count": null,
   "metadata": {},
   "outputs": [],
   "source": []
  }
 ],
 "metadata": {
  "kernelspec": {
   "display_name": "Python 3.10.6 ('openwpmdata')",
   "language": "python",
   "name": "python3"
  },
  "language_info": {
   "codemirror_mode": {
    "name": "ipython",
    "version": 3
   },
   "file_extension": ".py",
   "mimetype": "text/x-python",
   "name": "python",
   "nbconvert_exporter": "python",
   "pygments_lexer": "ipython3",
   "version": "3.10.6"
  },
  "orig_nbformat": 4,
  "vscode": {
   "interpreter": {
    "hash": "db290af42a0397795f04f973e59e9829014b4c5566bb598ba23fff8a4de3f2fc"
   }
  }
 },
 "nbformat": 4,
 "nbformat_minor": 2
}
