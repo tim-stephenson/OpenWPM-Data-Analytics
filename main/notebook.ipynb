{
 "cells": [
  {
   "cell_type": "code",
   "execution_count": 1,
   "metadata": {},
   "outputs": [
    {
     "data": {
      "text/plain": [
       "'Connected: @/home/ndanner_plp/OpenWPM/crawl-data/datadir-0-10000/crawl-data.sqlite'"
      ]
     },
     "execution_count": 1,
     "metadata": {},
     "output_type": "execute_result"
    }
   ],
   "source": [
    "import sqlite3\n",
    "# import plyvel\n",
    "from pathlib import Path\n",
    "# import re\n",
    "# import json\n",
    "from functions_old.runHealth import runHealth\n",
    "# from functions.dynamic_analysis import Dynamic\n",
    "import requests\n",
    "# from sqlalchemy import URL\n",
    "\n",
    "path : Path = Path('/home/ndanner_plp/OpenWPM/crawl-data/datadir-0-10000')\n",
    "con : sqlite3.Connection = sqlite3.connect( str(path.joinpath(\"crawl-data.sqlite\")) )\n",
    "# db = plyvel.DB( str(path.joinpath(\"leveldb\")) ) #type: ignore\n",
    "%load_ext sql\n",
    "%sql sqlite:///{path}/crawl-data.sqlite\n"
   ]
  },
  {
   "cell_type": "code",
   "execution_count": null,
   "metadata": {},
   "outputs": [],
   "source": [
    "n, f = runHealth(con)\n",
    "print(f\"total visits: {n}, failed/incomplete visits: {f}. Success percentage: {round(100* (1 - f/n)) }%\")"
   ]
  },
  {
   "cell_type": "code",
   "execution_count": null,
   "metadata": {},
   "outputs": [],
   "source": [
    "%%sql\n",
    "SELECT incomplete_visits.visit_id, site_visits.site_url\n",
    "FROM incomplete_visits\n",
    "INNER JOIN site_visits \n",
    "ON incomplete_visits.visit_id = site_visits.visit_id\n",
    "LIMIT 10"
   ]
  },
  {
   "cell_type": "code",
   "execution_count": null,
   "metadata": {},
   "outputs": [],
   "source": [
    "%%sql\n",
    "SELECT symbol, count(DISTINCT visit_id) AS n_sites, count(*) as n\n",
    "FROM javascript\n",
    "GROUP BY symbol\n",
    "ORDER BY symbol"
   ]
  },
  {
   "cell_type": "code",
   "execution_count": 14,
   "metadata": {},
   "outputs": [
    {
     "name": "stdout",
     "output_type": "stream",
     "text": [
      " * sqlite:////home/ndanner_plp/OpenWPM/crawl-data/datadir-0-10000/crawl-data.sqlite\n",
      "Done.\n"
     ]
    },
    {
     "data": {
      "text/html": [
       "<table>\n",
       "    <thead>\n",
       "        <tr>\n",
       "            <th>COUNT(*)</th>\n",
       "        </tr>\n",
       "    </thead>\n",
       "    <tbody>\n",
       "        <tr>\n",
       "            <td>264402</td>\n",
       "        </tr>\n",
       "    </tbody>\n",
       "</table>"
      ],
      "text/plain": [
       "[(264402,)]"
      ]
     },
     "execution_count": 14,
     "metadata": {},
     "output_type": "execute_result"
    }
   ],
   "source": [
    "%%sql\n",
    "SELECT COUNT(*)\n",
    "FROM (\n",
    "SELECT DISTINCT visit_id,url\n",
    "FROM http_responses\n",
    "WHERE content_hash <> \"\"\n",
    ")\n"
   ]
  },
  {
   "cell_type": "code",
   "execution_count": 16,
   "metadata": {},
   "outputs": [
    {
     "name": "stdout",
     "output_type": "stream",
     "text": [
      " * sqlite:////home/ndanner_plp/OpenWPM/crawl-data/datadir-0-10000/crawl-data.sqlite\n",
      "Done.\n"
     ]
    },
    {
     "data": {
      "text/html": [
       "<table>\n",
       "    <thead>\n",
       "        <tr>\n",
       "            <th>COUNT(*)</th>\n",
       "        </tr>\n",
       "    </thead>\n",
       "    <tbody>\n",
       "        <tr>\n",
       "            <td>264402</td>\n",
       "        </tr>\n",
       "    </tbody>\n",
       "</table>"
      ],
      "text/plain": [
       "[(264402,)]"
      ]
     },
     "execution_count": 16,
     "metadata": {},
     "output_type": "execute_result"
    }
   ],
   "source": [
    "%%sql\n",
    "SELECT COUNT(*) FROM (\n",
    "SELECT visit_id,url\n",
    "FROM http_responses\n",
    "WHERE content_hash <> \"\"\n",
    "GROUP BY visit_id,url\n",
    ")"
   ]
  },
  {
   "cell_type": "code",
   "execution_count": 13,
   "metadata": {},
   "outputs": [
    {
     "name": "stdout",
     "output_type": "stream",
     "text": [
      " * sqlite:////home/ndanner_plp/OpenWPM/crawl-data/datadir-0-10000/crawl-data.sqlite\n",
      "Done.\n"
     ]
    },
    {
     "data": {
      "text/html": [
       "<table>\n",
       "    <thead>\n",
       "        <tr>\n",
       "            <th>COUNT(*)</th>\n",
       "        </tr>\n",
       "    </thead>\n",
       "    <tbody>\n",
       "        <tr>\n",
       "            <td>72915</td>\n",
       "        </tr>\n",
       "    </tbody>\n",
       "</table>"
      ],
      "text/plain": [
       "[(72915,)]"
      ]
     },
     "execution_count": 13,
     "metadata": {},
     "output_type": "execute_result"
    }
   ],
   "source": [
    "%%sql\n",
    "WITH a AS (\n",
    "SELECT visit_id,script_url\n",
    "FROM javascript\n",
    "GROUP BY visit_id,script_url\n",
    ")\n",
    "SELECT COUNT(*)\n",
    "FROM a"
   ]
  },
  {
   "cell_type": "code",
   "execution_count": null,
   "metadata": {},
   "outputs": [],
   "source": [
    "%%sql\n",
    "SELECT * \n",
    "FROM javascript \n",
    "PARTITION BY visit_id, script_url\n",
    "LIMIT 100"
   ]
  },
  {
   "cell_type": "code",
   "execution_count": null,
   "metadata": {},
   "outputs": [],
   "source": [
    "%%sql\n",
    "SELECT COUNT(*)\n",
    "FROM javascript"
   ]
  },
  {
   "cell_type": "code",
   "execution_count": null,
   "metadata": {},
   "outputs": [],
   "source": [
    "%%sql\n",
    "SELECT *\n",
    "FROM javascript\n",
    "WHERE symbol = \"WebGLRenderingContext.getParameter\"\n",
    "LIMIT 200"
   ]
  },
  {
   "cell_type": "code",
   "execution_count": null,
   "metadata": {},
   "outputs": [],
   "source": []
  },
  {
   "cell_type": "code",
   "execution_count": null,
   "metadata": {},
   "outputs": [],
   "source": [
    "# %load_ext sql\n",
    "# symbols = {}\n",
    "# for path in Path(\"/home/ndanner_plp/OpenWPM/crawl-data\").iterdir():\n",
    "#     if path.is_dir() and re.match(\"^datadir\" ,path.name):\n",
    "#         %sql sqlite:///{path}/crawl-data.sqlite\n",
    "#         result = %sql SELECT DISTINCT(symbol) FROM javascript\n",
    "#         if result:\n",
    "#             for symbol in result.DataFrame()['symbol']:\n",
    "#                 if symbol in symbols:\n",
    "#                     symbols[symbol].append(path.name)\n",
    "#                 else:\n",
    "#                     symbols[symbol] = [path.name]\n",
    "# print( json.dumps( symbols, indent= 4 ) )"
   ]
  },
  {
   "attachments": {},
   "cell_type": "markdown",
   "metadata": {},
   "source": [
    "OfflineAudioContext"
   ]
  },
  {
   "cell_type": "code",
   "execution_count": null,
   "metadata": {},
   "outputs": [],
   "source": [
    "%%sql\n",
    "SELECT *\n",
    "FROM javascript\n",
    "LIMIT 10"
   ]
  },
  {
   "cell_type": "code",
   "execution_count": null,
   "metadata": {},
   "outputs": [],
   "source": [
    "%%sql\n",
    "WITH a AS (\n",
    "SELECT visit_id,url, COUNT(*) as n\n",
    "FROM http_responses\n",
    "WHERE content_hash <> \"\"\n",
    "GROUP BY visit_id,url\n",
    "ORDER BY n DESC\n",
    ")\n",
    "SELECT a.visit_id, site_visits.site_url, a.url, a.n\n",
    "FROM a\n",
    "INNER JOIN site_visits\n",
    "ON a.visit_id = site_visits.visit_id\n",
    "LIMIT 20\n"
   ]
  },
  {
   "cell_type": "code",
   "execution_count": null,
   "metadata": {},
   "outputs": [],
   "source": [
    "%%sql\n",
    "WITH a AS (\n",
    "SELECT visit_id,url, COUNT( DISTINCT content_hash ) as unique_content_hashs\n",
    "FROM http_responses\n",
    "WHERE content_hash <> \"\"\n",
    "GROUP BY visit_id,url\n",
    "ORDER BY unique_content_hashs DESC\n",
    ")\n",
    "SELECT a.visit_id, site_visits.site_url, a.url, a.unique_content_hashs\n",
    "FROM a\n",
    "INNER JOIN site_visits\n",
    "ON a.visit_id = site_visits.visit_id\n",
    "LIMIT 10\n"
   ]
  },
  {
   "cell_type": "code",
   "execution_count": null,
   "metadata": {},
   "outputs": [],
   "source": [
    "%%sql\n",
    "SELECT content_hash\n",
    "FROM http_responses\n",
    "WHERE visit_id = \"5244274392029786\" AND url = \"https://biptolyla.com/auW.ZNyzQu2r9FkyZnT/9U6gbE2C5mlFS/WvQT9RNPDlE/4OMrjrk/0HN/Cc0N0/MLT/g/yNOkTTQK1ZJPnEB-1KcV2-hiaRbO2/5/lGS/WeQs9iNIDeEZ4rMtjTkS0/NVCI0R0UMWT/gwy/OlTQQ/1R\"\n",
    "GROUP BY content_hash"
   ]
  },
  {
   "cell_type": "code",
   "execution_count": null,
   "metadata": {},
   "outputs": [],
   "source": [
    "import difflib\n",
    "from pprint import pprint\n",
    "\n",
    "\n",
    "x = difflib.Differ()\n",
    "str1 = str( db.get(b\"338359dbbf86b03f293159f6673b33f7f87a0ab0a6930df27bfc69582b824748\"), encoding=\"utf-8\")\n",
    "str2 = str( db.get(b\"339f38f18297db8afa9cdd0f873676e520ab736af47643d682ac158900f78913\"), encoding=\"utf-8\")\n",
    "cmp = x.compare( str1.splitlines(keepends=True), str2.splitlines(keepends=True)  )\n",
    "for line in filter(lambda s : s[0] == \"+\" or s[0] == \"-\", cmp ):\n",
    "    print(line,end = \"\\n\\n\\n\\n\")\n"
   ]
  },
  {
   "cell_type": "code",
   "execution_count": null,
   "metadata": {},
   "outputs": [],
   "source": [
    "%%sql\n",
    "SELECT *\n",
    "FROM site_visits\n",
    "WHERE visit_id = \"7805288562003358\" OR visit_id = \"6723308048261410\""
   ]
  },
  {
   "cell_type": "code",
   "execution_count": null,
   "metadata": {},
   "outputs": [],
   "source": [
    "r = requests.get(\"http://localhost:8000\", params={})"
   ]
  },
  {
   "cell_type": "code",
   "execution_count": null,
   "metadata": {},
   "outputs": [],
   "source": [
    "r.text"
   ]
  },
  {
   "cell_type": "code",
   "execution_count": null,
   "metadata": {},
   "outputs": [],
   "source": []
  }
 ],
 "metadata": {
  "kernelspec": {
   "display_name": "Python 3",
   "language": "python",
   "name": "python3"
  },
  "language_info": {
   "codemirror_mode": {
    "name": "ipython",
    "version": 3
   },
   "file_extension": ".py",
   "mimetype": "text/x-python",
   "name": "python",
   "nbconvert_exporter": "python",
   "pygments_lexer": "ipython3",
   "version": "3.11.0"
  },
  "orig_nbformat": 4,
  "vscode": {
   "interpreter": {
    "hash": "8fa06f303b1b4e60701d0a8101971282972f2db52226d4c9817dd0a37991a141"
   }
  }
 },
 "nbformat": 4,
 "nbformat_minor": 2
}
