{
 "cells": [
  {
   "cell_type": "code",
   "execution_count": 2,
   "metadata": {},
   "outputs": [
    {
     "data": {
      "text/plain": [
       "'Connected: @/home/ndanner_plp/OpenWPM/crawl-data/datadir-0-10000/crawl-data.sqlite'"
      ]
     },
     "execution_count": 2,
     "metadata": {},
     "output_type": "execute_result"
    }
   ],
   "source": [
    "import sqlite3\n",
    "# import plyvel\n",
    "from pathlib import Path\n",
    "# import re\n",
    "# import json\n",
    "from runHealth import runHealth\n",
    "# from functions.dynamic_analysis import Dynamic\n",
    "import requests\n",
    "# from sqlalchemy import URL\n",
    "\n",
    "path : Path = Path('/home/ndanner_plp/OpenWPM/crawl-data/datadir-0-10000')\n",
    "con : sqlite3.Connection = sqlite3.connect( str(path.joinpath(\"crawl-data.sqlite\")) )\n",
    "# db = plyvel.DB( str(path.joinpath(\"leveldb\")) ) #type: ignore\n",
    "%load_ext sql\n",
    "%sql sqlite:///{path}/crawl-data.sqlite\n"
   ]
  },
  {
   "cell_type": "code",
   "execution_count": 3,
   "metadata": {},
   "outputs": [
    {
     "name": "stdout",
     "output_type": "stream",
     "text": [
      "total visits: 10000, failed/incomplete visits: 3934. Success percentage: 61%\n"
     ]
    }
   ],
   "source": [
    "n, f = runHealth(con)\n",
    "print(f\"total visits: {n}, failed/incomplete visits: {f}. Success percentage: {round(100* (1 - f/n)) }%\")"
   ]
  },
  {
   "cell_type": "code",
   "execution_count": null,
   "metadata": {},
   "outputs": [],
   "source": [
    "%%sql\n",
    "SELECT incomplete_visits.visit_id, site_visits.site_url\n",
    "FROM incomplete_visits\n",
    "INNER JOIN site_visits \n",
    "ON incomplete_visits.visit_id = site_visits.visit_id\n",
    "LIMIT 10"
   ]
  },
  {
   "cell_type": "code",
   "execution_count": null,
   "metadata": {},
   "outputs": [],
   "source": [
    "%%sql\n",
    "SELECT symbol, count(DISTINCT visit_id) AS n_sites, count(*) as n\n",
    "FROM javascript\n",
    "GROUP BY symbol\n",
    "ORDER BY symbol"
   ]
  },
  {
   "cell_type": "code",
   "execution_count": null,
   "metadata": {},
   "outputs": [],
   "source": [
    "%%sql\n",
    "SELECT COUNT(*)\n",
    "FROM (\n",
    "SELECT DISTINCT visit_id,url\n",
    "FROM http_responses\n",
    "WHERE content_hash <> \"\"\n",
    ")\n"
   ]
  },
  {
   "cell_type": "code",
   "execution_count": null,
   "metadata": {},
   "outputs": [],
   "source": [
    "%%sql\n",
    "SELECT COUNT(*) FROM (\n",
    "SELECT visit_id,url\n",
    "FROM http_responses\n",
    "WHERE content_hash <> \"\"\n",
    "GROUP BY visit_id,url\n",
    ")"
   ]
  },
  {
   "cell_type": "code",
   "execution_count": null,
   "metadata": {},
   "outputs": [],
   "source": [
    "%%sql\n",
    "WITH a AS (\n",
    "SELECT visit_id,script_url\n",
    "FROM javascript\n",
    "GROUP BY visit_id,script_url\n",
    ")\n",
    "SELECT COUNT(*)\n",
    "FROM a"
   ]
  },
  {
   "cell_type": "code",
   "execution_count": null,
   "metadata": {},
   "outputs": [],
   "source": [
    "%%sql\n",
    "SELECT * \n",
    "FROM javascript \n",
    "PARTITION BY visit_id, script_url\n",
    "LIMIT 100"
   ]
  },
  {
   "cell_type": "code",
   "execution_count": null,
   "metadata": {},
   "outputs": [],
   "source": [
    "%%sql\n",
    "SELECT COUNT(*)\n",
    "FROM javascript"
   ]
  },
  {
   "cell_type": "code",
   "execution_count": 11,
   "metadata": {},
   "outputs": [
    {
     "name": "stdout",
     "output_type": "stream",
     "text": [
      " * sqlite:////home/ndanner_plp/OpenWPM/crawl-data/datadir-0-10000/crawl-data.sqlite\n",
      "Done.\n"
     ]
    },
    {
     "data": {
      "text/html": [
       "<table>\n",
       "    <thead>\n",
       "        <tr>\n",
       "            <th>visit_id</th>\n",
       "            <th>script_url</th>\n",
       "            <th>n</th>\n",
       "        </tr>\n",
       "    </thead>\n",
       "    <tbody>\n",
       "        <tr>\n",
       "            <td>7323554477239204</td>\n",
       "            <td>https://static.cargo.site/assets/builds/apipackage.min.js?c=2350298606&amp;</td>\n",
       "            <td>500</td>\n",
       "        </tr>\n",
       "        <tr>\n",
       "            <td>173796819348578</td>\n",
       "            <td>https://s20.tiktokcdn.com/tiktok/common/init.js?seed=AMC4vxKGAQAAYEdijFEsUb9V3g0lWMHbRlEF89wovviv22Hvb1y-dZv6y2S4&amp;hTc6j8Njvn--z=q</td>\n",
       "            <td>155</td>\n",
       "        </tr>\n",
       "        <tr>\n",
       "            <td>572236464203650</td>\n",
       "            <td>https://services.chipotle.com/new_cmg_utils1.js</td>\n",
       "            <td>155</td>\n",
       "        </tr>\n",
       "        <tr>\n",
       "            <td>572236464203650</td>\n",
       "            <td>https://www.chipotle.com/</td>\n",
       "            <td>155</td>\n",
       "        </tr>\n",
       "        <tr>\n",
       "            <td>1114196132792642</td>\n",
       "            <td>https://www.nginx.com/common.js?async</td>\n",
       "            <td>155</td>\n",
       "        </tr>\n",
       "        <tr>\n",
       "            <td>1254680685921083</td>\n",
       "            <td>https://www.marriott.com/common/js/marriottCommon.js?seed=AMD-4xGGAQAA6Dqw_cgRWNCfJ3CB2EEqKPOqqazssOwp1G-UzXAcAtRUt6SU&amp;X-aZnN0eCb--z=q</td>\n",
       "            <td>155</td>\n",
       "        </tr>\n",
       "        <tr>\n",
       "            <td>1602608118822866</td>\n",
       "            <td>https://www.southwest.com/assets/app/scripts/swa-common.js</td>\n",
       "            <td>155</td>\n",
       "        </tr>\n",
       "        <tr>\n",
       "            <td>2217785686774227</td>\n",
       "            <td>https://www.rakuten.com/rmsgjs/soj2.js?seed=AABg_QuGAQAAq4nqOIL6_qQ6P9WZsnW1XIe-QvaAXJXV-znR8xebarfvtA_A&amp;rjcJiH2tbt--z=q</td>\n",
       "            <td>155</td>\n",
       "        </tr>\n",
       "        <tr>\n",
       "            <td>2360336702268483</td>\n",
       "            <td>https://www.key.com/about/fscommon.js?seed=AIBkNhKGAQAAfLEcikExJ0oayljhZ0Yyy1gJTgMOF1U1wwJ3Q-awX53_lkw-&amp;4asg7JkbCB-z=q</td>\n",
       "            <td>155</td>\n",
       "        </tr>\n",
       "        <tr>\n",
       "            <td>3011296298932799</td>\n",
       "            <td>https://www.citi.com/assets/scripts/global/6c8322c7341eac98645c10e3d1d3c7ae.js?seed=AMBPCRSGAQAAKm8QtoTduXZCxcSZ4Hc1uBBZufW8Glf_L52tF7gKSAhMG4Cy&amp;X-soz9htCz--z=q</td>\n",
       "            <td>155</td>\n",
       "        </tr>\n",
       "        <tr>\n",
       "            <td>3384131445466945</td>\n",
       "            <td>https://www.rottentomatoes.com/rt-common.js?seed=AIBxxguGAQAAbVxcPlOuJWfZTMknfUHh_0sB9jmfDwY8n8J_Aw1bJYIdJCjf&amp;HgdtNmCjYr--z=q</td>\n",
       "            <td>155</td>\n",
       "        </tr>\n",
       "        <tr>\n",
       "            <td>3730153644514139</td>\n",
       "            <td>https://www.levi.com/ngsa/library/levi_common.js?async</td>\n",
       "            <td>155</td>\n",
       "        </tr>\n",
       "        <tr>\n",
       "            <td>4059020579545837</td>\n",
       "            <td>https://www.marriott.com/common/js/marriottCommon.js?seed=AIAeEhOGAQAAQtUbW7k4DFT3JQHSEr_TI6gdiSkoo4sfg8Y-KFFIl7V8hYfG&amp;X-aZnN0eCb--z=q</td>\n",
       "            <td>155</td>\n",
       "        </tr>\n",
       "        <tr>\n",
       "            <td>4279467169029728</td>\n",
       "            <td>https://www.citi.com/assets/scripts/global/6c8322c7341eac98645c10e3d1d3c7ae.js?seed=AEADHRiGAQAAVRSYz6yR1YAB58GzQnhjq4zeWNNWZfn_h1h-s5Ggz8ex-ShH&amp;X-soz9htCz--z=q</td>\n",
       "            <td>155</td>\n",
       "        </tr>\n",
       "        <tr>\n",
       "            <td>4345417593478696</td>\n",
       "            <td>https://www.capitalone.com/assets/enterprise/js/cp_check.js?seed=AOA_chOGAQAA0kmLtjqsMZli2cgNtXZtI0WVvD64uG7F8gYs3clg7EVnZPNB&amp;X-NgaGAEec--z=q</td>\n",
       "            <td>155</td>\n",
       "        </tr>\n",
       "        <tr>\n",
       "            <td>4439923522041298</td>\n",
       "            <td>https://dias.bank.truist.com/ui/scripts/truist_common.js</td>\n",
       "            <td>155</td>\n",
       "        </tr>\n",
       "        <tr>\n",
       "            <td>4643940272304280</td>\n",
       "            <td>https://static1.st8fm.com/en_US/b2c_dvts/common/js/lib/StateFarmCommon.js?seed=AEDViRWGAQAAa3RvkhfL_7JDqr0agqWVL9w7CvGFZZ4_lBuzpL3Q63Y3aiqD&amp;J5odCIZGx--z=q</td>\n",
       "            <td>155</td>\n",
       "        </tr>\n",
       "        <tr>\n",
       "            <td>4832264792444047</td>\n",
       "            <td>https://www.westernunion.com/etc/clientlibs/westernunion/wu_common.js</td>\n",
       "            <td>155</td>\n",
       "        </tr>\n",
       "        <tr>\n",
       "            <td>5027607180855924</td>\n",
       "            <td>https://static1.st8fm.com/en_US/b2c_dvts/common/js/lib/StateFarmCommon.js?seed=AEBuYg2GAQAA_eoZ5GvS0WTtDN1bqk1wLKcLuCBo4LOncaeg_MtsmO7ZdMOi&amp;J5odCIZGx--z=q</td>\n",
       "            <td>155</td>\n",
       "        </tr>\n",
       "        <tr>\n",
       "            <td>6025420476847265</td>\n",
       "            <td>https://assets.targetimg1.com/ssx/ssx.mod.js?seed=AAANSROGAQAAIVBSSuo9wskIqEBSZgkzkPaJLW_qy3ast-qHmPVgyDFSZQ3D&amp;X-GyJwza5Z--z=q</td>\n",
       "            <td>155</td>\n",
       "        </tr>\n",
       "    </tbody>\n",
       "</table>"
      ],
      "text/plain": [
       "[(7323554477239204, 'https://static.cargo.site/assets/builds/apipackage.min.js?c=2350298606&', 500),\n",
       " (173796819348578, 'https://s20.tiktokcdn.com/tiktok/common/init.js?seed=AMC4vxKGAQAAYEdijFEsUb9V3g0lWMHbRlEF89wovviv22Hvb1y-dZv6y2S4&hTc6j8Njvn--z=q', 155),\n",
       " (572236464203650, 'https://services.chipotle.com/new_cmg_utils1.js', 155),\n",
       " (572236464203650, 'https://www.chipotle.com/', 155),\n",
       " (1114196132792642, 'https://www.nginx.com/common.js?async', 155),\n",
       " (1254680685921083, 'https://www.marriott.com/common/js/marriottCommon.js?seed=AMD-4xGGAQAA6Dqw_cgRWNCfJ3CB2EEqKPOqqazssOwp1G-UzXAcAtRUt6SU&X-aZnN0eCb--z=q', 155),\n",
       " (1602608118822866, 'https://www.southwest.com/assets/app/scripts/swa-common.js', 155),\n",
       " (2217785686774227, 'https://www.rakuten.com/rmsgjs/soj2.js?seed=AABg_QuGAQAAq4nqOIL6_qQ6P9WZsnW1XIe-QvaAXJXV-znR8xebarfvtA_A&rjcJiH2tbt--z=q', 155),\n",
       " (2360336702268483, 'https://www.key.com/about/fscommon.js?seed=AIBkNhKGAQAAfLEcikExJ0oayljhZ0Yyy1gJTgMOF1U1wwJ3Q-awX53_lkw-&4asg7JkbCB-z=q', 155),\n",
       " (3011296298932799, 'https://www.citi.com/assets/scripts/global/6c8322c7341eac98645c10e3d1d3c7ae.js?seed=AMBPCRSGAQAAKm8QtoTduXZCxcSZ4Hc1uBBZufW8Glf_L52tF7gKSAhMG4Cy&X-soz9htCz--z=q', 155),\n",
       " (3384131445466945, 'https://www.rottentomatoes.com/rt-common.js?seed=AIBxxguGAQAAbVxcPlOuJWfZTMknfUHh_0sB9jmfDwY8n8J_Aw1bJYIdJCjf&HgdtNmCjYr--z=q', 155),\n",
       " (3730153644514139, 'https://www.levi.com/ngsa/library/levi_common.js?async', 155),\n",
       " (4059020579545837, 'https://www.marriott.com/common/js/marriottCommon.js?seed=AIAeEhOGAQAAQtUbW7k4DFT3JQHSEr_TI6gdiSkoo4sfg8Y-KFFIl7V8hYfG&X-aZnN0eCb--z=q', 155),\n",
       " (4279467169029728, 'https://www.citi.com/assets/scripts/global/6c8322c7341eac98645c10e3d1d3c7ae.js?seed=AEADHRiGAQAAVRSYz6yR1YAB58GzQnhjq4zeWNNWZfn_h1h-s5Ggz8ex-ShH&X-soz9htCz--z=q', 155),\n",
       " (4345417593478696, 'https://www.capitalone.com/assets/enterprise/js/cp_check.js?seed=AOA_chOGAQAA0kmLtjqsMZli2cgNtXZtI0WVvD64uG7F8gYs3clg7EVnZPNB&X-NgaGAEec--z=q', 155),\n",
       " (4439923522041298, 'https://dias.bank.truist.com/ui/scripts/truist_common.js', 155),\n",
       " (4643940272304280, 'https://static1.st8fm.com/en_US/b2c_dvts/common/js/lib/StateFarmCommon.js?seed=AEDViRWGAQAAa3RvkhfL_7JDqr0agqWVL9w7CvGFZZ4_lBuzpL3Q63Y3aiqD&J5odCIZGx--z=q', 155),\n",
       " (4832264792444047, 'https://www.westernunion.com/etc/clientlibs/westernunion/wu_common.js', 155),\n",
       " (5027607180855924, 'https://static1.st8fm.com/en_US/b2c_dvts/common/js/lib/StateFarmCommon.js?seed=AEBuYg2GAQAA_eoZ5GvS0WTtDN1bqk1wLKcLuCBo4LOncaeg_MtsmO7ZdMOi&J5odCIZGx--z=q', 155),\n",
       " (6025420476847265, 'https://assets.targetimg1.com/ssx/ssx.mod.js?seed=AAANSROGAQAAIVBSSuo9wskIqEBSZgkzkPaJLW_qy3ast-qHmPVgyDFSZQ3D&X-GyJwza5Z--z=q', 155)]"
      ]
     },
     "execution_count": 11,
     "metadata": {},
     "output_type": "execute_result"
    }
   ],
   "source": [
    "%%sql\n",
    "SELECT visit_id,script_url, COUNT(DISTINCT arguments) as n\n",
    "FROM javascript\n",
    "WHERE symbol = \"window.matchMedia\"\n",
    "GROUP BY visit_id,script_url\n",
    "ORDER BY n desc\n",
    "LIMIT 20"
   ]
  },
  {
   "cell_type": "code",
   "execution_count": null,
   "metadata": {},
   "outputs": [],
   "source": []
  },
  {
   "cell_type": "code",
   "execution_count": null,
   "metadata": {},
   "outputs": [],
   "source": [
    "# %load_ext sql\n",
    "# symbols = {}\n",
    "# for path in Path(\"/home/ndanner_plp/OpenWPM/crawl-data\").iterdir():\n",
    "#     if path.is_dir() and re.match(\"^datadir\" ,path.name):\n",
    "#         %sql sqlite:///{path}/crawl-data.sqlite\n",
    "#         result = %sql SELECT DISTINCT(symbol) FROM javascript\n",
    "#         if result:\n",
    "#             for symbol in result.DataFrame()['symbol']:\n",
    "#                 if symbol in symbols:\n",
    "#                     symbols[symbol].append(path.name)\n",
    "#                 else:\n",
    "#                     symbols[symbol] = [path.name]\n",
    "# print( json.dumps( symbols, indent= 4 ) )"
   ]
  },
  {
   "attachments": {},
   "cell_type": "markdown",
   "metadata": {},
   "source": [
    "OfflineAudioContext"
   ]
  },
  {
   "cell_type": "code",
   "execution_count": null,
   "metadata": {},
   "outputs": [],
   "source": [
    "%%sql\n",
    "SELECT *\n",
    "FROM javascript\n",
    "LIMIT 10"
   ]
  },
  {
   "cell_type": "code",
   "execution_count": null,
   "metadata": {},
   "outputs": [],
   "source": [
    "%%sql\n",
    "WITH a AS (\n",
    "SELECT visit_id,url, COUNT(*) as n\n",
    "FROM http_responses\n",
    "WHERE content_hash <> \"\"\n",
    "GROUP BY visit_id,url\n",
    "ORDER BY n DESC\n",
    ")\n",
    "SELECT a.visit_id, site_visits.site_url, a.url, a.n\n",
    "FROM a\n",
    "INNER JOIN site_visits\n",
    "ON a.visit_id = site_visits.visit_id\n",
    "LIMIT 20\n"
   ]
  },
  {
   "cell_type": "code",
   "execution_count": null,
   "metadata": {},
   "outputs": [],
   "source": [
    "%%sql\n",
    "WITH a AS (\n",
    "SELECT visit_id,url, COUNT( DISTINCT content_hash ) as unique_content_hashs\n",
    "FROM http_responses\n",
    "WHERE content_hash <> \"\"\n",
    "GROUP BY visit_id,url\n",
    "ORDER BY unique_content_hashs DESC\n",
    ")\n",
    "SELECT a.visit_id, site_visits.site_url, a.url, a.unique_content_hashs\n",
    "FROM a\n",
    "INNER JOIN site_visits\n",
    "ON a.visit_id = site_visits.visit_id\n",
    "LIMIT 10\n"
   ]
  },
  {
   "cell_type": "code",
   "execution_count": null,
   "metadata": {},
   "outputs": [],
   "source": [
    "%%sql\n",
    "SELECT content_hash\n",
    "FROM http_responses\n",
    "WHERE visit_id = \"5244274392029786\" AND url = \"https://biptolyla.com/auW.ZNyzQu2r9FkyZnT/9U6gbE2C5mlFS/WvQT9RNPDlE/4OMrjrk/0HN/Cc0N0/MLT/g/yNOkTTQK1ZJPnEB-1KcV2-hiaRbO2/5/lGS/WeQs9iNIDeEZ4rMtjTkS0/NVCI0R0UMWT/gwy/OlTQQ/1R\"\n",
    "GROUP BY content_hash"
   ]
  },
  {
   "cell_type": "code",
   "execution_count": null,
   "metadata": {},
   "outputs": [],
   "source": [
    "import difflib\n",
    "from pprint import pprint\n",
    "\n",
    "\n",
    "x = difflib.Differ()\n",
    "str1 = str( db.get(b\"338359dbbf86b03f293159f6673b33f7f87a0ab0a6930df27bfc69582b824748\"), encoding=\"utf-8\")\n",
    "str2 = str( db.get(b\"339f38f18297db8afa9cdd0f873676e520ab736af47643d682ac158900f78913\"), encoding=\"utf-8\")\n",
    "cmp = x.compare( str1.splitlines(keepends=True), str2.splitlines(keepends=True)  )\n",
    "for line in filter(lambda s : s[0] == \"+\" or s[0] == \"-\", cmp ):\n",
    "    print(line,end = \"\\n\\n\\n\\n\")\n"
   ]
  },
  {
   "cell_type": "code",
   "execution_count": null,
   "metadata": {},
   "outputs": [],
   "source": [
    "%%sql\n",
    "SELECT *\n",
    "FROM site_visits\n",
    "WHERE visit_id = \"7805288562003358\" OR visit_id = \"6723308048261410\""
   ]
  },
  {
   "cell_type": "code",
   "execution_count": null,
   "metadata": {},
   "outputs": [],
   "source": [
    "r = requests.get(\"http://localhost:8000\", params={})"
   ]
  },
  {
   "cell_type": "code",
   "execution_count": null,
   "metadata": {},
   "outputs": [],
   "source": [
    "r.text"
   ]
  },
  {
   "cell_type": "code",
   "execution_count": null,
   "metadata": {},
   "outputs": [],
   "source": []
  }
 ],
 "metadata": {
  "kernelspec": {
   "display_name": "Python 3",
   "language": "python",
   "name": "python3"
  },
  "language_info": {
   "codemirror_mode": {
    "name": "ipython",
    "version": 3
   },
   "file_extension": ".py",
   "mimetype": "text/x-python",
   "name": "python",
   "nbconvert_exporter": "python",
   "pygments_lexer": "ipython3",
   "version": "3.11.0"
  },
  "orig_nbformat": 4,
  "vscode": {
   "interpreter": {
    "hash": "8fa06f303b1b4e60701d0a8101971282972f2db52226d4c9817dd0a37991a141"
   }
  }
 },
 "nbformat": 4,
 "nbformat_minor": 2
}
