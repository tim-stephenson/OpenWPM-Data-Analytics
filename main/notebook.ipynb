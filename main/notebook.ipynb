{
 "cells": [
  {
   "cell_type": "code",
   "execution_count": 1,
   "metadata": {},
   "outputs": [],
   "source": [
    "import sqlite3\n",
    "import plyvel\n",
    "from pathlib import Path\n",
    "import re\n",
    "import json\n",
    "from functions.runHealth import runHealth\n",
    "# from functions.dynamic_analysis import Dynamic\n",
    "import requests"
   ]
  },
  {
   "cell_type": "code",
   "execution_count": 2,
   "metadata": {},
   "outputs": [
    {
     "data": {
      "text/plain": [
       "'Connected: @../../datadirTesting2/crawl-data.sqlite'"
      ]
     },
     "execution_count": 2,
     "metadata": {},
     "output_type": "execute_result"
    }
   ],
   "source": [
    "# path : Path = Path('/home/ndanner_plp/OpenWPM/crawl-data/datadir8000')\n",
    "path : Path = Path('../../datadirTesting2')\n",
    "con : sqlite3.Connection = sqlite3.connect( str(path.joinpath(\"crawl-data.sqlite\")) )\n",
    "db = plyvel.DB( str(path.joinpath(\"leveldb\")) )\n",
    "%load_ext sql\n",
    "%sql sqlite:///{path}/crawl-data.sqlite"
   ]
  },
  {
   "cell_type": "code",
   "execution_count": null,
   "metadata": {},
   "outputs": [],
   "source": [
    "n, f = runHealth(con)\n",
    "print(f\"total visits: {n}, failed/incomplete visits: {f}. Success percentage: {round(100* (1 - f/n)) }%\")"
   ]
  },
  {
   "cell_type": "code",
   "execution_count": null,
   "metadata": {},
   "outputs": [],
   "source": [
    "for key, value in db:\n",
    "    print(key)\n",
    "    # print(value, end=\"\\n\\n\")"
   ]
  },
  {
   "cell_type": "code",
   "execution_count": null,
   "metadata": {},
   "outputs": [],
   "source": [
    "# results = Dynamic(con)\n",
    "# print( json.dumps( results, indent= 4 ) )"
   ]
  },
  {
   "cell_type": "code",
   "execution_count": null,
   "metadata": {},
   "outputs": [],
   "source": [
    "# %load_ext sql\n",
    "# symbols = {}\n",
    "# for path in Path(\"/home/ndanner_plp/OpenWPM/crawl-data\").iterdir():\n",
    "#     if path.is_dir() and re.match(\"^datadir\" ,path.name):\n",
    "#         %sql sqlite:///{path}/crawl-data.sqlite\n",
    "#         result = %sql SELECT DISTINCT(symbol) FROM javascript\n",
    "#         if result:\n",
    "#             for symbol in result.DataFrame()['symbol']:\n",
    "#                 if symbol in symbols:\n",
    "#                     symbols[symbol].append(path.name)\n",
    "#                 else:\n",
    "#                     symbols[symbol] = [path.name]\n",
    "# print( json.dumps( symbols, indent= 4 ) )"
   ]
  },
  {
   "attachments": {},
   "cell_type": "markdown",
   "metadata": {},
   "source": [
    "OfflineAudioContext"
   ]
  },
  {
   "cell_type": "code",
   "execution_count": 3,
   "metadata": {},
   "outputs": [
    {
     "name": "stdout",
     "output_type": "stream",
     "text": [
      " * sqlite:///../../datadirTesting2/crawl-data.sqlite\n",
      "Done.\n"
     ]
    },
    {
     "data": {
      "text/html": [
       "<table>\n",
       "    <thead>\n",
       "        <tr>\n",
       "            <th>id</th>\n",
       "            <th>incognito</th>\n",
       "            <th>browser_id</th>\n",
       "            <th>visit_id</th>\n",
       "            <th>extension_session_uuid</th>\n",
       "            <th>event_ordinal</th>\n",
       "            <th>page_scoped_event_ordinal</th>\n",
       "            <th>window_id</th>\n",
       "            <th>tab_id</th>\n",
       "            <th>frame_id</th>\n",
       "            <th>script_url</th>\n",
       "            <th>script_line</th>\n",
       "            <th>script_col</th>\n",
       "            <th>func_name</th>\n",
       "            <th>script_loc_eval</th>\n",
       "            <th>document_url</th>\n",
       "            <th>top_level_url</th>\n",
       "            <th>call_stack</th>\n",
       "            <th>symbol</th>\n",
       "            <th>operation</th>\n",
       "            <th>value</th>\n",
       "            <th>arguments</th>\n",
       "            <th>time_stamp</th>\n",
       "        </tr>\n",
       "    </thead>\n",
       "    <tbody>\n",
       "    </tbody>\n",
       "</table>"
      ],
      "text/plain": [
       "[]"
      ]
     },
     "execution_count": 3,
     "metadata": {},
     "output_type": "execute_result"
    }
   ],
   "source": [
    "%%sql\n",
    "SELECT *\n",
    "FROM javascript\n",
    "LIMIT 10"
   ]
  },
  {
   "cell_type": "code",
   "execution_count": null,
   "metadata": {},
   "outputs": [],
   "source": [
    "%%sql\n",
    "WITH a AS (\n",
    "SELECT visit_id,url, COUNT(*) as n\n",
    "FROM http_responses\n",
    "WHERE content_hash <> \"\"\n",
    "GROUP BY visit_id,url\n",
    "ORDER BY n DESC\n",
    ")\n",
    "SELECT a.visit_id, site_visits.site_url, a.url, a.n\n",
    "FROM a\n",
    "INNER JOIN site_visits\n",
    "ON a.visit_id = site_visits.visit_id\n",
    "LIMIT 20\n"
   ]
  },
  {
   "cell_type": "code",
   "execution_count": 8,
   "metadata": {},
   "outputs": [
    {
     "name": "stdout",
     "output_type": "stream",
     "text": [
      " * sqlite:////home/ndanner_plp/OpenWPM/crawl-data/datadir8000/crawl-data.sqlite\n",
      "Done.\n"
     ]
    },
    {
     "data": {
      "text/html": [
       "<table>\n",
       "    <thead>\n",
       "        <tr>\n",
       "            <th>visit_id</th>\n",
       "            <th>site_url</th>\n",
       "            <th>url</th>\n",
       "            <th>unique_content_hashs</th>\n",
       "        </tr>\n",
       "    </thead>\n",
       "    <tbody>\n",
       "        <tr>\n",
       "            <td>5244274392029786</td>\n",
       "            <td>http://www.titsamateur.com</td>\n",
       "            <td>https://biptolyla.com/auW.ZNyzQu2r9FkyZnT/9U6gbE2C5mlFS/WvQT9RNPDlE/4OMrjrk/0HN/Cc0N0/MLT/g/yNOkTTQK1ZJPnEB-1KcV2-hiaRbO2/5/lGS/WeQs9iNIDeEZ4rMtjTkS0/NVCI0R0UMWT/gwy/OlTQQ/1R</td>\n",
       "            <td>8</td>\n",
       "        </tr>\n",
       "        <tr>\n",
       "            <td>8428889483414827</td>\n",
       "            <td>http://www.szjyhh.com.cn</td>\n",
       "            <td>https://www.metamarket.quest/market.js</td>\n",
       "            <td>8</td>\n",
       "        </tr>\n",
       "        <tr>\n",
       "            <td>595931919046536</td>\n",
       "            <td>http://www.designfiles.co</td>\n",
       "            <td>https://www.youtube.com/s/player/ac058a09/player_ias.vflset/en_US/base.js</td>\n",
       "            <td>7</td>\n",
       "        </tr>\n",
       "        <tr>\n",
       "            <td>6286216596141982</td>\n",
       "            <td>http://www.yoldaolmak.com</td>\n",
       "            <td>https://pagead2.googlesyndication.com/pagead/js/adsbygoogle.js</td>\n",
       "            <td>7</td>\n",
       "        </tr>\n",
       "        <tr>\n",
       "            <td>6600483715556861</td>\n",
       "            <td>http://www.xblognetwork.com</td>\n",
       "            <td>https://biptolyla.com/auW.ZNyzQu2r9FkyZnT/9U6gbE2C5mlFS/WvQT9RNPDlE/4OMrjrk/0HN/Cc0N0/MLT/g/yNOkTTQK1ZJPnEB-1KcV2-hiaRbO2/5/lGS/WeQs9iNIDeEZ4rMtjTkS0/NVCI0R0UMWT/gwy/OlTQQ/1R</td>\n",
       "            <td>7</td>\n",
       "        </tr>\n",
       "        <tr>\n",
       "            <td>632226293590573</td>\n",
       "            <td>http://www.diabeticlivingonline.com</td>\n",
       "            <td>https://www.googletagservices.com/activeview/js/current/rx_lidar.js?cache=r20110914</td>\n",
       "            <td>6</td>\n",
       "        </tr>\n",
       "        <tr>\n",
       "            <td>1354337540513286</td>\n",
       "            <td>http://www.radiopatrulla.com</td>\n",
       "            <td>https://www.youtube.com/s/player/ac058a09/www-embed-player.vflset/www-embed-player.js</td>\n",
       "            <td>6</td>\n",
       "        </tr>\n",
       "        <tr>\n",
       "            <td>1887521339126289</td>\n",
       "            <td>http://www.sol8.com</td>\n",
       "            <td>https://analytics.tiktok.com/i18n/pixel/events.js?sdkid=C8138IMVLJR68Q6CP16G&amp;lib=ttq</td>\n",
       "            <td>6</td>\n",
       "        </tr>\n",
       "        <tr>\n",
       "            <td>2247437759755395</td>\n",
       "            <td>http://www.laparadadigital.com</td>\n",
       "            <td>https://excellence-prebid.sfo2.cdn.digitaloceanspaces.com/prebid.js</td>\n",
       "            <td>6</td>\n",
       "        </tr>\n",
       "        <tr>\n",
       "            <td>3250367981354015</td>\n",
       "            <td>http://www.times24tv.com</td>\n",
       "            <td>https://pagead2.googlesyndication.com/pagead/js/adsbygoogle.js?client=ca-pub-8675921606360886</td>\n",
       "            <td>6</td>\n",
       "        </tr>\n",
       "    </tbody>\n",
       "</table>"
      ],
      "text/plain": [
       "[(5244274392029786, 'http://www.titsamateur.com', 'https://biptolyla.com/auW.ZNyzQu2r9FkyZnT/9U6gbE2C5mlFS/WvQT9RNPDlE/4OMrjrk/0HN/Cc0N0/MLT/g/yNOkTTQK1ZJPnEB-1KcV2-hiaRbO2/5/lGS/WeQs9iNIDeEZ4rMtjTkS0/NVCI0R0UMWT/gwy/OlTQQ/1R', 8),\n",
       " (8428889483414827, 'http://www.szjyhh.com.cn', 'https://www.metamarket.quest/market.js', 8),\n",
       " (595931919046536, 'http://www.designfiles.co', 'https://www.youtube.com/s/player/ac058a09/player_ias.vflset/en_US/base.js', 7),\n",
       " (6286216596141982, 'http://www.yoldaolmak.com', 'https://pagead2.googlesyndication.com/pagead/js/adsbygoogle.js', 7),\n",
       " (6600483715556861, 'http://www.xblognetwork.com', 'https://biptolyla.com/auW.ZNyzQu2r9FkyZnT/9U6gbE2C5mlFS/WvQT9RNPDlE/4OMrjrk/0HN/Cc0N0/MLT/g/yNOkTTQK1ZJPnEB-1KcV2-hiaRbO2/5/lGS/WeQs9iNIDeEZ4rMtjTkS0/NVCI0R0UMWT/gwy/OlTQQ/1R', 7),\n",
       " (632226293590573, 'http://www.diabeticlivingonline.com', 'https://www.googletagservices.com/activeview/js/current/rx_lidar.js?cache=r20110914', 6),\n",
       " (1354337540513286, 'http://www.radiopatrulla.com', 'https://www.youtube.com/s/player/ac058a09/www-embed-player.vflset/www-embed-player.js', 6),\n",
       " (1887521339126289, 'http://www.sol8.com', 'https://analytics.tiktok.com/i18n/pixel/events.js?sdkid=C8138IMVLJR68Q6CP16G&lib=ttq', 6),\n",
       " (2247437759755395, 'http://www.laparadadigital.com', 'https://excellence-prebid.sfo2.cdn.digitaloceanspaces.com/prebid.js', 6),\n",
       " (3250367981354015, 'http://www.times24tv.com', 'https://pagead2.googlesyndication.com/pagead/js/adsbygoogle.js?client=ca-pub-8675921606360886', 6)]"
      ]
     },
     "execution_count": 8,
     "metadata": {},
     "output_type": "execute_result"
    }
   ],
   "source": [
    "%%sql\n",
    "WITH a AS (\n",
    "SELECT visit_id,url, COUNT( DISTINCT content_hash ) as unique_content_hashs\n",
    "FROM http_responses\n",
    "WHERE content_hash <> \"\"\n",
    "GROUP BY visit_id,url\n",
    "ORDER BY unique_content_hashs DESC\n",
    ")\n",
    "SELECT a.visit_id, site_visits.site_url, a.url, a.unique_content_hashs\n",
    "FROM a\n",
    "INNER JOIN site_visits\n",
    "ON a.visit_id = site_visits.visit_id\n",
    "LIMIT 10\n"
   ]
  },
  {
   "cell_type": "code",
   "execution_count": 6,
   "metadata": {},
   "outputs": [
    {
     "name": "stdout",
     "output_type": "stream",
     "text": [
      " * sqlite:////home/ndanner_plp/OpenWPM/crawl-data/datadir8000/crawl-data.sqlite\n",
      "Done.\n"
     ]
    },
    {
     "data": {
      "text/html": [
       "<table>\n",
       "    <thead>\n",
       "        <tr>\n",
       "            <th>content_hash</th>\n",
       "        </tr>\n",
       "    </thead>\n",
       "    <tbody>\n",
       "        <tr>\n",
       "            <td>338359dbbf86b03f293159f6673b33f7f87a0ab0a6930df27bfc69582b824748</td>\n",
       "        </tr>\n",
       "        <tr>\n",
       "            <td>339f38f18297db8afa9cdd0f873676e520ab736af47643d682ac158900f78913</td>\n",
       "        </tr>\n",
       "        <tr>\n",
       "            <td>5207bf89b594aaa6d83cc89a0aaa8db154216710dbe35af0daab8b826944ae97</td>\n",
       "        </tr>\n",
       "        <tr>\n",
       "            <td>6a5c0622bd801957cc56b4dde9dace556dbf84da9ad1011ca8a5616cb4dbbfe4</td>\n",
       "        </tr>\n",
       "        <tr>\n",
       "            <td>7b5af75aa61ee6b982d3963610b2a5e3d29f59349c72e37838abb34093dff23e</td>\n",
       "        </tr>\n",
       "        <tr>\n",
       "            <td>8e8e82aab5fe939c31aa1ba868332ccd3d6be050ba3fe72c1d67c4172932e171</td>\n",
       "        </tr>\n",
       "        <tr>\n",
       "            <td>e33b4d3983818ea9a71dcc41555e08db1d0ac80376f4e5a8f7f34a783d4fb814</td>\n",
       "        </tr>\n",
       "        <tr>\n",
       "            <td>e3e9201a9baf494f63fe3166aad405294c7922b56e44510a722d8b0e63b6754c</td>\n",
       "        </tr>\n",
       "    </tbody>\n",
       "</table>"
      ],
      "text/plain": [
       "[('338359dbbf86b03f293159f6673b33f7f87a0ab0a6930df27bfc69582b824748',),\n",
       " ('339f38f18297db8afa9cdd0f873676e520ab736af47643d682ac158900f78913',),\n",
       " ('5207bf89b594aaa6d83cc89a0aaa8db154216710dbe35af0daab8b826944ae97',),\n",
       " ('6a5c0622bd801957cc56b4dde9dace556dbf84da9ad1011ca8a5616cb4dbbfe4',),\n",
       " ('7b5af75aa61ee6b982d3963610b2a5e3d29f59349c72e37838abb34093dff23e',),\n",
       " ('8e8e82aab5fe939c31aa1ba868332ccd3d6be050ba3fe72c1d67c4172932e171',),\n",
       " ('e33b4d3983818ea9a71dcc41555e08db1d0ac80376f4e5a8f7f34a783d4fb814',),\n",
       " ('e3e9201a9baf494f63fe3166aad405294c7922b56e44510a722d8b0e63b6754c',)]"
      ]
     },
     "execution_count": 6,
     "metadata": {},
     "output_type": "execute_result"
    }
   ],
   "source": [
    "%%sql\n",
    "SELECT content_hash\n",
    "FROM http_responses\n",
    "WHERE visit_id = \"5244274392029786\" AND url = \"https://biptolyla.com/auW.ZNyzQu2r9FkyZnT/9U6gbE2C5mlFS/WvQT9RNPDlE/4OMrjrk/0HN/Cc0N0/MLT/g/yNOkTTQK1ZJPnEB-1KcV2-hiaRbO2/5/lGS/WeQs9iNIDeEZ4rMtjTkS0/NVCI0R0UMWT/gwy/OlTQQ/1R\"\n",
    "GROUP BY content_hash"
   ]
  },
  {
   "cell_type": "code",
   "execution_count": 19,
   "metadata": {},
   "outputs": [
    {
     "name": "stdout",
     "output_type": "stream",
     "text": [
      "- if(n in o&&r.call(e,o[n],n,o))return!0;return!1})}(),matches:(function(ELEMENT){var matches=ELEMENT.matches||ELEMENT.matchesSelector||ELEMENT.webkitMatchesSelector||ELEMENT.mozMatchesSelector||ELEMENT.msMatchesSelector||ELEMENT.oMatchesSelector;!matches?(ELEMENT.matches=ELEMENT.matchesSelector=function matches(selector){var matches=document.querySelectorAll(selector);var th=this;return Array.prototype.some.call(matches,function(e){return e===th;});}):(ELEMENT.matches=ELEMENT.matchesSelector=matches);})(Element.prototype),closest:(function(ELEMENT){ELEMENT.closest=ELEMENT.closest||function closest(selector){if(!this)return null;if(this.matches(selector))return this;if(!this.parentElement){return null}else return this.parentElement.closest(selector)};})(Element.prototype),}},};try{proto.init(options?options:{});}catch(error){error.situation='banner init';logError(error);}})({\"ads\":[{\"iframeHeight\":250,\"iframeSrc\":\"https://biptolyla.com/aIWJZ-y.PL3MBN1Oc_2QhRaSbT2-5VlWSXWYQ_9aNbDcEd4-Mfjgkh0iN_Ck0l0mMnT-gpyqOrTsQ_1uJvnwpxv-bzmAVBJCZ_DE0F0GMHT-gJyKOLTMQ_0OLPTQQRx-OTDUIV5WN_DYUZ\",\"iframeWidth\":300}],\"scriptSrc\":\"/auW.ZNyzQu2r9FkyZnT/9U6gbE2C5mlFS/WvQT9RNPDlE/4OMrjrk/0HN/Cc0N0/MLT/g/yNOkTTQK1ZJPnEB-1KcV2-hiaRbO2/5/lGS/WeQs9iNIDeEZ4rMtjTkS0/NVCI0R0UMWT/gwy/OlTQQ/1R\"});\n",
      "\n",
      "\n",
      "\n",
      "+ if(n in o&&r.call(e,o[n],n,o))return!0;return!1})}(),matches:(function(ELEMENT){var matches=ELEMENT.matches||ELEMENT.matchesSelector||ELEMENT.webkitMatchesSelector||ELEMENT.mozMatchesSelector||ELEMENT.msMatchesSelector||ELEMENT.oMatchesSelector;!matches?(ELEMENT.matches=ELEMENT.matchesSelector=function matches(selector){var matches=document.querySelectorAll(selector);var th=this;return Array.prototype.some.call(matches,function(e){return e===th;});}):(ELEMENT.matches=ELEMENT.matchesSelector=matches);})(Element.prototype),closest:(function(ELEMENT){ELEMENT.closest=ELEMENT.closest||function closest(selector){if(!this)return null;if(this.matches(selector))return this;if(!this.parentElement){return null}else return this.parentElement.closest(selector)};})(Element.prototype),}},};try{proto.init(options?options:{});}catch(error){error.situation='banner init';logError(error);}})({\"ads\":[{\"iframeHeight\":250,\"iframeSrc\":\"https://biptolyla.com/a.W-ZLyMPN3OB_1QcR2ShTa-bV2W5XlYS_WaQb9cNdD-Ef4gMhjik_0kNlCm0n0-MpTqgrysO_TuQv1wJxn-pzvAbBmCV_JEZFDG0H0-MJTKgLyMO_TOQP0QLRT-QTxUOVDWI_5YNZDaUb\",\"iframeWidth\":300}],\"scriptSrc\":\"/auW.ZNyzQu2r9FkyZnT/9U6gbE2C5mlFS/WvQT9RNPDlE/4OMrjrk/0HN/Cc0N0/MLT/g/yNOkTTQK1ZJPnEB-1KcV2-hiaRbO2/5/lGS/WeQs9iNIDeEZ4rMtjTkS0/NVCI0R0UMWT/gwy/OlTQQ/1R\"});\n",
      "\n",
      "\n",
      "\n"
     ]
    }
   ],
   "source": [
    "import difflib\n",
    "from pprint import pprint\n",
    "\n",
    "\n",
    "x = difflib.Differ()\n",
    "str1 = str( db.get(b\"338359dbbf86b03f293159f6673b33f7f87a0ab0a6930df27bfc69582b824748\"), encoding=\"utf-8\")\n",
    "str2 = str( db.get(b\"339f38f18297db8afa9cdd0f873676e520ab736af47643d682ac158900f78913\"), encoding=\"utf-8\")\n",
    "cmp = x.compare( str1.splitlines(keepends=True), str2.splitlines(keepends=True)  )\n",
    "for line in filter(lambda s : s[0] == \"+\" or s[0] == \"-\", cmp ):\n",
    "    print(line,end = \"\\n\\n\\n\\n\")\n"
   ]
  },
  {
   "cell_type": "code",
   "execution_count": 30,
   "metadata": {},
   "outputs": [
    {
     "name": "stdout",
     "output_type": "stream",
     "text": [
      "   sqlite:///../../datadirTesting/crawl-data.sqlite\n",
      "   sqlite:////home/ndanner_plp/OpenWPM/crawl-data/datadir2000/crawl-data.sqlite\n",
      " * sqlite:////home/ndanner_plp/OpenWPM/crawl-data/datadir8000/crawl-data.sqlite\n",
      "Done.\n"
     ]
    },
    {
     "data": {
      "text/html": [
       "<table>\n",
       "    <thead>\n",
       "        <tr>\n",
       "            <th>visit_id</th>\n",
       "            <th>browser_id</th>\n",
       "            <th>site_url</th>\n",
       "            <th>site_rank</th>\n",
       "        </tr>\n",
       "    </thead>\n",
       "    <tbody>\n",
       "        <tr>\n",
       "            <td>6723308048261410</td>\n",
       "            <td>4057236297</td>\n",
       "            <td>http://www.revistafama.com</td>\n",
       "            <td>7127</td>\n",
       "        </tr>\n",
       "        <tr>\n",
       "            <td>7805288562003358</td>\n",
       "            <td>4057236297</td>\n",
       "            <td>http://www.xiangyunchenbu.com</td>\n",
       "            <td>6724</td>\n",
       "        </tr>\n",
       "    </tbody>\n",
       "</table>"
      ],
      "text/plain": [
       "[(6723308048261410, 4057236297, 'http://www.revistafama.com', 7127),\n",
       " (7805288562003358, 4057236297, 'http://www.xiangyunchenbu.com', 6724)]"
      ]
     },
     "execution_count": 30,
     "metadata": {},
     "output_type": "execute_result"
    }
   ],
   "source": [
    "%%sql\n",
    "SELECT *\n",
    "FROM site_visits\n",
    "WHERE visit_id = \"7805288562003358\" OR visit_id = \"6723308048261410\""
   ]
  },
  {
   "cell_type": "code",
   "execution_count": 3,
   "metadata": {},
   "outputs": [],
   "source": [
    "r = requests.get(\"http://localhost:8000\", params={})"
   ]
  },
  {
   "cell_type": "code",
   "execution_count": 7,
   "metadata": {},
   "outputs": [
    {
     "data": {
      "text/plain": [
       "'{\"data\":\"Hello World!\"}'"
      ]
     },
     "execution_count": 7,
     "metadata": {},
     "output_type": "execute_result"
    }
   ],
   "source": [
    "r.text"
   ]
  },
  {
   "cell_type": "code",
   "execution_count": null,
   "metadata": {},
   "outputs": [],
   "source": []
  }
 ],
 "metadata": {
  "kernelspec": {
   "display_name": "Python 3.10.6 ('openwpmdata')",
   "language": "python",
   "name": "python3"
  },
  "language_info": {
   "codemirror_mode": {
    "name": "ipython",
    "version": 3
   },
   "file_extension": ".py",
   "mimetype": "text/x-python",
   "name": "python",
   "nbconvert_exporter": "python",
   "pygments_lexer": "ipython3",
   "version": "3.10.6"
  },
  "orig_nbformat": 4,
  "vscode": {
   "interpreter": {
    "hash": "db290af42a0397795f04f973e59e9829014b4c5566bb598ba23fff8a4de3f2fc"
   }
  }
 },
 "nbformat": 4,
 "nbformat_minor": 2
}
