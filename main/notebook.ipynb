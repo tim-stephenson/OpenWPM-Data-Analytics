{
 "cells": [
  {
   "cell_type": "code",
   "execution_count": 2,
   "metadata": {},
   "outputs": [],
   "source": [
    "import sqlite3\n",
    "import plyvel\n",
    "from pathlib import Path\n",
    "import re\n",
    "import json\n",
    "from functions.runHealth import runHealth\n",
    "# from functions.dynamic_analysis import Dynamic\n",
    "import requests"
   ]
  },
  {
   "cell_type": "code",
   "execution_count": 3,
   "metadata": {},
   "outputs": [
    {
     "data": {
      "text/plain": [
       "'Connected: @/home/ndanner_plp/OpenWPM/crawl-data/datadir8000/crawl-data.sqlite'"
      ]
     },
     "execution_count": 3,
     "metadata": {},
     "output_type": "execute_result"
    }
   ],
   "source": [
    "path : Path = Path('/home/ndanner_plp/OpenWPM/crawl-data/datadir8000')\n",
    "# path : Path = Path('../../datadirTesting')\n",
    "con : sqlite3.Connection = sqlite3.connect( str(path.joinpath(\"crawl-data.sqlite\")) )\n",
    "db = plyvel.DB( str(path.joinpath(\"leveldb\")) )\n",
    "%load_ext sql\n",
    "%sql sqlite:///{path}/crawl-data.sqlite"
   ]
  },
  {
   "cell_type": "code",
   "execution_count": null,
   "metadata": {},
   "outputs": [],
   "source": [
    "n, f = runHealth(con)\n",
    "print(f\"total visits: {n}, failed/incomplete visits: {f}. Success percentage: {round(100* (1 - f/n)) }%\")"
   ]
  },
  {
   "cell_type": "code",
   "execution_count": null,
   "metadata": {},
   "outputs": [],
   "source": [
    "for key, value in db:\n",
    "    print(key)\n",
    "    # print(value, end=\"\\n\\n\")"
   ]
  },
  {
   "cell_type": "code",
   "execution_count": null,
   "metadata": {},
   "outputs": [],
   "source": [
    "results = Dynamic(con)\n",
    "print( json.dumps( results, indent= 4 ) )"
   ]
  },
  {
   "cell_type": "code",
   "execution_count": null,
   "metadata": {},
   "outputs": [],
   "source": [
    "# %load_ext sql\n",
    "# symbols = {}\n",
    "# for path in Path(\"/home/ndanner_plp/OpenWPM/crawl-data\").iterdir():\n",
    "#     if path.is_dir() and re.match(\"^datadir\" ,path.name):\n",
    "#         %sql sqlite:///{path}/crawl-data.sqlite\n",
    "#         result = %sql SELECT DISTINCT(symbol) FROM javascript\n",
    "#         if result:\n",
    "#             for symbol in result.DataFrame()['symbol']:\n",
    "#                 if symbol in symbols:\n",
    "#                     symbols[symbol].append(path.name)\n",
    "#                 else:\n",
    "#                     symbols[symbol] = [path.name]\n",
    "# print( json.dumps( symbols, indent= 4 ) )"
   ]
  },
  {
   "cell_type": "code",
   "execution_count": 1,
   "metadata": {},
   "outputs": [
    {
     "name": "stderr",
     "output_type": "stream",
     "text": [
      "UsageError: Cell magic `%%sql` not found.\n"
     ]
    }
   ],
   "source": [
    "%%sql\n",
    "SELECT * \n",
    "FROM http_responses\n",
    "WHERE content_hash <> \"\""
   ]
  },
  {
   "cell_type": "code",
   "execution_count": null,
   "metadata": {},
   "outputs": [],
   "source": [
    "%%sql\n",
    "WITH a AS (\n",
    "SELECT visit_id,url, COUNT(*) as n\n",
    "FROM http_responses\n",
    "WHERE content_hash <> \"\"\n",
    "GROUP BY visit_id,url\n",
    "ORDER BY n DESC\n",
    ")\n",
    "SELECT a.visit_id, site_visits.site_url, a.url, a.n\n",
    "FROM a\n",
    "INNER JOIN site_visits\n",
    "ON a.visit_id = site_visits.visit_id\n",
    "LIMIT 20\n"
   ]
  },
  {
   "cell_type": "code",
   "execution_count": 8,
   "metadata": {},
   "outputs": [
    {
     "name": "stdout",
     "output_type": "stream",
     "text": [
      " * sqlite:////home/ndanner_plp/OpenWPM/crawl-data/datadir8000/crawl-data.sqlite\n",
      "Done.\n"
     ]
    },
    {
     "data": {
      "text/html": [
       "<table>\n",
       "    <thead>\n",
       "        <tr>\n",
       "            <th>visit_id</th>\n",
       "            <th>site_url</th>\n",
       "            <th>url</th>\n",
       "            <th>unique_content_hashs</th>\n",
       "        </tr>\n",
       "    </thead>\n",
       "    <tbody>\n",
       "        <tr>\n",
       "            <td>5244274392029786</td>\n",
       "            <td>http://www.titsamateur.com</td>\n",
       "            <td>https://biptolyla.com/auW.ZNyzQu2r9FkyZnT/9U6gbE2C5mlFS/WvQT9RNPDlE/4OMrjrk/0HN/Cc0N0/MLT/g/yNOkTTQK1ZJPnEB-1KcV2-hiaRbO2/5/lGS/WeQs9iNIDeEZ4rMtjTkS0/NVCI0R0UMWT/gwy/OlTQQ/1R</td>\n",
       "            <td>8</td>\n",
       "        </tr>\n",
       "        <tr>\n",
       "            <td>8428889483414827</td>\n",
       "            <td>http://www.szjyhh.com.cn</td>\n",
       "            <td>https://www.metamarket.quest/market.js</td>\n",
       "            <td>8</td>\n",
       "        </tr>\n",
       "        <tr>\n",
       "            <td>595931919046536</td>\n",
       "            <td>http://www.designfiles.co</td>\n",
       "            <td>https://www.youtube.com/s/player/ac058a09/player_ias.vflset/en_US/base.js</td>\n",
       "            <td>7</td>\n",
       "        </tr>\n",
       "        <tr>\n",
       "            <td>6286216596141982</td>\n",
       "            <td>http://www.yoldaolmak.com</td>\n",
       "            <td>https://pagead2.googlesyndication.com/pagead/js/adsbygoogle.js</td>\n",
       "            <td>7</td>\n",
       "        </tr>\n",
       "        <tr>\n",
       "            <td>6600483715556861</td>\n",
       "            <td>http://www.xblognetwork.com</td>\n",
       "            <td>https://biptolyla.com/auW.ZNyzQu2r9FkyZnT/9U6gbE2C5mlFS/WvQT9RNPDlE/4OMrjrk/0HN/Cc0N0/MLT/g/yNOkTTQK1ZJPnEB-1KcV2-hiaRbO2/5/lGS/WeQs9iNIDeEZ4rMtjTkS0/NVCI0R0UMWT/gwy/OlTQQ/1R</td>\n",
       "            <td>7</td>\n",
       "        </tr>\n",
       "        <tr>\n",
       "            <td>632226293590573</td>\n",
       "            <td>http://www.diabeticlivingonline.com</td>\n",
       "            <td>https://www.googletagservices.com/activeview/js/current/rx_lidar.js?cache=r20110914</td>\n",
       "            <td>6</td>\n",
       "        </tr>\n",
       "        <tr>\n",
       "            <td>1354337540513286</td>\n",
       "            <td>http://www.radiopatrulla.com</td>\n",
       "            <td>https://www.youtube.com/s/player/ac058a09/www-embed-player.vflset/www-embed-player.js</td>\n",
       "            <td>6</td>\n",
       "        </tr>\n",
       "        <tr>\n",
       "            <td>1887521339126289</td>\n",
       "            <td>http://www.sol8.com</td>\n",
       "            <td>https://analytics.tiktok.com/i18n/pixel/events.js?sdkid=C8138IMVLJR68Q6CP16G&amp;lib=ttq</td>\n",
       "            <td>6</td>\n",
       "        </tr>\n",
       "        <tr>\n",
       "            <td>2247437759755395</td>\n",
       "            <td>http://www.laparadadigital.com</td>\n",
       "            <td>https://excellence-prebid.sfo2.cdn.digitaloceanspaces.com/prebid.js</td>\n",
       "            <td>6</td>\n",
       "        </tr>\n",
       "        <tr>\n",
       "            <td>3250367981354015</td>\n",
       "            <td>http://www.times24tv.com</td>\n",
       "            <td>https://pagead2.googlesyndication.com/pagead/js/adsbygoogle.js?client=ca-pub-8675921606360886</td>\n",
       "            <td>6</td>\n",
       "        </tr>\n",
       "    </tbody>\n",
       "</table>"
      ],
      "text/plain": [
       "[(5244274392029786, 'http://www.titsamateur.com', 'https://biptolyla.com/auW.ZNyzQu2r9FkyZnT/9U6gbE2C5mlFS/WvQT9RNPDlE/4OMrjrk/0HN/Cc0N0/MLT/g/yNOkTTQK1ZJPnEB-1KcV2-hiaRbO2/5/lGS/WeQs9iNIDeEZ4rMtjTkS0/NVCI0R0UMWT/gwy/OlTQQ/1R', 8),\n",
       " (8428889483414827, 'http://www.szjyhh.com.cn', 'https://www.metamarket.quest/market.js', 8),\n",
       " (595931919046536, 'http://www.designfiles.co', 'https://www.youtube.com/s/player/ac058a09/player_ias.vflset/en_US/base.js', 7),\n",
       " (6286216596141982, 'http://www.yoldaolmak.com', 'https://pagead2.googlesyndication.com/pagead/js/adsbygoogle.js', 7),\n",
       " (6600483715556861, 'http://www.xblognetwork.com', 'https://biptolyla.com/auW.ZNyzQu2r9FkyZnT/9U6gbE2C5mlFS/WvQT9RNPDlE/4OMrjrk/0HN/Cc0N0/MLT/g/yNOkTTQK1ZJPnEB-1KcV2-hiaRbO2/5/lGS/WeQs9iNIDeEZ4rMtjTkS0/NVCI0R0UMWT/gwy/OlTQQ/1R', 7),\n",
       " (632226293590573, 'http://www.diabeticlivingonline.com', 'https://www.googletagservices.com/activeview/js/current/rx_lidar.js?cache=r20110914', 6),\n",
       " (1354337540513286, 'http://www.radiopatrulla.com', 'https://www.youtube.com/s/player/ac058a09/www-embed-player.vflset/www-embed-player.js', 6),\n",
       " (1887521339126289, 'http://www.sol8.com', 'https://analytics.tiktok.com/i18n/pixel/events.js?sdkid=C8138IMVLJR68Q6CP16G&lib=ttq', 6),\n",
       " (2247437759755395, 'http://www.laparadadigital.com', 'https://excellence-prebid.sfo2.cdn.digitaloceanspaces.com/prebid.js', 6),\n",
       " (3250367981354015, 'http://www.times24tv.com', 'https://pagead2.googlesyndication.com/pagead/js/adsbygoogle.js?client=ca-pub-8675921606360886', 6)]"
      ]
     },
     "execution_count": 8,
     "metadata": {},
     "output_type": "execute_result"
    }
   ],
   "source": [
    "%%sql\n",
    "WITH a AS (\n",
    "SELECT visit_id,url, COUNT( DISTINCT content_hash ) as unique_content_hashs\n",
    "FROM http_responses\n",
    "WHERE content_hash <> \"\"\n",
    "GROUP BY visit_id,url\n",
    "ORDER BY unique_content_hashs DESC\n",
    ")\n",
    "SELECT a.visit_id, site_visits.site_url, a.url, a.unique_content_hashs\n",
    "FROM a\n",
    "INNER JOIN site_visits\n",
    "ON a.visit_id = site_visits.visit_id\n",
    "LIMIT 10\n"
   ]
  },
  {
   "cell_type": "code",
   "execution_count": 30,
   "metadata": {},
   "outputs": [
    {
     "name": "stdout",
     "output_type": "stream",
     "text": [
      "   sqlite:///../../datadirTesting/crawl-data.sqlite\n",
      "   sqlite:////home/ndanner_plp/OpenWPM/crawl-data/datadir2000/crawl-data.sqlite\n",
      " * sqlite:////home/ndanner_plp/OpenWPM/crawl-data/datadir8000/crawl-data.sqlite\n",
      "Done.\n"
     ]
    },
    {
     "data": {
      "text/html": [
       "<table>\n",
       "    <thead>\n",
       "        <tr>\n",
       "            <th>visit_id</th>\n",
       "            <th>browser_id</th>\n",
       "            <th>site_url</th>\n",
       "            <th>site_rank</th>\n",
       "        </tr>\n",
       "    </thead>\n",
       "    <tbody>\n",
       "        <tr>\n",
       "            <td>6723308048261410</td>\n",
       "            <td>4057236297</td>\n",
       "            <td>http://www.revistafama.com</td>\n",
       "            <td>7127</td>\n",
       "        </tr>\n",
       "        <tr>\n",
       "            <td>7805288562003358</td>\n",
       "            <td>4057236297</td>\n",
       "            <td>http://www.xiangyunchenbu.com</td>\n",
       "            <td>6724</td>\n",
       "        </tr>\n",
       "    </tbody>\n",
       "</table>"
      ],
      "text/plain": [
       "[(6723308048261410, 4057236297, 'http://www.revistafama.com', 7127),\n",
       " (7805288562003358, 4057236297, 'http://www.xiangyunchenbu.com', 6724)]"
      ]
     },
     "execution_count": 30,
     "metadata": {},
     "output_type": "execute_result"
    }
   ],
   "source": [
    "%%sql\n",
    "SELECT *\n",
    "FROM site_visits\n",
    "WHERE visit_id = \"7805288562003358\" OR visit_id = \"6723308048261410\""
   ]
  },
  {
   "cell_type": "code",
   "execution_count": 3,
   "metadata": {},
   "outputs": [],
   "source": [
    "r = requests.get(\"http://localhost:8000\", params={})"
   ]
  },
  {
   "cell_type": "code",
   "execution_count": 7,
   "metadata": {},
   "outputs": [
    {
     "data": {
      "text/plain": [
       "'{\"data\":\"Hello World!\"}'"
      ]
     },
     "execution_count": 7,
     "metadata": {},
     "output_type": "execute_result"
    }
   ],
   "source": [
    "r.text"
   ]
  },
  {
   "cell_type": "code",
   "execution_count": null,
   "metadata": {},
   "outputs": [],
   "source": []
  }
 ],
 "metadata": {
  "kernelspec": {
   "display_name": "Python 3.10.6 ('openwpmdata')",
   "language": "python",
   "name": "python3"
  },
  "language_info": {
   "codemirror_mode": {
    "name": "ipython",
    "version": 3
   },
   "file_extension": ".py",
   "mimetype": "text/x-python",
   "name": "python",
   "nbconvert_exporter": "python",
   "pygments_lexer": "ipython3",
   "version": "3.10.6"
  },
  "orig_nbformat": 4,
  "vscode": {
   "interpreter": {
    "hash": "db290af42a0397795f04f973e59e9829014b4c5566bb598ba23fff8a4de3f2fc"
   }
  }
 },
 "nbformat": 4,
 "nbformat_minor": 2
}
