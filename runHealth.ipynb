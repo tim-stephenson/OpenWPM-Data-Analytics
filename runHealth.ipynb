{
 "cells": [
  {
   "cell_type": "code",
   "execution_count": 3,
   "metadata": {},
   "outputs": [],
   "source": [
    "from Functions.runHealth import runHealth\n",
    "import sqlite3\n",
    "\n",
    "con : sqlite3.Connection = sqlite3.connect(\"../datadirTesting/crawl-data.sqlite\")"
   ]
  },
  {
   "cell_type": "code",
   "execution_count": 4,
   "metadata": {},
   "outputs": [
    {
     "name": "stdout",
     "output_type": "stream",
     "text": [
      "total visits: 6, failed/incomplete visits: 0. Success percentage: 100%\n"
     ]
    }
   ],
   "source": [
    "n, f = runHealth(con)\n",
    "print(f\"total visits: {n}, failed/incomplete visits: {f}. Success percentage: {round(100* (1 - f/n)) }%\")"
   ]
  },
  {
   "cell_type": "code",
   "execution_count": null,
   "metadata": {},
   "outputs": [],
   "source": []
  }
 ],
 "metadata": {
  "kernelspec": {
   "display_name": "Python 3.10.6 ('openwpmdata': conda)",
   "language": "python",
   "name": "python3"
  },
  "language_info": {
   "codemirror_mode": {
    "name": "ipython",
    "version": 3
   },
   "file_extension": ".py",
   "mimetype": "text/x-python",
   "name": "python",
   "nbconvert_exporter": "python",
   "pygments_lexer": "ipython3",
   "version": "3.10.6"
  },
  "orig_nbformat": 4,
  "vscode": {
   "interpreter": {
    "hash": "db290af42a0397795f04f973e59e9829014b4c5566bb598ba23fff8a4de3f2fc"
   }
  }
 },
 "nbformat": 4,
 "nbformat_minor": 2
}
