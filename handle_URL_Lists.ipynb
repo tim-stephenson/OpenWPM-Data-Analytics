{
 "cells": [
  {
   "cell_type": "code",
   "execution_count": 12,
   "metadata": {},
   "outputs": [],
   "source": [
    "import csv\n",
    "from pathlib import Path\n",
    "def changeCSVtotxt(imputPath : Path, index : int, header : bool, outputPath : Path) -> None:\n",
    "    with open(imputPath, 'r') as csvfile, open(outputPath, 'w') as output_txt :\n",
    "        csvreader = csv.reader(csvfile)\n",
    "        if header:\n",
    "            next(csvreader)\n",
    "        while True:\n",
    "            try:\n",
    "                output_txt.write( \"http://www.\" + next(csvreader)[index]+'\\n')\n",
    "            except StopIteration:\n",
    "                break"
   ]
  },
  {
   "cell_type": "code",
   "execution_count": 13,
   "metadata": {},
   "outputs": [],
   "source": [
    "changeCSVtotxt(\"../50Fingerprinters.csv\", 0, True, \"../OpenWPM/URLs/50Fingerprinters.txt\")\n",
    "changeCSVtotxt(\"../OneMillionSites.csv\", 1, True, \"../OpenWPM/URLs/OneMillionSites.txt\")"
   ]
  }
 ],
 "metadata": {
  "kernelspec": {
   "display_name": "Python 3.10.6 ('openwpm': conda)",
   "language": "python",
   "name": "python3"
  },
  "language_info": {
   "codemirror_mode": {
    "name": "ipython",
    "version": 3
   },
   "file_extension": ".py",
   "mimetype": "text/x-python",
   "name": "python",
   "nbconvert_exporter": "python",
   "pygments_lexer": "ipython3",
   "version": "3.10.6"
  },
  "orig_nbformat": 4,
  "vscode": {
   "interpreter": {
    "hash": "10b12b5d2c084605021098b1d3e856d311b35965677a387bf3ef169370c3c454"
   }
  }
 },
 "nbformat": 4,
 "nbformat_minor": 2
}
