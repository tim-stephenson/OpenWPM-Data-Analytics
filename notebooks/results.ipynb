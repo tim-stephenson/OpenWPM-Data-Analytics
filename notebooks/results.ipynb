{
 "cells": [
  {
   "attachments": {},
   "cell_type": "markdown",
   "metadata": {},
   "source": [
    "# A Collection of Results from OpenWPM data\n",
    "\n",
    "To use, enter in the `datadir_path` bellow, then run all cells"
   ]
  },
  {
   "cell_type": "code",
   "execution_count": null,
   "metadata": {},
   "outputs": [],
   "source": [
    "from pathlib import Path\n",
    "datadir_path : Path = Path('/home/ndanner_plp/OpenWPM/crawl-data/datadir-0-10000')"
   ]
  },
  {
   "cell_type": "code",
   "execution_count": null,
   "metadata": {},
   "outputs": [],
   "source": [
    "import sys\n",
    "import os\n",
    "from sqlalchemy.engine import Engine\n",
    "from sqlalchemy import create_engine, URL \n",
    "import plyvel\n",
    "from typing import Any\n",
    "%reload_ext sql\n",
    "\n",
    "parent_path : Path = Path(sys.path[0]).parent.resolve()\n",
    "if str(parent_path) not in sys.path:\n",
    "    sys.path.append(str(parent_path))\n",
    "\n",
    "\n",
    "database_url : URL = URL.create(drivername = \"sqlite\", database = str(datadir_path.joinpath(\"crawl-data.sqlite\")) )\n",
    "os.environ[\"DATABASE_URL\"] = str(database_url)\n",
    "engine : Engine = create_engine(database_url)\n",
    "# if 'db' not in locals():\n",
    "#     db : Any = plyvel.DB( str(datadir_path.joinpath(\"leveldb\")) ) #type: ignore"
   ]
  },
  {
   "attachments": {},
   "cell_type": "markdown",
   "metadata": {},
   "source": [
    "### Prevalence of `CanvasRenderingContext2D` versus `WebGLRenderingContext`"
   ]
  },
  {
   "cell_type": "code",
   "execution_count": null,
   "metadata": {},
   "outputs": [],
   "source": [
    "%%sql\n",
    "WITH a AS (\n",
    "    SELECT COUNT(DISTINCT visit_id) AS Total\n",
    "    FROM http_responses WHERE \n",
    "    response_status LIKE \"2%\"\n",
    "), b AS (\n",
    "    SELECT COUNT(DISTINCT visit_id) AS Using_Canvas\n",
    "    FROM javascript\n",
    "    WHERE symbol LIKE \"CanvasRenderingContext2D%\"\n",
    "), c AS (\n",
    "    SELECT COUNT(DISTINCT visit_id) AS Using_WEBGL\n",
    "    FROM javascript\n",
    "    WHERE symbol LIKE \"WebGLRenderingContext%\"\n",
    ")\n",
    "SELECT a.Total, b.Using_Canvas, c.Using_WEBGL\n",
    "FROM a, b, c"
   ]
  },
  {
   "attachments": {},
   "cell_type": "markdown",
   "metadata": {},
   "source": [
    "### Signs of Canvas fingerprinting among the group classified as Canvas font fingerprinting dynamically but not lexically"
   ]
  },
  {
   "cell_type": "code",
   "execution_count": null,
   "metadata": {},
   "outputs": [],
   "source": [
    "%%sql \n",
    "WITH domain AS(\n",
    "SELECT *\n",
    "FROM javascript AS js\n",
    "WHERE (js.visit_id, js.script_url) IN (SELECT visit_id, script_url FROM analysis_results WHERE Canvas_Font_1M_Dynamic = True AND Canvas_Font_1M_Static = False )\n",
    "),\n",
    "total AS(\n",
    "SELECT COUNT(*) AS total\n",
    "FROM ( SELECT DISTINCT visit_id, script_url\n",
    "    FROM domain\n",
    ")\n",
    "),\n",
    "b AS(\n",
    "SELECT COUNT(*) AS using_fillText_questionably\n",
    "FROM ( SELECT * FROM \n",
    "    domain AS js\n",
    "    WHERE js.symbol = \"CanvasRenderingContext2D.fillText\" \n",
    "    AND ( js.arguments LIKE '[\"Cwm fjordbank glyphs vext quiz%' OR js.arguments LIKE '[\"Hel$&?6\\%){mZ+#@%'  ESCAPE '\\'  \n",
    "    )\n",
    "    GROUP BY js.visit_id, js.script_url\n",
    ")\n",
    ")\n",
    "SELECT *\n",
    "FROM total, b"
   ]
  },
  {
   "attachments": {},
   "cell_type": "markdown",
   "metadata": {},
   "source": [
    "### Use of the Canvas API among the ground classified as Canvas font fingerprinting lexically but not dynamically"
   ]
  },
  {
   "cell_type": "code",
   "execution_count": null,
   "metadata": {},
   "outputs": [],
   "source": [
    "%%sql \n",
    "WITH domain AS(\n",
    "SELECT visit_id, script_url \n",
    "FROM analysis_results \n",
    "WHERE Canvas_Font_1M_Dynamic = False AND Canvas_Font_1M_Static = True \n",
    "),\n",
    "total AS(\n",
    "SELECT COUNT(*) AS total\n",
    "FROM domain\n",
    "),\n",
    "b AS(\n",
    "SELECT COUNT(*) AS using_Canvas_API\n",
    "FROM ( \n",
    "    SELECT visit_id, script_url \n",
    "    FROM javascript \n",
    "    WHERE (visit_id, script_url) IN domain\n",
    "    AND symbol  LIKE \"CanvasRenderingContext2D%\" \n",
    "    GROUP BY visit_id, script_url\n",
    ")\n",
    "),\n",
    "c AS(\n",
    "SELECT COUNT(*) AS using_MeasureText_and_font\n",
    "FROM ( \n",
    "    SELECT visit_id, script_url \n",
    "    FROM domain \n",
    "    WHERE (visit_id, script_url) IN (SELECT visit_id, script_url FROM javascript WHERE symbol = \"CanvasRenderingContext2D.font\")\n",
    "    AND  (visit_id, script_url) IN (SELECT visit_id, script_url FROM javascript WHERE symbol = \"CanvasRenderingContext2D.measureText\")\n",
    ")\n",
    "),\n",
    "d AS(\n",
    "    SELECT COUNT(*) AS AD_Network_using_MeasureText_and_font\n",
    "    FROM (\n",
    "        SELECT visit_id, script_url\n",
    "        FROM domain\n",
    "        WHERE (visit_id, script_url) IN (SELECT visit_id, script_url FROM javascript WHERE symbol = \"CanvasRenderingContext2D.font\")\n",
    "        AND  (visit_id, script_url) IN (SELECT visit_id, script_url FROM javascript WHERE symbol = \"CanvasRenderingContext2D.measureText\")\n",
    "        AND script_url LIKE \"https://cdn.taboola.com/libtrc/cta-component%\"\n",
    "    )\n",
    ")\n",
    "SELECT *\n",
    "FROM total, b, c, d"
   ]
  },
  {
   "attachments": {},
   "cell_type": "markdown",
   "metadata": {},
   "source": [
    "### Signs of Canvas fingerprinting among the group classified as WebGL parameter fingerprinting dynamically but not lexically"
   ]
  },
  {
   "cell_type": "code",
   "execution_count": null,
   "metadata": {},
   "outputs": [],
   "source": [
    "%%sql\n",
    "WITH domain AS(\n",
    "SELECT visit_id, script_url \n",
    "FROM analysis_results \n",
    "WHERE WebGL_Dynamic = True AND WebGL_Static = False \n",
    "),\n",
    "total AS(\n",
    "SELECT COUNT(*) AS total\n",
    "FROM domain\n",
    "),\n",
    "b AS(\n",
    "SELECT COUNT(*) AS using_fillText_questionably\n",
    "FROM ( \n",
    "    SELECT visit_id, script_url \n",
    "    FROM javascript \n",
    "    WHERE (visit_id, script_url) IN domain\n",
    "    AND symbol = \"CanvasRenderingContext2D.fillText\" \n",
    "    AND arguments LIKE '[\"Cwm fjordbank glyphs vext quiz%'\n",
    "    GROUP BY visit_id, script_url\n",
    ")\n",
    ")\n",
    "SELECT *\n",
    "FROM total, b"
   ]
  },
  {
   "attachments": {},
   "cell_type": "markdown",
   "metadata": {},
   "source": [
    "### Signs of Canvas fingerprinting among the group classified as WebGL parameter fingerprinting lexically but not dynamically"
   ]
  },
  {
   "cell_type": "code",
   "execution_count": null,
   "metadata": {},
   "outputs": [],
   "source": [
    "%%sql\n",
    "WITH domain AS(\n",
    "SELECT visit_id, script_url \n",
    "FROM analysis_results \n",
    "WHERE WebGL_Dynamic = False AND WebGL_Static = True \n",
    "),\n",
    "total AS(\n",
    "SELECT COUNT(*) AS total\n",
    "FROM domain\n",
    "),\n",
    "b AS(\n",
    "SELECT COUNT(*) AS using_Canvas_API\n",
    "FROM ( \n",
    "    SELECT visit_id, script_url \n",
    "    FROM javascript \n",
    "    WHERE (visit_id, script_url) IN domain\n",
    "    AND symbol  LIKE \"CanvasRenderingContext2D%\" \n",
    "    GROUP BY visit_id, script_url\n",
    ")\n",
    "),\n",
    "c AS (\n",
    "SELECT COUNT(*) AS using_WebGL_API\n",
    "FROM (\n",
    "    SELECT visit_id, script_url \n",
    "    FROM javascript \n",
    "    WHERE (visit_id, script_url) IN domain\n",
    "    AND symbol  LIKE \"WebGLRenderingContext%\" \n",
    "    GROUP BY visit_id, script_url\n",
    ")\n",
    "),\n",
    "d AS(\n",
    "SELECT COUNT(*) AS using_fillText_questionably\n",
    "FROM ( \n",
    "    SELECT visit_id, script_url \n",
    "    FROM javascript \n",
    "    WHERE (visit_id, script_url) IN domain\n",
    "    AND symbol = \"CanvasRenderingContext2D.fillText\" \n",
    "    AND arguments LIKE '[\"Cwm fjordbank glyphs vext quiz%'\n",
    "    GROUP BY visit_id, script_url\n",
    ")\n",
    "),\n",
    "e AS (\n",
    "SELECT COUNT(*) AS classified_As_Canvas_Fingerprinting_Dynamically\n",
    "FROM(\n",
    "    SELECT *\n",
    "    FROM domain\n",
    "    WHERE (visit_id, script_url) IN (SELECT visit_id, script_url FROM analysis_results WHERE Canvas_1M_Dynamic = True)\n",
    ")\n",
    ")\n",
    "SELECT *\n",
    "FROM total, b, c, d, e"
   ]
  },
  {
   "cell_type": "code",
   "execution_count": null,
   "metadata": {},
   "outputs": [],
   "source": []
  }
 ],
 "metadata": {
  "kernelspec": {
   "display_name": "Python 3",
   "language": "python",
   "name": "python3"
  },
  "language_info": {
   "codemirror_mode": {
    "name": "ipython",
    "version": 3
   },
   "file_extension": ".py",
   "mimetype": "text/x-python",
   "name": "python",
   "nbconvert_exporter": "python",
   "pygments_lexer": "ipython3",
   "version": "3.11.0"
  },
  "orig_nbformat": 4
 },
 "nbformat": 4,
 "nbformat_minor": 2
}
