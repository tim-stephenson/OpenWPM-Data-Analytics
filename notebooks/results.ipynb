{
 "cells": [
  {
   "attachments": {},
   "cell_type": "markdown",
   "metadata": {},
   "source": [
    "# A Collection of Results from OpenWPM data\n",
    "\n",
    "To use, enter in the `datadir_path` bellow, then run all cells"
   ]
  },
  {
   "cell_type": "code",
   "execution_count": 1,
   "metadata": {},
   "outputs": [],
   "source": [
    "from pathlib import Path\n",
    "datadir_path : Path = Path('/home/ndanner_plp/OpenWPM/crawl-data/datadir-0-10000')"
   ]
  },
  {
   "cell_type": "code",
   "execution_count": 2,
   "metadata": {},
   "outputs": [],
   "source": [
    "import sys\n",
    "import os\n",
    "from sqlalchemy.engine import Engine\n",
    "from sqlalchemy import create_engine, URL \n",
    "import plyvel\n",
    "from typing import Any\n",
    "%reload_ext sql\n",
    "\n",
    "parent_path : Path = Path(sys.path[0]).parent.resolve()\n",
    "if str(parent_path) not in sys.path:\n",
    "    sys.path.append(str(parent_path))\n",
    "\n",
    "\n",
    "database_url : URL = URL.create(drivername = \"sqlite\", database = str(datadir_path.joinpath(\"crawl-data.sqlite\")) )\n",
    "os.environ[\"DATABASE_URL\"] = str(database_url)\n",
    "engine : Engine = create_engine(database_url)\n",
    "if 'db' not in locals():\n",
    "    db : Any = plyvel.DB( str(datadir_path.joinpath(\"leveldb\")) ) #type: ignore"
   ]
  },
  {
   "attachments": {},
   "cell_type": "markdown",
   "metadata": {},
   "source": [
    "### Prevalence of `CanvasRenderingContext2D` versus `WebGLRenderingContext`"
   ]
  },
  {
   "cell_type": "code",
   "execution_count": 15,
   "metadata": {},
   "outputs": [
    {
     "name": "stdout",
     "output_type": "stream",
     "text": [
      " * sqlite:////home/ndanner_plp/OpenWPM/crawl-data/datadir-0-10000/crawl-data.sqlite\n",
      "Done.\n"
     ]
    },
    {
     "data": {
      "text/html": [
       "<table>\n",
       "    <thead>\n",
       "        <tr>\n",
       "            <th>Total</th>\n",
       "            <th>Using_Canvas</th>\n",
       "            <th>Using_WEBGL</th>\n",
       "        </tr>\n",
       "    </thead>\n",
       "    <tbody>\n",
       "        <tr>\n",
       "            <td>7875</td>\n",
       "            <td>2108</td>\n",
       "            <td>45</td>\n",
       "        </tr>\n",
       "    </tbody>\n",
       "</table>"
      ],
      "text/plain": [
       "[(7875, 2108, 45)]"
      ]
     },
     "execution_count": 15,
     "metadata": {},
     "output_type": "execute_result"
    }
   ],
   "source": [
    "%%sql\n",
    "WITH a AS (\n",
    "    SELECT COUNT(DISTINCT visit_id) AS Total\n",
    "    FROM http_responses WHERE \n",
    "    response_status LIKE \"2%\"\n",
    "), b AS (\n",
    "    SELECT COUNT(DISTINCT visit_id) AS Using_Canvas\n",
    "    FROM javascript\n",
    "    WHERE symbol LIKE \"CanvasRenderingContext2D%\"\n",
    "), c AS (\n",
    "    SELECT COUNT(DISTINCT visit_id) AS Using_WEBGL\n",
    "    FROM javascript\n",
    "    WHERE symbol LIKE \"WebGLRenderingContext%\"\n",
    ")\n",
    "SELECT a.Total, b.Using_Canvas, c.Using_WEBGL\n",
    "FROM a, b, c"
   ]
  }
 ],
 "metadata": {
  "kernelspec": {
   "display_name": "Python 3",
   "language": "python",
   "name": "python3"
  },
  "language_info": {
   "codemirror_mode": {
    "name": "ipython",
    "version": 3
   },
   "file_extension": ".py",
   "mimetype": "text/x-python",
   "name": "python",
   "nbconvert_exporter": "python",
   "pygments_lexer": "ipython3",
   "version": "3.11.0"
  },
  "orig_nbformat": 4
 },
 "nbformat": 4,
 "nbformat_minor": 2
}
