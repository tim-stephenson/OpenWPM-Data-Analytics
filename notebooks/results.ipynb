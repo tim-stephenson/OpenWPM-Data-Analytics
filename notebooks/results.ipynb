{
 "cells": [
  {
   "attachments": {},
   "cell_type": "markdown",
   "metadata": {},
   "source": [
    "# A Collection of Results from OpenWPM data\n",
    "\n",
    "To use, enter in the `datadir_path` bellow, then run all cells"
   ]
  },
  {
   "cell_type": "code",
   "execution_count": 2,
   "metadata": {},
   "outputs": [],
   "source": [
    "from pathlib import Path\n",
    "datadir_path : Path = Path('/home/ndanner_plp/OpenWPM/crawl-data/datadir-0-10000')"
   ]
  },
  {
   "cell_type": "code",
   "execution_count": 3,
   "metadata": {},
   "outputs": [],
   "source": [
    "import sys\n",
    "import os\n",
    "from sqlalchemy.engine import Engine\n",
    "from sqlalchemy import create_engine, URL \n",
    "import plyvel\n",
    "from typing import Any\n",
    "%reload_ext sql\n",
    "\n",
    "parent_path : Path = Path(sys.path[0]).parent.resolve()\n",
    "if str(parent_path) not in sys.path:\n",
    "    sys.path.append(str(parent_path))\n",
    "\n",
    "\n",
    "database_url : URL = URL.create(drivername = \"sqlite\", database = str(datadir_path.joinpath(\"crawl-data.sqlite\")) )\n",
    "os.environ[\"DATABASE_URL\"] = str(database_url)\n",
    "engine : Engine = create_engine(database_url)\n",
    "# if 'db' not in locals():\n",
    "#     db : Any = plyvel.DB( str(datadir_path.joinpath(\"leveldb\")) ) #type: ignore"
   ]
  },
  {
   "attachments": {},
   "cell_type": "markdown",
   "metadata": {},
   "source": [
    "### Prevalence of `CanvasRenderingContext2D` versus `WebGLRenderingContext`"
   ]
  },
  {
   "cell_type": "code",
   "execution_count": null,
   "metadata": {},
   "outputs": [],
   "source": [
    "%%sql\n",
    "WITH a AS (\n",
    "    SELECT COUNT(DISTINCT visit_id) AS Total\n",
    "    FROM http_responses WHERE \n",
    "    response_status LIKE \"2%\"\n",
    "), b AS (\n",
    "    SELECT COUNT(DISTINCT visit_id) AS Using_Canvas\n",
    "    FROM javascript\n",
    "    WHERE symbol LIKE \"CanvasRenderingContext2D%\"\n",
    "), c AS (\n",
    "    SELECT COUNT(DISTINCT visit_id) AS Using_WEBGL\n",
    "    FROM javascript\n",
    "    WHERE symbol LIKE \"WebGLRenderingContext%\"\n",
    ")\n",
    "SELECT a.Total, b.Using_Canvas, c.Using_WEBGL\n",
    "FROM a, b, c"
   ]
  },
  {
   "attachments": {},
   "cell_type": "markdown",
   "metadata": {},
   "source": [
    "### Unambiguous proof of Canvas fingerprinting among the group classified as Canvas fingerprinting dynamically but not lexically\n",
    "(note this is durning the first analysis, where no string unescaping is being performed)\n",
    "\n",
    "TODO, prove how many of them are fingerprinting"
   ]
  },
  {
   "cell_type": "code",
   "execution_count": 18,
   "metadata": {},
   "outputs": [
    {
     "name": "stdout",
     "output_type": "stream",
     "text": [
      " * sqlite:////home/ndanner_plp/OpenWPM/crawl-data/datadir-0-10000/crawl-data.sqlite\n",
      "Done.\n"
     ]
    },
    {
     "data": {
      "text/html": [
       "<table>\n",
       "    <thead>\n",
       "        <tr>\n",
       "            <th>total</th>\n",
       "            <th>using_fillText_questionably</th>\n",
       "        </tr>\n",
       "    </thead>\n",
       "    <tbody>\n",
       "        <tr>\n",
       "            <td>699</td>\n",
       "            <td>107</td>\n",
       "        </tr>\n",
       "    </tbody>\n",
       "</table>"
      ],
      "text/plain": [
       "[(699, 107)]"
      ]
     },
     "execution_count": 18,
     "metadata": {},
     "output_type": "execute_result"
    }
   ],
   "source": [
    "%%sql \n",
    "WITH domain AS(\n",
    "    SELECT visit_id, script_url \n",
    "    FROM analysis_results \n",
    "    WHERE Canvas_Basic_Dynamic = True AND Canvas_Basic_Static = False\n",
    "),\n",
    "total AS(\n",
    "    SELECT COUNT(*) AS total\n",
    "    FROM domain\n",
    "),\n",
    "b AS(\n",
    "    SELECT COUNT(*) AS using_fillText_questionably\n",
    "    FROM domain\n",
    "    WHERE (visit_id, script_url) IN ( SELECT visit_id, script_url \n",
    "                                      FROM javascript AS js  \n",
    "                                      WHERE js.symbol = \"CanvasRenderingContext2D.fillText\" \n",
    "                                      AND ( js.arguments LIKE '[\"Cwm fjordbank glyphs vext quiz%' \n",
    "                                      OR    js.arguments LIKE '[\"Hel$&?6\\%){mZ+#@%'  ESCAPE '\\' )\n",
    "                                    )\n",
    ")\n",
    "SELECT *\n",
    "FROM total, b"
   ]
  },
  {
   "attachments": {},
   "cell_type": "markdown",
   "metadata": {},
   "source": [
    "### Signs of Canvas fingerprinting among the group classified as Canvas font fingerprinting dynamically but not lexically"
   ]
  },
  {
   "cell_type": "code",
   "execution_count": 13,
   "metadata": {},
   "outputs": [
    {
     "name": "stdout",
     "output_type": "stream",
     "text": [
      " * sqlite:////home/ndanner_plp/OpenWPM/crawl-data/datadir-0-10000/crawl-data.sqlite\n",
      "Done.\n"
     ]
    },
    {
     "data": {
      "text/html": [
       "<table>\n",
       "    <thead>\n",
       "        <tr>\n",
       "            <th>total</th>\n",
       "            <th>using_fillText_questionably</th>\n",
       "        </tr>\n",
       "    </thead>\n",
       "    <tbody>\n",
       "        <tr>\n",
       "            <td>66</td>\n",
       "            <td>65</td>\n",
       "        </tr>\n",
       "    </tbody>\n",
       "</table>"
      ],
      "text/plain": [
       "[(66, 65)]"
      ]
     },
     "execution_count": 13,
     "metadata": {},
     "output_type": "execute_result"
    }
   ],
   "source": [
    "%%sql \n",
    "WITH domain AS(\n",
    "    SELECT visit_id, script_url \n",
    "    FROM analysis_results \n",
    "    WHERE Canvas_Font_1M_Dynamic = True AND Canvas_Font_1M_Static = False\n",
    "),\n",
    "total AS(\n",
    "    SELECT COUNT(*) AS total\n",
    "    FROM domain\n",
    "),\n",
    "b AS(\n",
    "    SELECT COUNT(*) AS using_fillText_questionably\n",
    "    FROM domain\n",
    "    WHERE (visit_id, script_url) IN ( SELECT visit_id, script_url \n",
    "                                      FROM javascript AS js  \n",
    "                                      WHERE js.symbol = \"CanvasRenderingContext2D.fillText\" \n",
    "                                      AND ( js.arguments LIKE '[\"Cwm fjordbank glyphs vext quiz%' \n",
    "                                      OR    js.arguments LIKE '[\"Hel$&?6\\%){mZ+#@%'  ESCAPE '\\' )\n",
    "                                    )\n",
    ")\n",
    "SELECT *\n",
    "FROM total, b"
   ]
  },
  {
   "attachments": {},
   "cell_type": "markdown",
   "metadata": {},
   "source": [
    "### Use of the Canvas API among the ground classified as Canvas font fingerprinting lexically but not dynamically"
   ]
  },
  {
   "cell_type": "code",
   "execution_count": 14,
   "metadata": {},
   "outputs": [
    {
     "name": "stdout",
     "output_type": "stream",
     "text": [
      " * sqlite:////home/ndanner_plp/OpenWPM/crawl-data/datadir-0-10000/crawl-data.sqlite\n",
      "Done.\n"
     ]
    },
    {
     "data": {
      "text/html": [
       "<table>\n",
       "    <thead>\n",
       "        <tr>\n",
       "            <th>total</th>\n",
       "            <th>using_Canvas_API</th>\n",
       "            <th>using_MeasureText_and_font</th>\n",
       "            <th>AD_Network_using_MeasureText_and_font</th>\n",
       "        </tr>\n",
       "    </thead>\n",
       "    <tbody>\n",
       "        <tr>\n",
       "            <td>1243</td>\n",
       "            <td>509</td>\n",
       "            <td>121</td>\n",
       "            <td>60</td>\n",
       "        </tr>\n",
       "    </tbody>\n",
       "</table>"
      ],
      "text/plain": [
       "[(1243, 509, 121, 60)]"
      ]
     },
     "execution_count": 14,
     "metadata": {},
     "output_type": "execute_result"
    }
   ],
   "source": [
    "%%sql \n",
    "WITH domain AS(\n",
    "SELECT visit_id, script_url \n",
    "FROM analysis_results \n",
    "WHERE Canvas_Font_1M_Dynamic = False AND Canvas_Font_1M_Static = True \n",
    "),\n",
    "total AS(\n",
    "    SELECT COUNT(*) AS total\n",
    "    FROM domain\n",
    "),\n",
    "b AS(\n",
    "    SELECT COUNT(*) AS using_Canvas_API\n",
    "    FROM domain\n",
    "    WHERE (visit_id, script_url) IN( SELECT visit_id, script_url \n",
    "                                    FROM javascript\n",
    "                                    WHERE symbol  LIKE \"CanvasRenderingContext2D%\" \n",
    "                                )\n",
    "),\n",
    "c AS(\n",
    "    SELECT COUNT(*) AS using_MeasureText_and_font\n",
    "    FROM domain \n",
    "    WHERE (visit_id, script_url) IN (SELECT visit_id, script_url FROM javascript WHERE symbol = \"CanvasRenderingContext2D.font\")\n",
    "    AND  (visit_id, script_url) IN (SELECT visit_id, script_url FROM javascript WHERE symbol = \"CanvasRenderingContext2D.measureText\")\n",
    "),\n",
    "d AS(\n",
    "    SELECT COUNT(*) AS AD_Network_using_MeasureText_and_font\n",
    "    FROM domain\n",
    "    WHERE (visit_id, script_url) IN (SELECT visit_id, script_url FROM javascript WHERE symbol = \"CanvasRenderingContext2D.font\")\n",
    "    AND  (visit_id, script_url) IN (SELECT visit_id, script_url FROM javascript WHERE symbol = \"CanvasRenderingContext2D.measureText\")\n",
    "    AND script_url LIKE \"https://cdn.taboola.com/libtrc/cta-component%\"\n",
    ")\n",
    "SELECT *\n",
    "FROM total, b, c, d"
   ]
  },
  {
   "attachments": {},
   "cell_type": "markdown",
   "metadata": {},
   "source": [
    "### Signs of Canvas fingerprinting among the group classified as WebGL parameter fingerprinting dynamically but not lexically"
   ]
  },
  {
   "cell_type": "code",
   "execution_count": 15,
   "metadata": {},
   "outputs": [
    {
     "name": "stdout",
     "output_type": "stream",
     "text": [
      " * sqlite:////home/ndanner_plp/OpenWPM/crawl-data/datadir-0-10000/crawl-data.sqlite\n",
      "Done.\n"
     ]
    },
    {
     "data": {
      "text/html": [
       "<table>\n",
       "    <thead>\n",
       "        <tr>\n",
       "            <th>total</th>\n",
       "            <th>using_fillText_questionably</th>\n",
       "        </tr>\n",
       "    </thead>\n",
       "    <tbody>\n",
       "        <tr>\n",
       "            <td>40</td>\n",
       "            <td>37</td>\n",
       "        </tr>\n",
       "    </tbody>\n",
       "</table>"
      ],
      "text/plain": [
       "[(40, 37)]"
      ]
     },
     "execution_count": 15,
     "metadata": {},
     "output_type": "execute_result"
    }
   ],
   "source": [
    "%%sql\n",
    "WITH domain AS(\n",
    "    SELECT visit_id, script_url \n",
    "    FROM analysis_results \n",
    "    WHERE WebGL_Dynamic = True AND WebGL_Static = False \n",
    "),\n",
    "total AS(\n",
    "    SELECT COUNT(*) AS total\n",
    "    FROM domain\n",
    "),\n",
    "b AS(\n",
    "    SELECT COUNT(*) AS using_fillText_questionably\n",
    "    FROM domain\n",
    "    WHERE (visit_id, script_url) IN(SELECT visit_id, script_url \n",
    "                                    FROM javascript\n",
    "                                    WHERE symbol = \"CanvasRenderingContext2D.fillText\"\n",
    "                                    AND arguments LIKE '[\"Cwm fjordbank glyphs vext quiz%'\n",
    "                                    )\n",
    ")\n",
    "SELECT *\n",
    "FROM total, b"
   ]
  },
  {
   "attachments": {},
   "cell_type": "markdown",
   "metadata": {},
   "source": [
    "### Signs of Canvas fingerprinting among the group classified as WebGL parameter fingerprinting lexically but not dynamically"
   ]
  },
  {
   "cell_type": "code",
   "execution_count": 16,
   "metadata": {},
   "outputs": [
    {
     "name": "stdout",
     "output_type": "stream",
     "text": [
      " * sqlite:////home/ndanner_plp/OpenWPM/crawl-data/datadir-0-10000/crawl-data.sqlite\n",
      "Done.\n"
     ]
    },
    {
     "data": {
      "text/html": [
       "<table>\n",
       "    <thead>\n",
       "        <tr>\n",
       "            <th>total</th>\n",
       "            <th>using_Canvas_API</th>\n",
       "            <th>using_WebGL_API</th>\n",
       "            <th>using_fillText_questionably</th>\n",
       "            <th>classified_As_Canvas_Fingerprinting_Dynamically</th>\n",
       "        </tr>\n",
       "    </thead>\n",
       "    <tbody>\n",
       "        <tr>\n",
       "            <td>2277</td>\n",
       "            <td>350</td>\n",
       "            <td>2</td>\n",
       "            <td>177</td>\n",
       "            <td>294</td>\n",
       "        </tr>\n",
       "    </tbody>\n",
       "</table>"
      ],
      "text/plain": [
       "[(2277, 350, 2, 177, 294)]"
      ]
     },
     "execution_count": 16,
     "metadata": {},
     "output_type": "execute_result"
    }
   ],
   "source": [
    "%%sql\n",
    "WITH domain AS(\n",
    "    SELECT visit_id, script_url \n",
    "    FROM analysis_results \n",
    "    WHERE WebGL_Dynamic = False AND WebGL_Static = True \n",
    "),\n",
    "total AS(\n",
    "    SELECT COUNT(*) AS total\n",
    "    FROM domain\n",
    "),\n",
    "b AS(\n",
    "    SELECT COUNT(*) AS using_Canvas_API\n",
    "    FROM domain\n",
    "    WHERE (visit_id, script_url) IN( SELECT visit_id, script_url\n",
    "                                     FROM javascript\n",
    "                                     WHERE symbol  LIKE \"CanvasRenderingContext2D%\" \n",
    "                                    )\n",
    "),\n",
    "c AS(\n",
    "    SELECT COUNT(*) AS using_WebGL_API\n",
    "    FROM domain\n",
    "    WHERE (visit_id, script_url) IN( SELECT visit_id, script_url\n",
    "                                     FROM javascript\n",
    "                                     WHERE symbol  LIKE \"WebGLRenderingContext%\" \n",
    "                                    )\n",
    "),\n",
    "d AS(\n",
    "    SELECT COUNT(*) AS using_fillText_questionably\n",
    "    FROM domain\n",
    "    WHERE (visit_id, script_url) IN( SELECT visit_id, script_url\n",
    "                                     FROM javascript\n",
    "                                     WHERE symbol = \"CanvasRenderingContext2D.fillText\" \n",
    "                                     AND arguments LIKE '[\"Cwm fjordbank glyphs vext quiz%'\n",
    "                                    )\n",
    "),\n",
    "e AS (\n",
    "    SELECT COUNT(*) AS classified_As_Canvas_Fingerprinting_Dynamically\n",
    "    FROM domain\n",
    "    WHERE (visit_id, script_url) IN (SELECT visit_id, script_url FROM analysis_results WHERE Canvas_1M_Dynamic = True)\n",
    ")\n",
    "SELECT *\n",
    "FROM total, b, c, d, e"
   ]
  }
 ],
 "metadata": {
  "kernelspec": {
   "display_name": "Python 3",
   "language": "python",
   "name": "python3"
  },
  "language_info": {
   "codemirror_mode": {
    "name": "ipython",
    "version": 3
   },
   "file_extension": ".py",
   "mimetype": "text/x-python",
   "name": "python",
   "nbconvert_exporter": "python",
   "pygments_lexer": "ipython3",
   "version": "3.11.3"
  },
  "orig_nbformat": 4
 },
 "nbformat": 4,
 "nbformat_minor": 2
}
