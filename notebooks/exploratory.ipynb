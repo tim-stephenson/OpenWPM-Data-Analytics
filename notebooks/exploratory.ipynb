{
  "cells": [
    {
      "cell_type": "code",
      "execution_count": null,
      "metadata": {},
      "outputs": [],
      "source": [
        "import sys\n",
        "import os\n",
        "from pathlib import Path\n",
        "from sqlalchemy.engine import Engine\n",
        "from sqlalchemy import create_engine, URL \n",
        "import plyvel\n",
        "from typing import Any\n",
        "%reload_ext sql\n",
        "\n",
        "parent_path : Path = Path(sys.path[0]).parent.resolve()\n",
        "if str(parent_path) not in sys.path:\n",
        "    sys.path.append(str(parent_path))\n",
        "\n",
        "from main.utils.runHealth import runHealth\n",
        "\n",
        "# EDIT THIS LINE TO THE OPENWPM DATA WISH TO ANALYZE\n",
        "datadir_path : Path = Path('/home/ndanner_plp/OpenWPM/crawl-data/datadir-0-10000')\n",
        "database_url : URL = URL.create(drivername = \"sqlite\", database = str(datadir_path.joinpath(\"crawl-data.sqlite\")) )\n",
        "os.environ[\"DATABASE_URL\"] = str(database_url)\n",
        "engine : Engine = create_engine(database_url)\n",
        "# if 'db' not in locals():\n",
        "#     db : Any = plyvel.DB( str(datadir_path.joinpath(\"leveldb\")) ) #type: ignore\n"
      ]
    },
    {
      "cell_type": "code",
      "execution_count": null,
      "metadata": {},
      "outputs": [],
      "source": [
        "%%sql\n",
        "SELECT *\n",
        "FROM analysis_results"
      ]
    },
    {
      "cell_type": "code",
      "execution_count": null,
      "metadata": {},
      "outputs": [],
      "source": [
        "%%sql\n",
        "SELECT *\n",
        "FROM analysis_results"
      ]
    },
    {
      "cell_type": "code",
      "execution_count": null,
      "metadata": {},
      "outputs": [],
      "source": [
        "%%sql\n",
        "DROP TABLE analysis_results"
      ]
    },
    {
      "cell_type": "code",
      "execution_count": null,
      "metadata": {},
      "outputs": [],
      "source": [
        "%%sql\n",
        "SELECT COUNT(DISTINCT visit_id) \n",
        "FROM http_responses\n",
        "WHERE response_status LIKE \"2%\""
      ]
    },
    {
      "cell_type": "code",
      "execution_count": null,
      "metadata": {},
      "outputs": [],
      "source": [
        " \n",
        "%%sql\n",
        "SELECT response_status\n",
        "FROM http_responses \n",
        "LIMIT 10"
      ]
    },
    {
      "cell_type": "code",
      "execution_count": null,
      "metadata": {},
      "outputs": [],
      "source": [
        "n, s = runHealth(engine)\n",
        "print(f\"total visits: {n}, failed/incomplete visits: {s}. Success percentage: {round(100* (s/n)) }%\")"
      ]
    },
    {
      "cell_type": "code",
      "execution_count": null,
      "metadata": {},
      "outputs": [],
      "source": [
        "%%sql\n",
        "SELECT visit_id, script_url, symbol, arguments, value, operation\n",
        "FROM javascript\n",
        "WHERE (visit_id,script_url) in (SELECT visit_id, url FROM http_responses WHERE content_hash = \"0a63a423ac8fe788bf0660a1198d3b4288eef68f1d98892d4f86d151c3fe176d\")"
      ]
    },
    {
      "cell_type": "code",
      "execution_count": null,
      "metadata": {},
      "outputs": [],
      "source": [
        "%%sql\n",
        "SELECT visit_id, url FROM http_responses WHERE content_hash = \"0a63a423ac8fe788bf0660a1198d3b4288eef68f1d98892d4f86d151c3fe176d\""
      ]
    },
    {
      "cell_type": "code",
      "execution_count": null,
      "metadata": {},
      "outputs": [],
      "source": [
        "%%sql\n",
        "SELECT name FROM pragma_table_info('analysis_results')\n",
        "WHERE name = \"Canvas_Font_1M_Static\""
      ]
    },
    {
      "cell_type": "code",
      "execution_count": null,
      "metadata": {},
      "outputs": [],
      "source": [
        "%%sql\n",
        "SELECT DISTINCT value\n",
        "FROM javascript\n",
        "WHERE symbol = \"HTMLCanvasElement.height\" OR \"HTMLCanvasElement.width\""
      ]
    },
    {
      "cell_type": "code",
      "execution_count": null,
      "metadata": {},
      "outputs": [],
      "source": [
        "%%sql\n",
        "SELECT COUNT(*)\n",
        "FROM analysis_results\n",
        "WHERE Canvas_1M_Static = 0 AND Canvas_1M_Dynamic = 1\n",
        "LIMIT 10"
      ]
    },
    {
      "cell_type": "code",
      "execution_count": null,
      "metadata": {},
      "outputs": [],
      "source": [
        "%%sql\n",
        "SELECT COUNT(*) as n\n",
        "FROM analysis_results"
      ]
    },
    {
      "cell_type": "code",
      "execution_count": null,
      "metadata": {},
      "outputs": [],
      "source": [
        "%%sql\n",
        "SELECT COUNT(*) as n\n",
        "FROM analysis_results\n",
        "GROUP BY visit_id , script_url\n",
        "ORDER BY n ASC\n",
        "LIMIT 10\n"
      ]
    },
    {
      "cell_type": "code",
      "execution_count": null,
      "metadata": {},
      "outputs": [],
      "source": [
        "%%sql\n",
        "WITH a AS(\n",
        "    SELECT DISTINCT visit_id,url\n",
        "    FROM http_responses\n",
        "    WHERE content_hash <> \"\"\n",
        "), b AS(\n",
        "    SELECT DISTINCT visit_id,script_url\n",
        "    FROM javascript\n",
        "), c AS (\n",
        "    SELECT COUNT(*) AS n\n",
        "    FROM a\n",
        "    INNER JOIN b\n",
        "    ON a.visit_id = b.visit_id AND a.url = b.script_url\n",
        "), a_count AS (\n",
        "    SELECT COUNT(*) AS n\n",
        "    FROM a\n",
        "), b_count AS (\n",
        "    SELECT COUNT(*) AS n\n",
        "    FROM b\n",
        ")\n",
        "SELECT a_count.n, b_count.n, c.n\n",
        "FROM a_count,b_count,c"
      ]
    },
    {
      "cell_type": "code",
      "execution_count": null,
      "metadata": {},
      "outputs": [],
      "source": [
        "%%sql\n",
        "WITH a AS(\n",
        "    SELECT DISTINCT visit_id,url\n",
        "    FROM http_responses\n",
        "    WHERE content_hash <> \"\"\n",
        ")\n",
        "SELECT COUNT(*)\n",
        "FROM a"
      ]
    },
    {
      "cell_type": "code",
      "execution_count": null,
      "metadata": {},
      "outputs": [],
      "source": [
        "%%sql\n",
        "SELECT COUNT(*)\n",
        "FROM (\n",
        "SELECT DISTINCT visit_id,url\n",
        "FROM http_responses\n",
        "WHERE content_hash <> \"\"\n",
        ")"
      ]
    },
    {
      "cell_type": "code",
      "execution_count": null,
      "metadata": {},
      "outputs": [],
      "source": [
        "%%sql\n",
        "SELECT incomplete_visits.visit_id, site_visits.site_url\n",
        "FROM incomplete_visits\n",
        "INNER JOIN site_visits \n",
        "ON incomplete_visits.visit_id = site_visits.visit_id\n",
        "LIMIT 10"
      ]
    },
    {
      "cell_type": "code",
      "execution_count": null,
      "metadata": {},
      "outputs": [],
      "source": [
        "%%sql\n",
        "SELECT symbol, count(DISTINCT visit_id) AS n_sites, count(*) as n\n",
        "FROM javascript\n",
        "GROUP BY symbol\n",
        "ORDER BY symbol"
      ]
    },
    {
      "cell_type": "code",
      "execution_count": null,
      "metadata": {},
      "outputs": [],
      "source": [
        "%%sql\n",
        "SELECT COUNT(*)\n",
        "FROM (\n",
        "SELECT DISTINCT visit_id,url\n",
        "FROM http_responses\n",
        "WHERE content_hash <> \"\"\n",
        ")\n"
      ]
    },
    {
      "cell_type": "code",
      "execution_count": null,
      "metadata": {},
      "outputs": [],
      "source": [
        "%%sql\n",
        "SELECT COUNT(*) FROM (\n",
        "SELECT visit_id,url\n",
        "FROM http_responses\n",
        "WHERE content_hash <> \"\"\n",
        "GROUP BY visit_id,url\n",
        ")"
      ]
    },
    {
      "cell_type": "code",
      "execution_count": null,
      "metadata": {},
      "outputs": [],
      "source": [
        "%%sql\n",
        "WITH a AS (\n",
        "SELECT visit_id,script_url\n",
        "FROM javascript\n",
        "GROUP BY visit_id,script_url\n",
        ")\n",
        "SELECT COUNT(*)\n",
        "FROM a"
      ]
    },
    {
      "cell_type": "code",
      "execution_count": null,
      "metadata": {},
      "outputs": [],
      "source": [
        "%%sql\n",
        "SELECT * \n",
        "FROM javascript\n",
        "where script_url = \"https://www.apa.org/ter-treafter-not-it-the-Flourthe-Cere-and-that-S\"\n",
        "LIMIT 2000"
      ]
    },
    {
      "cell_type": "code",
      "execution_count": null,
      "metadata": {},
      "outputs": [],
      "source": [
        "%%sql\n",
        "SELECT *\n",
        "FROM javascript\n",
        "WHERE symbol = \"window.navigator.webdriver\"\n",
        "LIMIT 10"
      ]
    },
    {
      "cell_type": "code",
      "execution_count": null,
      "metadata": {},
      "outputs": [],
      "source": [
        "%%sql\n",
        "SELECT COUNT(DISTINCT script_url) as n, arguments\n",
        "FROM javascript\n",
        "WHERE symbol = \"window.matchMedia\" AND arguments like \"%null%\"\n",
        "GROUP BY arguments\n",
        "ORDER BY n DESC\n",
        "LIMIT 40"
      ]
    },
    {
      "cell_type": "code",
      "execution_count": null,
      "metadata": {},
      "outputs": [],
      "source": [
        "%%sql\n",
        "SELECT visit_id,script_url, COUNT(DISTINCT arguments) as n\n",
        "FROM javascript\n",
        "WHERE symbol = \"window.matchMedia\"\n",
        "GROUP BY visit_id,script_url\n",
        "ORDER BY n desc\n",
        "LIMIT 40"
      ]
    },
    {
      "cell_type": "code",
      "execution_count": null,
      "metadata": {},
      "outputs": [],
      "source": []
    },
    {
      "cell_type": "code",
      "execution_count": null,
      "metadata": {},
      "outputs": [],
      "source": [
        "# %load_ext sql\n",
        "# symbols = {}\n",
        "# for path in Path(\"/home/ndanner_plp/OpenWPM/crawl-data\").iterdir():\n",
        "#     if path.is_dir() and re.match(\"^datadir\" ,path.name):\n",
        "#         %sql sqlite:///{path}/crawl-data.sqlite\n",
        "#         result = %sql SELECT DISTINCT(symbol) FROM javascript\n",
        "#         if result:\n",
        "#             for symbol in result.DataFrame()['symbol']:\n",
        "#                 if symbol in symbols:\n",
        "#                     symbols[symbol].append(path.name)\n",
        "#                 else:\n",
        "#                     symbols[symbol] = [path.name]\n",
        "# print( json.dumps( symbols, indent= 4 ) )"
      ]
    },
    {
      "attachments": {},
      "cell_type": "markdown",
      "metadata": {},
      "source": [
        "OfflineAudioContext"
      ]
    },
    {
      "cell_type": "code",
      "execution_count": null,
      "metadata": {},
      "outputs": [],
      "source": [
        "%%sql\n",
        "SELECT *\n",
        "FROM javascript\n",
        "LIMIT 10"
      ]
    },
    {
      "cell_type": "code",
      "execution_count": null,
      "metadata": {},
      "outputs": [],
      "source": [
        "%%sql\n",
        "WITH a AS (\n",
        "SELECT visit_id,url, COUNT(*) as n\n",
        "FROM http_responses\n",
        "WHERE content_hash <> \"\"\n",
        "GROUP BY visit_id,url\n",
        "ORDER BY n DESC\n",
        ")\n",
        "SELECT a.visit_id, site_visits.site_url, a.url, a.n\n",
        "FROM a\n",
        "INNER JOIN site_visits\n",
        "ON a.visit_id = site_visits.visit_id\n",
        "LIMIT 20\n"
      ]
    },
    {
      "cell_type": "code",
      "execution_count": null,
      "metadata": {},
      "outputs": [],
      "source": [
        "%%sql\n",
        "WITH a AS (\n",
        "SELECT visit_id,url, COUNT( DISTINCT content_hash ) as unique_content_hashs\n",
        "FROM http_responses\n",
        "WHERE content_hash <> \"\"\n",
        "GROUP BY visit_id,url\n",
        "ORDER BY unique_content_hashs DESC\n",
        ")\n",
        "SELECT a.visit_id, site_visits.site_url, a.url, a.unique_content_hashs\n",
        "FROM a\n",
        "INNER JOIN site_visits\n",
        "ON a.visit_id = site_visits.visit_id\n",
        "LIMIT 10\n"
      ]
    },
    {
      "cell_type": "code",
      "execution_count": null,
      "metadata": {},
      "outputs": [],
      "source": [
        "%%sql\n",
        "SELECT content_hash\n",
        "FROM http_responses\n",
        "WHERE visit_id = \"5244274392029786\" AND url = \"https://biptolyla.com/auW.ZNyzQu2r9FkyZnT/9U6gbE2C5mlFS/WvQT9RNPDlE/4OMrjrk/0HN/Cc0N0/MLT/g/yNOkTTQK1ZJPnEB-1KcV2-hiaRbO2/5/lGS/WeQs9iNIDeEZ4rMtjTkS0/NVCI0R0UMWT/gwy/OlTQQ/1R\"\n",
        "GROUP BY content_hash"
      ]
    },
    {
      "cell_type": "code",
      "execution_count": null,
      "metadata": {},
      "outputs": [],
      "source": [
        "import difflib\n",
        "from pprint import pprint\n",
        "\n",
        "\n",
        "x = difflib.Differ()\n",
        "str1 = str( db.get(b\"338359dbbf86b03f293159f6673b33f7f87a0ab0a6930df27bfc69582b824748\"), encoding=\"utf-8\")\n",
        "str2 = str( db.get(b\"339f38f18297db8afa9cdd0f873676e520ab736af47643d682ac158900f78913\"), encoding=\"utf-8\")\n",
        "cmp = x.compare( str1.splitlines(keepends=True), str2.splitlines(keepends=True)  )\n",
        "for line in filter(lambda s : s[0] == \"+\" or s[0] == \"-\", cmp ):\n",
        "    print(line,end = \"\\n\\n\\n\\n\")\n"
      ]
    },
    {
      "cell_type": "code",
      "execution_count": null,
      "metadata": {},
      "outputs": [],
      "source": [
        "%%sql\n",
        "SELECT *\n",
        "FROM site_visits\n",
        "WHERE visit_id = \"7805288562003358\" OR visit_id = \"6723308048261410\""
      ]
    },
    {
      "cell_type": "code",
      "execution_count": null,
      "metadata": {},
      "outputs": [],
      "source": [
        "r = requests.get(\"http://localhost:8000\", params={})"
      ]
    },
    {
      "cell_type": "code",
      "execution_count": null,
      "metadata": {},
      "outputs": [],
      "source": [
        "r.text"
      ]
    },
    {
      "cell_type": "code",
      "execution_count": null,
      "metadata": {},
      "outputs": [],
      "source": []
    }
  ],
  "metadata": {
    "kernelspec": {
      "display_name": "Python 3",
      "language": "python",
      "name": "python3"
    },
    "language_info": {
      "codemirror_mode": {
        "name": "ipython",
        "version": 3
      },
      "file_extension": ".py",
      "mimetype": "text/x-python",
      "name": "python",
      "nbconvert_exporter": "python",
      "pygments_lexer": "ipython3",
      "version": "3.11.0"
    },
    "orig_nbformat": 4,
    "vscode": {
      "interpreter": {
        "hash": "8fa06f303b1b4e60701d0a8101971282972f2db52226d4c9817dd0a37991a141"
      }
    }
  },
  "nbformat": 4,
  "nbformat_minor": 2
}
