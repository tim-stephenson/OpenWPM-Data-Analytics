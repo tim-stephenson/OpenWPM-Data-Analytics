{
  "cells": [
    {
      "cell_type": "code",
      "execution_count": null,
      "metadata": {},
      "outputs": [],
      "source": [
        "import sys\n",
        "import os\n",
        "from pathlib import Path\n",
        "from sqlalchemy.engine import Engine\n",
        "from sqlalchemy import create_engine, URL, text ,CursorResult\n",
        "import plyvel\n",
        "from typing import Any\n",
        "%reload_ext sql\n",
        "\n",
        "parent_path : Path = Path(sys.path[0]).parent.resolve()\n",
        "if str(parent_path) not in sys.path:\n",
        "    sys.path.append(str(parent_path))\n",
        "\n",
        "from main.utils.runHealth import runHealth\n",
        "\n",
        "# EDIT THIS LINE TO THE OPENWPM DATA WISH TO ANALYZE\n",
        "datadir_path : Path = Path('/home/ndanner_plp/OpenWPM/crawl-data/datadir-0-10000')\n",
        "database_url : URL = URL.create(drivername = \"sqlite\", database = str(datadir_path.joinpath(\"crawl-data.sqlite\")) )\n",
        "os.environ[\"DATABASE_URL\"] = str(database_url)\n",
        "engine : Engine = create_engine(database_url)\n",
        "# if 'db' not in locals():\n",
        "#     db : Any = plyvel.DB( str(datadir_path.joinpath(\"leveldb\")) ) #type: ignore\n"
      ]
    },
    {
      "cell_type": "code",
      "execution_count": null,
      "metadata": {},
      "outputs": [],
      "source": [
        "%%sql\n",
        "SELECT *\n",
        "FROM analysis_results\n",
        "LIMIT 10"
      ]
    },
    {
      "cell_type": "code",
      "execution_count": null,
      "metadata": {},
      "outputs": [],
      "source": [
        "%%sql\n",
        "SELECT *\n",
        "FROM sqlite_master"
      ]
    },
    {
      "cell_type": "code",
      "execution_count": null,
      "metadata": {},
      "outputs": [],
      "source": [
        "%%sql\n",
        "DROP TABLE analysis_results"
      ]
    },
    {
      "cell_type": "code",
      "execution_count": null,
      "metadata": {},
      "outputs": [],
      "source": [
        "%%sql\n",
        "SELECT COUNT(DISTINCT visit_id) \n",
        "FROM http_responses\n",
        "WHERE response_status LIKE \"2%\""
      ]
    },
    {
      "cell_type": "code",
      "execution_count": null,
      "metadata": {},
      "outputs": [],
      "source": [
        " \n",
        "%%sql\n",
        "SELECT response_status\n",
        "FROM http_responses \n",
        "LIMIT 10"
      ]
    },
    {
      "cell_type": "code",
      "execution_count": null,
      "metadata": {},
      "outputs": [],
      "source": [
        "n, s = runHealth(engine)\n",
        "print(f\"total visits: {n}, failed/incomplete visits: {s}. Success percentage: {round(100* (s/n)) }%\")"
      ]
    },
    {
      "cell_type": "code",
      "execution_count": null,
      "metadata": {},
      "outputs": [],
      "source": [
        "%%sql\n",
        "SELECT visit_id, script_url, symbol, arguments, value, operation\n",
        "FROM javascript\n",
        "WHERE (visit_id,script_url) in (SELECT visit_id, url FROM http_responses WHERE content_hash = \"0a63a423ac8fe788bf0660a1198d3b4288eef68f1d98892d4f86d151c3fe176d\")"
      ]
    },
    {
      "cell_type": "code",
      "execution_count": null,
      "metadata": {},
      "outputs": [],
      "source": [
        "%%sql\n",
        "SELECT visit_id, url FROM http_responses WHERE content_hash = \"0a63a423ac8fe788bf0660a1198d3b4288eef68f1d98892d4f86d151c3fe176d\""
      ]
    },
    {
      "cell_type": "code",
      "execution_count": null,
      "metadata": {},
      "outputs": [],
      "source": [
        "%%sql\n",
        "SELECT name FROM pragma_table_info('analysis_results')\n",
        "WHERE name = \"Canvas_Font_1M_Static\""
      ]
    },
    {
      "cell_type": "code",
      "execution_count": null,
      "metadata": {},
      "outputs": [],
      "source": [
        "%%sql\n",
        "SELECT DISTINCT value\n",
        "FROM javascript\n",
        "WHERE symbol = \"HTMLCanvasElement.height\" OR \"HTMLCanvasElement.width\""
      ]
    },
    {
      "cell_type": "code",
      "execution_count": null,
      "metadata": {},
      "outputs": [],
      "source": [
        "%%sql\n",
        "SELECT COUNT(*)\n",
        "FROM analysis_results\n",
        "WHERE Canvas_1M_Static = 0 AND Canvas_1M_Dynamic = 1\n",
        "LIMIT 10"
      ]
    },
    {
      "cell_type": "code",
      "execution_count": null,
      "metadata": {},
      "outputs": [],
      "source": [
        "%%sql\n",
        "SELECT COUNT(*) as n\n",
        "FROM analysis_results"
      ]
    },
    {
      "cell_type": "code",
      "execution_count": null,
      "metadata": {},
      "outputs": [],
      "source": [
        "# %%sql [\"Cwm fjordbank glyphs vext quiz,\"\n",
        "\n",
        "\n",
        "with engine.connect() as conn:\n",
        "    result: CursorResult[Any] = conn.execute(text(\"\"\"\n",
        "SELECT DISTINCT(value) \n",
        "FROM analysis_results AS ar\n",
        "INNER JOIN javascript AS js\n",
        "ON ar.visit_id = js.visit_id AND ar.script_url = js.script_url\n",
        "WHERE ar.Canvas_Font_1M_Dynamic = True\n",
        "AND js.symbol = \"CanvasRenderingContext2D.font\"\n",
        "LIMIT 1000 \n",
        "    \"\"\"))\n",
        "print( list(map(lambda row : row[0], result.all()) ) ) \n"
      ]
    },
    {
      "cell_type": "code",
      "execution_count": null,
      "metadata": {},
      "outputs": [],
      "source": [
        "%%sql\n",
        "SELECT js.symbol, js.value, js.arguments, js.operation, js.visit_id, SUBSTRING(js.script_url,1, 32)\n",
        "FROM analysis_results AS ar\n",
        "INNER JOIN javascript AS js\n",
        "ON ar.visit_id = js.visit_id AND ar.script_url = js.script_url\n",
        "WHERE ar.WebGL_Dynamic = True\n",
        "AND ( js.symbol LIKE \"WebGLRenderingContext%\" OR js.symbol = \"CanvasRenderingContext2D.fillText\" )\n",
        "ORDER BY js.visit_id, js.script_url"
      ]
    },
    {
      "cell_type": "code",
      "execution_count": null,
      "metadata": {},
      "outputs": [],
      "source": [
        "%%sql\n",
        "WITH a AS(\n",
        "SELECT COUNT(*)\n",
        "FROM javascript AS js\n",
        "WHERE (js.visit_id, js.script_url) IN (SELECT visit_id, script_url FROM analysis_results WHERE WebGL_Dynamic = True )\n",
        "AND (js.visit_id, js.script_url) IN (SELECT DISTINCT visit_id, url  FROM http_responses WHERE content_hash <>\"\")\n",
        "AND js.symbol = \"CanvasRenderingContext2D.fillText\" \n",
        "AND js.arguments LIKE '[\"Cwm fjordbank glyphs vext quiz%'\n",
        "GROUP BY js.visit_id, js.script_url\n",
        ")\n",
        "SELECT COUNT(*)\n",
        "FROM a"
      ]
    },
    {
      "cell_type": "code",
      "execution_count": null,
      "metadata": {},
      "outputs": [],
      "source": [
        "%%sql \n",
        "WITH a AS(\n",
        "SELECT COUNT(*)\n",
        "FROM javascript AS js\n",
        "WHERE (js.visit_id, js.script_url) IN (SELECT visit_id, script_url FROM analysis_results WHERE WebGL_Dynamic = True )\n",
        "AND (js.visit_id, js.script_url) IN (SELECT DISTINCT visit_id, url  FROM http_responses WHERE content_hash <>\"\")\n",
        "GROUP BY js.visit_id, js.script_url\n",
        ")\n",
        "SELECT COUNT(*)\n",
        "FROM a"
      ]
    },
    {
      "cell_type": "code",
      "execution_count": null,
      "metadata": {},
      "outputs": [],
      "source": [
        "%%sql \n",
        "WITH domain AS(\n",
        "SELECT *\n",
        "FROM javascript AS js\n",
        "WHERE (js.visit_id, js.script_url) IN (SELECT visit_id, script_url FROM analysis_results WHERE WebGL_Dynamic = True )\n",
        "AND (js.visit_id, js.script_url) IN (SELECT DISTINCT visit_id, url  FROM http_responses WHERE content_hash <>\"\")\n",
        "),\n",
        "total AS(\n",
        "SELECT COUNT(*) AS total\n",
        "FROM ( SELECT DISTINCT visit_id, script_url\n",
        "    FROM domain\n",
        ")\n",
        "),\n",
        "b AS(\n",
        "SELECT COUNT(*) AS using_fillText_questionably\n",
        "FROM ( SELECT * FROM \n",
        "    domain AS js\n",
        "    WHERE js.symbol = \"CanvasRenderingContext2D.fillText\" \n",
        "    AND js.arguments LIKE '[\"Cwm fjordbank glyphs vext quiz%'\n",
        "    GROUP BY js.visit_id, js.script_url\n",
        ")\n",
        ")\n",
        "SELECT *\n",
        "FROM total, b"
      ]
    },
    {
      "cell_type": "code",
      "execution_count": null,
      "metadata": {},
      "outputs": [],
      "source": [
        "%%sql\n",
        "WITH a AS(\n",
        "    SELECT DISTINCT visit_id,url\n",
        "    FROM http_responses\n",
        "    WHERE content_hash <> \"\"\n",
        "), b AS(\n",
        "    SELECT DISTINCT visit_id,script_url\n",
        "    FROM javascript\n",
        "), c AS (\n",
        "    SELECT COUNT(*) AS n\n",
        "    FROM a\n",
        "    INNER JOIN b\n",
        "    ON a.visit_id = b.visit_id AND a.url = b.script_url\n",
        "), a_count AS (\n",
        "    SELECT COUNT(*) AS n\n",
        "    FROM a\n",
        "), b_count AS (\n",
        "    SELECT COUNT(*) AS n\n",
        "    FROM b\n",
        ")\n",
        "SELECT a_count.n, b_count.n, c.n\n",
        "FROM a_count,b_count,c"
      ]
    },
    {
      "cell_type": "code",
      "execution_count": null,
      "metadata": {},
      "outputs": [],
      "source": [
        "%%sql\n",
        "WITH a AS(\n",
        "    SELECT DISTINCT visit_id,url\n",
        "    FROM http_responses\n",
        "    WHERE content_hash <> \"\"\n",
        ")\n",
        "SELECT COUNT(*)\n",
        "FROM a"
      ]
    },
    {
      "cell_type": "code",
      "execution_count": null,
      "metadata": {},
      "outputs": [],
      "source": [
        "%%sql\n",
        "SELECT COUNT(*)\n",
        "FROM (\n",
        "SELECT DISTINCT visit_id,url\n",
        "FROM http_responses\n",
        "WHERE content_hash <> \"\"\n",
        ")"
      ]
    },
    {
      "cell_type": "code",
      "execution_count": null,
      "metadata": {},
      "outputs": [],
      "source": [
        "%%sql\n",
        "SELECT incomplete_visits.visit_id, site_visits.site_url\n",
        "FROM incomplete_visits\n",
        "INNER JOIN site_visits \n",
        "ON incomplete_visits.visit_id = site_visits.visit_id\n",
        "LIMIT 10"
      ]
    },
    {
      "cell_type": "code",
      "execution_count": null,
      "metadata": {},
      "outputs": [],
      "source": [
        "%%sql\n",
        "SELECT symbol, count(DISTINCT visit_id) AS n_sites, count(*) as n\n",
        "FROM javascript\n",
        "GROUP BY symbol\n",
        "ORDER BY symbol"
      ]
    },
    {
      "cell_type": "code",
      "execution_count": null,
      "metadata": {},
      "outputs": [],
      "source": [
        "%%sql\n",
        "SELECT COUNT(*)\n",
        "FROM (\n",
        "SELECT DISTINCT visit_id,url\n",
        "FROM http_responses\n",
        "WHERE content_hash <> \"\"\n",
        ")\n"
      ]
    },
    {
      "cell_type": "code",
      "execution_count": null,
      "metadata": {},
      "outputs": [],
      "source": [
        "%%sql\n",
        "SELECT COUNT(*) FROM (\n",
        "SELECT visit_id,url\n",
        "FROM http_responses\n",
        "WHERE content_hash <> \"\"\n",
        "GROUP BY visit_id,url\n",
        ")"
      ]
    },
    {
      "cell_type": "code",
      "execution_count": null,
      "metadata": {},
      "outputs": [],
      "source": [
        "%%sql\n",
        "WITH a AS (\n",
        "SELECT visit_id,script_url\n",
        "FROM javascript\n",
        "GROUP BY visit_id,script_url\n",
        ")\n",
        "SELECT COUNT(*)\n",
        "FROM a"
      ]
    },
    {
      "cell_type": "code",
      "execution_count": null,
      "metadata": {},
      "outputs": [],
      "source": [
        "%%sql\n",
        "SELECT value, COUNT(*) AS n\n",
        "FROM javascript\n",
        "WHERE symbol = \"CanvasRenderingContext2D.font\"\n",
        "GROUP BY value\n",
        "ORDER BY n DESC"
      ]
    },
    {
      "cell_type": "code",
      "execution_count": null,
      "metadata": {},
      "outputs": [],
      "source": [
        "%%sql\n",
        "SELECT *\n",
        "FROM javascript\n",
        "WHERE symbol = \"window.navigator.webdriver\"\n",
        "LIMIT 10"
      ]
    },
    {
      "cell_type": "code",
      "execution_count": null,
      "metadata": {},
      "outputs": [],
      "source": [
        "%%sql\n",
        "SELECT COUNT(DISTINCT script_url) as n, arguments\n",
        "FROM javascript\n",
        "WHERE symbol = \"window.matchMedia\" AND arguments like \"%null%\"\n",
        "GROUP BY arguments\n",
        "ORDER BY n DESC\n",
        "LIMIT 40"
      ]
    },
    {
      "cell_type": "code",
      "execution_count": null,
      "metadata": {},
      "outputs": [],
      "source": [
        "%%sql\n",
        "SELECT visit_id,script_url, COUNT(DISTINCT arguments) as n\n",
        "FROM javascript\n",
        "WHERE symbol = \"window.matchMedia\"\n",
        "GROUP BY visit_id,script_url\n",
        "ORDER BY n desc\n",
        "LIMIT 40"
      ]
    },
    {
      "cell_type": "code",
      "execution_count": null,
      "metadata": {},
      "outputs": [],
      "source": []
    },
    {
      "cell_type": "code",
      "execution_count": null,
      "metadata": {},
      "outputs": [],
      "source": [
        "# %load_ext sql\n",
        "# symbols = {}\n",
        "# for path in Path(\"/home/ndanner_plp/OpenWPM/crawl-data\").iterdir():\n",
        "#     if path.is_dir() and re.match(\"^datadir\" ,path.name):\n",
        "#         %sql sqlite:///{path}/crawl-data.sqlite\n",
        "#         result = %sql SELECT DISTINCT(symbol) FROM javascript\n",
        "#         if result:\n",
        "#             for symbol in result.DataFrame()['symbol']:\n",
        "#                 if symbol in symbols:\n",
        "#                     symbols[symbol].append(path.name)\n",
        "#                 else:\n",
        "#                     symbols[symbol] = [path.name]\n",
        "# print( json.dumps( symbols, indent= 4 ) )"
      ]
    },
    {
      "attachments": {},
      "cell_type": "markdown",
      "metadata": {},
      "source": [
        "OfflineAudioContext"
      ]
    },
    {
      "cell_type": "code",
      "execution_count": null,
      "metadata": {},
      "outputs": [],
      "source": [
        "%%sql\n",
        "SELECT *\n",
        "FROM javascript\n",
        "LIMIT 10"
      ]
    },
    {
      "cell_type": "code",
      "execution_count": null,
      "metadata": {},
      "outputs": [],
      "source": [
        "%%sql\n",
        "WITH a AS (\n",
        "SELECT visit_id,url, COUNT(*) as n\n",
        "FROM http_responses\n",
        "WHERE content_hash <> \"\"\n",
        "GROUP BY visit_id,url\n",
        "ORDER BY n DESC\n",
        ")\n",
        "SELECT a.visit_id, site_visits.site_url, a.url, a.n\n",
        "FROM a\n",
        "INNER JOIN site_visits\n",
        "ON a.visit_id = site_visits.visit_id\n",
        "LIMIT 20\n"
      ]
    },
    {
      "cell_type": "code",
      "execution_count": null,
      "metadata": {},
      "outputs": [],
      "source": [
        "%%sql\n",
        "WITH a AS (\n",
        "SELECT visit_id,url, COUNT( DISTINCT content_hash ) as unique_content_hashs\n",
        "FROM http_responses\n",
        "WHERE content_hash <> \"\"\n",
        "GROUP BY visit_id,url\n",
        "ORDER BY unique_content_hashs DESC\n",
        ")\n",
        "SELECT a.visit_id, site_visits.site_url, a.url, a.unique_content_hashs\n",
        "FROM a\n",
        "INNER JOIN site_visits\n",
        "ON a.visit_id = site_visits.visit_id\n",
        "LIMIT 10\n"
      ]
    },
    {
      "cell_type": "code",
      "execution_count": null,
      "metadata": {},
      "outputs": [],
      "source": [
        "%%sql\n",
        "SELECT *\n",
        "FROM http_responses\n",
        "INNER JOIN site_visits\n",
        "ON http_responses.visit_id = site_visits.visit_id\n",
        "WHERE content_hash = \"05240d0cdb821c6dedf4415fc448ae647edd3c3e286b43326c90c23756fa03e9\" OR content_hash = \"05e40ba8a6356921bf56db6cc53f34da4ca2e3ca5d63257dd965f0ff43705e93\" OR content_hash = \"072ed7ea062924ed3060069434fee5a33d0ad1910f1d8dc1d82d8ec4e6bb558a\""
      ]
    },
    {
      "cell_type": "code",
      "execution_count": null,
      "metadata": {},
      "outputs": [],
      "source": [
        "# url LIKE \"%cdn-cgi/challenge-platform/_/_/scripts/pica.js\" "
      ]
    },
    {
      "cell_type": "code",
      "execution_count": null,
      "metadata": {},
      "outputs": [],
      "source": [
        "%%sql\n",
        "WITH a AS(\n",
        "SELECT *\n",
        "FROM http_responses AS hr\n",
        "WHERE EXISTS (\n",
        "    SELECT *\n",
        "    FROM analysis_results\n",
        "    WHERE Canvas_Basic_Dynamic IS NULL AND Canvas_Basic_Static = 1 AND visit_id = hr.visit_id AND script_url = hr.url\n",
        ")\n",
        "AND url LIKE \"%cdn-cgi/challenge-platform/_/_/scripts/pica.js\"\n",
        "GROUP BY visit_id,url\n",
        ")\n",
        "SELECT COUNT(*) \n",
        "FROM a\n"
      ]
    },
    {
      "cell_type": "code",
      "execution_count": null,
      "metadata": {},
      "outputs": [],
      "source": [
        "%%sql    \n",
        "    SELECT visit_id,script_url AS url\n",
        "    FROM analysis_results\n",
        "    WHERE Canvas_Basic_Dynamic IS NULL AND Canvas_Basic_Static = 1"
      ]
    },
    {
      "cell_type": "code",
      "execution_count": null,
      "metadata": {},
      "outputs": [],
      "source": [
        "%%sql\n",
        "WITH a AS(\n",
        "SELECT visit_id, url AS script_url\n",
        "FROM http_responses\n",
        "WHERE content_hash = \"2c06da86e7d6909e109262d832294260ba8aa5b121eafcb204e568a71493fd1b\"\n",
        ")\n",
        "SELECT *\n",
        "FROM javascript\n",
        "WHERE (visit_id,script_url) IN a \n",
        "LIMIT 300"
      ]
    },
    {
      "cell_type": "code",
      "execution_count": null,
      "metadata": {},
      "outputs": [],
      "source": [
        "import difflib\n",
        "from pprint import pprint\n",
        "\n",
        "\n",
        "x = difflib.Differ()\n",
        "str1 = str( db.get(b\"338359dbbf86b03f293159f6673b33f7f87a0ab0a6930df27bfc69582b824748\"), encoding=\"utf-8\")\n",
        "str2 = str( db.get(b\"339f38f18297db8afa9cdd0f873676e520ab736af47643d682ac158900f78913\"), encoding=\"utf-8\")\n",
        "cmp = x.compare( str1.splitlines(keepends=True), str2.splitlines(keepends=True)  )\n",
        "for line in filter(lambda s : s[0] == \"+\" or s[0] == \"-\", cmp ):\n",
        "    print(line,end = \"\\n\\n\\n\\n\")\n"
      ]
    },
    {
      "cell_type": "code",
      "execution_count": null,
      "metadata": {},
      "outputs": [],
      "source": [
        "%%sql\n",
        "SELECT *\n",
        "FROM site_visits\n",
        "WHERE visit_id = \"7805288562003358\" OR visit_id = \"6723308048261410\""
      ]
    },
    {
      "cell_type": "code",
      "execution_count": null,
      "metadata": {},
      "outputs": [],
      "source": [
        "r = requests.get(\"http://localhost:8000\", params={})"
      ]
    },
    {
      "cell_type": "code",
      "execution_count": null,
      "metadata": {},
      "outputs": [],
      "source": [
        "r.text"
      ]
    },
    {
      "cell_type": "code",
      "execution_count": null,
      "metadata": {},
      "outputs": [],
      "source": []
    }
  ],
  "metadata": {
    "kernelspec": {
      "display_name": "Python 3",
      "language": "python",
      "name": "python3"
    },
    "language_info": {
      "codemirror_mode": {
        "name": "ipython",
        "version": 3
      },
      "file_extension": ".py",
      "mimetype": "text/x-python",
      "name": "python",
      "nbconvert_exporter": "python",
      "pygments_lexer": "ipython3",
      "version": "3.11.0"
    },
    "orig_nbformat": 4,
    "vscode": {
      "interpreter": {
        "hash": "8fa06f303b1b4e60701d0a8101971282972f2db52226d4c9817dd0a37991a141"
      }
    }
  },
  "nbformat": 4,
  "nbformat_minor": 2
}
